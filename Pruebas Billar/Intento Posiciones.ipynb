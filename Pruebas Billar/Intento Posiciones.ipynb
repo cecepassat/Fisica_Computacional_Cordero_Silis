{
 "cells": [
  {
   "cell_type": "code",
   "execution_count": 2,
   "metadata": {},
   "outputs": [],
   "source": [
    "using PyPlot"
   ]
  },
  {
   "cell_type": "code",
   "execution_count": 3,
   "metadata": {},
   "outputs": [
    {
     "data": {
      "image/png": "[encoded data removed]",
      "text/plain": [
       "PyPlot.Figure(PyObject <matplotlib.figure.Figure object at 0x7f8848056750>)"
      ]
     },
     "metadata": {},
     "output_type": "display_data"
    }
   ],
   "source": [
    "posBarrx1=5.0 #deilimitamos al rectangulo\n",
    "posBarrx2=-5.0 \n",
    "posBarry1=4.0\n",
    "posBarry2=-4.0\n",
    "\n",
    "err=0.25\n",
    "it=0  #iteracion\n",
    "\n",
    "posx=zeros(1000); #posicion en x\n",
    "posy=zeros(1000);#posicion en y\n",
    "x0=0.;#posicion en x         ya se definio\n",
    "y0=0.;#posicion en y         Ya se definieron las dos\n",
    "vy=.1\n",
    "vx=2\n",
    "t=linspace(0,10,1000);\n",
    "\n",
    "\n",
    "\n",
    "for j in 1:3\n",
    "    \n",
    "   for i in 1:1000\n",
    "    x=x0+vx*t[i]\n",
    "    y=y0+vy*t[i]\n",
    "    posx[i]=x;\n",
    "    posy[i]=y; \n",
    "    end \n",
    "    \n",
    "        \n",
    "      \n",
    "\n",
    "        for i in 1:1000\n",
    "            \n",
    "            ## Choque pared derecha\n",
    "            if abs(posx[i]-posBarrx1)<err && abs(posy[i])< posBarry1 && posx[i]>0\n",
    "            #println(j,\"        \",posx[i],\"             \",posy[i],\"             \", t[i],\"      a     \", abs(posx[i]-posBarrx1)) \n",
    "            it=i #iteracion en la que chocan\n",
    "            vx=-vx\n",
    "            \n",
    "            ## Choque pared arriba\n",
    "            elseif abs(posy[i]-posBarry1)<err && abs(posx[i])<posBarrx1 && posy[i]>0\n",
    "            println(j,\"        \",posx[i],\"             \",posy[i],\"             \", t[i],\"       b     \", abs(posy[i]-posBarry1)) \n",
    "            it=i #iteracion en la que chocan  v\n",
    "            vy=-1*vy            \n",
    "           \n",
    "            ## Choque pared izquierda\n",
    "            elseif abs(posx[i]-posBarrx2)<err && abs(posy[i])< posBarry1 && posx[i]<0\n",
    "            #println(j,\"        \", posx[i],\"            \",posy[i],\"         \", t[i], \"   c     \", abs(-posx[i]-posBarrx1)) \n",
    "            it=i #iteracion en la que chocan\n",
    "            vx=-vx\n",
    "            \n",
    "            ## Choque pared abajo\n",
    "            elseif abs(posy[i]-posBarry2)<err && abs(posx[i])<posBarrx1 && posy[i]<0 #2\n",
    "            #println(j,\"        \",posx[i],\"            \",posy[i],\"             \", t[i], \"      d    \", abs(-posy[i]-posBarry1)) \n",
    "            it=i #iteracion en la que chocan\n",
    "            vy=-vy\n",
    "        end   \n",
    "    \n",
    "    end\n",
    "   \n",
    "x0=posx[it]\n",
    "y0=posy[it]\n",
    "\n",
    "plot(posx, posy)\n",
    "grid(\"on\")\n",
    "plot([-5,5],[-4,-4],linestyle=\"-\",linewidth=.8)\n",
    "plot([-5,5],[4,4],linestyle=\"-\",linewidth=.8)\n",
    "plot([-5,-5],[-4,4],linestyle=\"-\",linewidth=.8)\n",
    "plot([5,5],[-4,4],linestyle=\"-\",linewidth=.8)\n",
    "xlim(-10, 10)\n",
    "ylim(-10, 10)\n",
    "end"
   ]
  },
  {
   "cell_type": "code",
   "execution_count": null,
   "metadata": {},
   "outputs": [],
   "source": []
  }
 ],
 "metadata": {
  "kernelspec": {
   "display_name": "Julia 0.5.2",
   "language": "julia",
   "name": "julia-0.5"
  },
  "language_info": {
   "file_extension": ".jl",
   "mimetype": "application/julia",
   "name": "julia",
   "version": "0.5.2"
  }
 },
 "nbformat": 4,
 "nbformat_minor": 2
}
