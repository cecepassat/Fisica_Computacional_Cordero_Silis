{
 "cells": [
  {
   "cell_type": "markdown",
   "metadata": {},
   "source": [
    "## Tarea 20"
   ]
  },
  {
   "cell_type": "markdown",
   "metadata": {},
   "source": [
    "## Formación del sistema de ecuaciones\n",
    "\n",
    "Como recuerda, su tarea básicamente consistió en encontrar el sistema de ecuaciones proveniente de la discretización de una ecuación de Laplace, con problemas a la frontera de Dirichlet y von Neumann. El siguiente ejemplo es lo mismo, pero en esta ocasión para un sistema bidimensional. \n",
    "\n",
    "### Ejemplo \n",
    "\n",
    "Para una malla de 5 por 6 resolver la ecuación de Laplace utilizando las condiciones  a la frontera siguiente: en la parte superior, toma los valores\n",
    "$\\{0, 70.7107, 100., 70.7107, 0\\}$ y en el resto de bordes es cero. El sistema\n",
    "de ecuaciones es el siguiente\n",
    "\n",
    "\n",
    "\\begin{align*}\n",
    "-4 f_{2,2}+f_{2,3}+f_{3,2}=0,\\\\f_{2,2}-4 f_{2,3}+f_{2,4}+f_{3,3}=0,\\\\f_{2,3}-4 f_{2,4}+f_{2,5}+f_{3,4}=0,\\\\f_{2,4}-4\n",
    "   f_{2,5}+f_{2,6}+f_{3,5}=0,\\\\f_{2,5}-4 f_{2,6}+f_{3,6}+70.7107=0,\\\\f_{2,2}-4 f_{3,2}+f_{3,3}+f_{4,2}=0,\\\\f_{2,3}+f_{3,2}-4\n",
    "   f_{3,3}+f_{3,4}+f_{4,3}=0,\\\\f_{2,4}+f_{3,3}-4 f_{3,4}+f_{3,5}+f_{4,4}=0,\\\\f_{2,5}+f_{3,4}-4 f_{3,5}+f_{3,6}+f_{4,5}=0,\\\\f_{2,6}+f_{3,5}-4\n",
    "   f_{3,6}+f_{4,6}+100.=0,\\\\f_{3,2}-4 f_{4,2}+f_{4,3}=0,\\\\f_{3,3}+f_{4,2}-4 f_{4,3}+f_{4,4}=0,\\\\f_{3,4}+f_{4,3}-4 f_{4,4}+f_{4,5}=0,\\\\f_{3,5}+f_{4,4}-4\n",
    "   f_{4,5}+f_{4,6}=0,\\\\f_{3,6}+f_{4,5}-4 f_{4,6}+70.7107=0.\n",
    "\\end{align*}\n",
    "\n",
    "El sistema de ecuaciones resultante es $A \\vec f +\\vec b= \\vec 0$ con $A$ igual a la siguiente matriz\n",
    "\n",
    "$$\n",
    "\\left(\n",
    "\\begin{array}{ccccccccccccccc}\n",
    " -4. & 1. & 0 & 0 & 0 & 1. & 0 & 0 & 0 & 0 & 0 & 0 & 0 & 0 & 0 \\\\\n",
    " 1. & -4. & 1. & 0 & 0 & 0 & 1. & 0 & 0 & 0 & 0 & 0 & 0 & 0 & 0 \\\\\n",
    " 0 & 1. & -4. & 1. & 0 & 0 & 0 & 1. & 0 & 0 & 0 & 0 & 0 & 0 & 0 \\\\\n",
    " 0 & 0 & 1. & -4. & 1. & 0 & 0 & 0 & 1. & 0 & 0 & 0 & 0 & 0 & 0 \\\\\n",
    " 0 & 0 & 0 & 1. & -4. & 0 & 0 & 0 & 0 & 1. & 0 & 0 & 0 & 0 & 0 \\\\\n",
    " 1. & 0 & 0 & 0 & 0 & -4. & 1. & 0 & 0 & 0 & 1. & 0 & 0 & 0 & 0 \\\\\n",
    " 0 & 1. & 0 & 0 & 0 & 1. & -4. & 1. & 0 & 0 & 0 & 1. & 0 & 0 & 0 \\\\\n",
    " 0 & 0 & 1. & 0 & 0 & 0 & 1. & -4. & 1. & 0 & 0 & 0 & 1. & 0 & 0 \\\\\n",
    " 0 & 0 & 0 & 1. & 0 & 0 & 0 & 1. & -4. & 1. & 0 & 0 & 0 & 1. & 0 \\\\\n",
    " 0 & 0 & 0 & 0 & 1. & 0 & 0 & 0 & 1. & -4. & 0 & 0 & 0 & 0 & 1. \\\\\n",
    " 0 & 0 & 0 & 0 & 0 & 1. & 0 & 0 & 0 & 0 & -4. & 1. & 0 & 0 & 0 \\\\\n",
    " 0 & 0 & 0 & 0 & 0 & 0 & 1. & 0 & 0 & 0 & 1. & -4. & 1. & 0 & 0 \\\\\n",
    " 0 & 0 & 0 & 0 & 0 & 0 & 0 & 1. & 0 & 0 & 0 & 1. & -4. & 1. & 0 \\\\\n",
    " 0 & 0 & 0 & 0 & 0 & 0 & 0 & 0 & 1. & 0 & 0 & 0 & 1. & -4. & 1. \\\\\n",
    " 0 & 0 & 0 & 0 & 0 & 0 & 0 & 0 & 0 & 1. & 0 & 0 & 0 & 1. & -4. \\\\\n",
    "\\end{array}\n",
    "\\right)\n",
    "$$\n",
    "y $b$ de la forma\n",
    "\n",
    "$$\n",
    "(0.,0.,0.,0.,70.7107,0.,0.,0.,0.,100.,0.,0.,0.,0.,70.7107)^T.\n",
    "$$\n",
    "\n",
    "La solución a este sistema es $\\vec f=-A^{-1}\\vec b$."
   ]
  },
  {
   "cell_type": "markdown",
   "metadata": {},
   "source": [
    "__Tarea 20: Ejercicio 1 (Martes 14 de Noviembre):__ Crear una rutina que construya $A$ y $\\vec b$ para este sistema. Resuelvalo utilizando la función `inv` y grafique $\\vec f$ utilizando la funcion `pcolormesh`. Recuerde que aqui $\\vec f$ es un vector, para volverlo de nuevo una matriz con entradas $f_{i,j}$ pueden usar la función `reshape`."
   ]
  },
  {
   "cell_type": "code",
   "execution_count": 1,
   "metadata": {},
   "outputs": [],
   "source": [
    "using PyPlot"
   ]
  },
  {
   "cell_type": "code",
   "execution_count": 2,
   "metadata": {},
   "outputs": [
    {
     "data": {
      "text/plain": [
       "15-element Array{Float64,1}:\n",
       "   0.0   \n",
       "   0.0   \n",
       "   0.0   \n",
       "   0.0   \n",
       "  70.7107\n",
       "   0.0   \n",
       "   0.0   \n",
       "   0.0   \n",
       "   0.0   \n",
       " 100.0   \n",
       "   0.0   \n",
       "   0.0   \n",
       "   0.0   \n",
       "   0.0   \n",
       "  70.7107"
      ]
     },
     "execution_count": 2,
     "metadata": {},
     "output_type": "execute_result"
    }
   ],
   "source": [
    "## Definamos primero el vector b transpouesto como arriba:\n",
    "\n",
    "b=[0.,0.,0.,0.,70.7107,0.,0.,0.,0.,100.,0.,0.,0.,0.,70.7107]"
   ]
  },
  {
   "cell_type": "code",
   "execution_count": 3,
   "metadata": {},
   "outputs": [
    {
     "data": {
      "text/plain": [
       "15×15 Array{Int64,2}:\n",
       " -4   1   0   0   0   1   0   0   0   0   0   0   0   0   0\n",
       "  1  -4   1   0   0   0   1   0   0   0   0   0   0   0   0\n",
       "  0   1  -4   1   0   0   0   1   0   0   0   0   0   0   0\n",
       "  0   0   1  -4   1   0   0   0   1   0   0   0   0   0   0\n",
       "  0   0   0   1  -4   0   0   0   0   1   0   0   0   0   0\n",
       "  1   0   0   0   0  -4   1   0   0   0   1   0   0   0   0\n",
       "  0   1   0   0   0   1  -4   1   0   0   0   1   0   0   0\n",
       "  0   0   1   0   0   0   1  -4   1   0   0   0   1   0   0\n",
       "  0   0   0   1   0   0   0   1  -4   1   0   0   0   1   0\n",
       "  0   0   0   0   1   0   0   0   1  -4   0   0   0   0   1\n",
       "  0   0   0   0   0   1   0   0   0   0  -4   1   0   0   0\n",
       "  0   0   0   0   0   0   1   0   0   0   1  -4   1   0   0\n",
       "  0   0   0   0   0   0   0   1   0   0   0   1  -4   1   0\n",
       "  0   0   0   0   0   0   0   0   1   0   0   0   1  -4   1\n",
       "  0   0   0   0   0   0   0   0   0   1   0   0   0   1  -4"
      ]
     },
     "execution_count": 3,
     "metadata": {},
     "output_type": "execute_result"
    }
   ],
   "source": [
    "## Consideremos primero una matriz con elementos cero\n",
    "Matriz=[0]\n",
    "## A continuación llenamos cada uno de los cuadrantes, como lo pide el ejemplo de 0's, -4's y 1's, usando una matriz cuadrada de 15x15\n",
    "\n",
    "## Primero los impares (1,3)\n",
    "    for i in 1:4\n",
    "        push!(Matriz,float(-4))\n",
    "        push!(Matriz,float(1))\n",
    "        for j in 1:3\n",
    "            push!(Matriz,float(0))\n",
    "        end\n",
    "        push!(Matriz,float(1))\n",
    "        for j in 1:9\n",
    "            push!(Matriz,float(0))\n",
    "        end\n",
    "        push!(Matriz,float(1))\n",
    "    end\n",
    "    push!(Matriz,float(-4))\n",
    "    \n",
    "    for j in 1:4\n",
    "        push!(Matriz,float(0))\n",
    "    end\n",
    "    push!(Matriz,float(1))\n",
    "    for j in 1:5\n",
    "        push!(Matriz,float(0))\n",
    "    end\n",
    "    push!(Matriz,float(1))\n",
    "    for j in 1:4\n",
    "        push!(Matriz,float(0))\n",
    "    end\n",
    "\n",
    "## Ahora los pares (2,4)\n",
    "    for i in 1:4\n",
    "        push!(Matriz,float(-4))\n",
    "        push!(Matriz,float(1))\n",
    "        for j in 1:3\n",
    "            push!(Matriz,float(0))\n",
    "        end\n",
    "        push!(Matriz,float(1))\n",
    "        for j in 1:5\n",
    "            push!(Matriz,float(0))\n",
    "        end\n",
    "        push!(Matriz,float(1))\n",
    "        for j in 1:3\n",
    "            push!(Matriz,float(0))\n",
    "        end\n",
    "        push!(Matriz,float(1))\n",
    "    \n",
    "    end\n",
    "    push!(Matriz,float(-4))\n",
    "    \n",
    "    for j in 1:4\n",
    "        push!(Matriz,float(0))\n",
    "    end\n",
    "    push!(Matriz,float(1))\n",
    "    for j in 1:5\n",
    "        push!(Matriz,float(0))\n",
    "    end\n",
    "    push!(Matriz,float(1))\n",
    "    for j in 1:4\n",
    "        push!(Matriz,float(0))\n",
    "    end\n",
    "\n",
    "for k in 1:4\n",
    "    push!(Matriz,float(-4))\n",
    "    push!(Matriz,float(1))\n",
    "    for j in 1:9\n",
    "        push!(Matriz,float(0))\n",
    "    end\n",
    "    push!(Matriz,float(1))\n",
    "    for j in 1:3\n",
    "        push!(Matriz,float(0))\n",
    "    end\n",
    "    push!(Matriz,float(1))\n",
    "end\n",
    "push!(Matriz,float(-4))\n",
    "shift!(Matriz)\n",
    "\n",
    "## Definamos ahora la dimensión de la matriz, 15x15\n",
    "Matriz=reshape(Matriz,15,15)"
   ]
  },
  {
   "cell_type": "code",
   "execution_count": 4,
   "metadata": {},
   "outputs": [
    {
     "data": {
      "text/plain": [
       "15×15 Array{Float64,2}:\n",
       " -0.300139    -0.100955    -0.0375977  …  -0.00969818  -0.00403337\n",
       " -0.100955    -0.337737    -0.115781      -0.0224003   -0.00969818\n",
       " -0.0375977   -0.115781    -0.343053      -0.038858    -0.0183669 \n",
       " -0.0148264   -0.0429131   -0.115781      -0.0505577   -0.0291599 \n",
       " -0.00531542  -0.0148264   -0.0375977     -0.0291599   -0.0321907 \n",
       " -0.099603    -0.0660818   -0.0346097  …  -0.0163924   -0.00643529\n",
       " -0.0660818   -0.134213    -0.0824742     -0.041045    -0.0163924 \n",
       " -0.0346097   -0.0824742   -0.140648      -0.0824742   -0.0346097 \n",
       " -0.0163924   -0.041045    -0.0824742     -0.134213    -0.0660818 \n",
       " -0.00643529  -0.0163924   -0.0346097     -0.0660818   -0.099603  \n",
       " -0.0321907   -0.0291599   -0.0183669  …  -0.0148264   -0.00531542\n",
       " -0.0291599   -0.0505577   -0.038858      -0.0429131   -0.0148264 \n",
       " -0.0183669   -0.038858    -0.054591      -0.115781    -0.0375977 \n",
       " -0.00969818  -0.0224003   -0.038858      -0.337737    -0.100955  \n",
       " -0.00403337  -0.00969818  -0.0183669     -0.100955    -0.300139  "
      ]
     },
     "execution_count": 4,
     "metadata": {},
     "output_type": "execute_result"
    }
   ],
   "source": [
    "## Definamos ahora la matriz inversa de la antes definida:\n",
    "\n",
    "Matrizinversa=inv(Matriz)"
   ]
  },
  {
   "cell_type": "code",
   "execution_count": 5,
   "metadata": {},
   "outputs": [
    {
     "data": {
      "text/plain": [
       "15-element Array{Float64,1}:\n",
       "  1.30459\n",
       "  3.37339\n",
       "  7.41827\n",
       " 15.8087 \n",
       " 33.4596 \n",
       "  1.84497\n",
       "  4.77069\n",
       " 10.491  \n",
       " 22.3568 \n",
       " 47.319  \n",
       "  1.30459\n",
       "  3.37339\n",
       "  7.41827\n",
       " 15.8087 \n",
       " 33.4596 "
      ]
     },
     "execution_count": 5,
     "metadata": {},
     "output_type": "execute_result"
    }
   ],
   "source": [
    "## Podemos ahora definir nuestra función vectorial solucíon como la inversa de la Matriz producto con el vector b\n",
    "\n",
    "f=-Matrizinversa*b"
   ]
  },
  {
   "cell_type": "code",
   "execution_count": 6,
   "metadata": {},
   "outputs": [],
   "source": [
    "##### Checar la parte de graficado...."
   ]
  },
  {
   "cell_type": "code",
   "execution_count": 9,
   "metadata": {},
   "outputs": [
    {
     "data": {
      "image/png": "[encoded data removed]",
      "text/plain": [
       "PyPlot.Figure(PyObject <matplotlib.figure.Figure object at 0x7efe99f53810>)"
      ]
     },
     "metadata": {},
     "output_type": "display_data"
    },
    {
     "data": {
      "text/plain": [
       "PyObject <matplotlib.collections.QuadMesh object at 0x7efe99ea7250>"
      ]
     },
     "execution_count": 9,
     "metadata": {},
     "output_type": "execute_result"
    }
   ],
   "source": [
    "pcolormesh(10*rand(4,4))"
   ]
  },
  {
   "cell_type": "code",
   "execution_count": null,
   "metadata": {},
   "outputs": [],
   "source": []
  }
 ],
 "metadata": {
  "kernelspec": {
   "display_name": "Julia 0.5.2",
   "language": "julia",
   "name": "julia-0.5"
  },
  "language_info": {
   "file_extension": ".jl",
   "mimetype": "application/julia",
   "name": "julia",
   "version": "0.5.2"
  }
 },
 "nbformat": 4,
 "nbformat_minor": 2
}
