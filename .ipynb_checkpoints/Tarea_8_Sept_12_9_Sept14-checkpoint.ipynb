{
 "cells": [
  {
   "cell_type": "markdown",
   "metadata": {},
   "source": [
    "__Ejercicio 1__. Escribe una función `derivadaNumerica` que\n",
    "reciba: una función $f\\colon \\mathbb{R}\\mapsto\\mathbb{R}$,\n",
    "un punto $x_0\\in\\mathbb{R}$ y un número $h\\in\\mathbb{R}$. Esta función deberá calcular una aproximación a la\n",
    "derivada utilizando la definición indicada arriba ignorando\n",
    "la parte del límite. Es decir, algo como: `derivada_numerica(f,x,h)`."
   ]
  },
  {
   "cell_type": "code",
   "execution_count": 77,
   "metadata": {
    "collapsed": false
   },
   "outputs": [
    {
     "data": {
      "text/plain": [
       "f (generic function with 1 method)"
      ]
     },
     "execution_count": 77,
     "metadata": {},
     "output_type": "execute_result"
    }
   ],
   "source": [
    "f(x)=x^2"
   ]
  },
  {
   "cell_type": "code",
   "execution_count": 16,
   "metadata": {
    "collapsed": false
   },
   "outputs": [
    {
     "data": {
      "text/plain": [
       "DerivadaNumerica (generic function with 1 method)"
      ]
     },
     "execution_count": 16,
     "metadata": {},
     "output_type": "execute_result"
    }
   ],
   "source": [
    "function DerivadaNumerica(f,x0,h)\n",
    "    return df=(f(x0+h)-f(x0))/h\n",
    "    end"
   ]
  },
  {
   "cell_type": "code",
   "execution_count": 17,
   "metadata": {
    "collapsed": false
   },
   "outputs": [
    {
     "ename": "LoadError",
     "evalue": "\u001b[91mUndefVarError: f not defined\u001b[39m",
     "output_type": "error",
     "traceback": [
      "\u001b[91mUndefVarError: f not defined\u001b[39m",
      ""
     ]
    }
   ],
   "source": [
    "DerivadaNumerica(f,2,.01)"
   ]
  },
  {
   "cell_type": "markdown",
   "metadata": {},
   "source": [
    "__Ejercicio 2__. Utiliza tu función `derivadaNumerica` para\n",
    "calcular la derivada de la función $\\cos$ en un punto\n",
    "$x_0\\in[0,1)$. Compara tu resultado con el que indica el\n",
    "cálculo exacto. Utiliza valores de $h$ cada vez más pequeños, grafica el comportamiento de la derivada y muestra como converge al valor exacto conforme tomamos $h$ cada vez más pequeño. Para ello pueden graficar el resultado de la derivada numérica contra $1/h$.\n",
    "Observa el resultado de la aproximación y comenta. ¿El error es del orden de $h$?, para ver esto grafica el error relativo a $f'(x_0)$:\n",
    "$$\\epsilon=\\left|\\frac{\\Delta f(x_0,h)/h-f'(x_0)}{f'(x_0)}\\right|,$$\n",
    "respecto a $h$."
   ]
  },
  {
   "cell_type": "code",
   "execution_count": 81,
   "metadata": {
    "collapsed": false
   },
   "outputs": [
    {
     "data": {
      "text/plain": [
       "g (generic function with 1 method)"
      ]
     },
     "execution_count": 81,
     "metadata": {},
     "output_type": "execute_result"
    }
   ],
   "source": [
    "g(x)=cos.(x)"
   ]
  },
  {
   "cell_type": "code",
   "execution_count": 82,
   "metadata": {
    "collapsed": false
   },
   "outputs": [
    {
     "data": {
      "text/plain": [
       "-0.6046797497270564"
      ]
     },
     "execution_count": 82,
     "metadata": {},
     "output_type": "execute_result"
    }
   ],
   "source": [
    "DerivadaNumerica(g,0.5,3)"
   ]
  },
  {
   "cell_type": "code",
   "execution_count": 84,
   "metadata": {
    "collapsed": false
   },
   "outputs": [
    {
     "data": {
      "text/plain": [
       "-0.8068453602226698"
      ]
     },
     "execution_count": 84,
     "metadata": {},
     "output_type": "execute_result"
    }
   ],
   "source": [
    "DerivadaNumerica(g,0.5,1)"
   ]
  },
  {
   "cell_type": "code",
   "execution_count": 86,
   "metadata": {
    "collapsed": false
   },
   "outputs": [
    {
     "data": {
      "text/plain": [
       "-0.5835747720662074"
      ]
     },
     "execution_count": 86,
     "metadata": {},
     "output_type": "execute_result"
    }
   ],
   "source": [
    "DerivadaNumerica(g,0.5,0.25)"
   ]
  },
  {
   "cell_type": "code",
   "execution_count": 88,
   "metadata": {
    "collapsed": false
   },
   "outputs": [
    {
     "data": {
      "text/plain": [
       "-0.483805424462147"
      ]
     },
     "execution_count": 88,
     "metadata": {},
     "output_type": "execute_result"
    }
   ],
   "source": [
    "DerivadaNumerica(g,0.5,0.01)"
   ]
  },
  {
   "cell_type": "code",
   "execution_count": 89,
   "metadata": {
    "collapsed": false
   },
   "outputs": [
    {
     "data": {
      "text/plain": [
       "-0.4794694169341085"
      ]
     },
     "execution_count": 89,
     "metadata": {},
     "output_type": "execute_result"
    }
   ],
   "source": [
    "DerivadaNumerica(g,0.5,0.0001)"
   ]
  },
  {
   "cell_type": "code",
   "execution_count": 8,
   "metadata": {
    "collapsed": false
   },
   "outputs": [
    {
     "name": "stderr",
     "output_type": "stream",
     "text": [
      "\u001b[1m\u001b[36mINFO: \u001b[39m\u001b[22m\u001b[36mPackage PyPlot is already installed\n",
      "\u001b[39m\u001b[1m\u001b[36mINFO: \u001b[39m\u001b[22m\u001b[36mMETADATA is out-of-date — you may not have the latest version of PyPlot\n",
      "\u001b[39m\u001b[1m\u001b[36mINFO: \u001b[39m\u001b[22m\u001b[36mUse `Pkg.update()` to get the latest versions of your packages\n",
      "\u001b[39m\u001b[1m\u001b[36mINFO: \u001b[39m\u001b[22m\u001b[36mPackage SymPy is already installed\n",
      "\u001b[39m\u001b[1m\u001b[36mINFO: \u001b[39m\u001b[22m\u001b[36mMETADATA is out-of-date — you may not have the latest version of SymPy\n",
      "\u001b[39m\u001b[1m\u001b[36mINFO: \u001b[39m\u001b[22m\u001b[36mUse `Pkg.update()` to get the latest versions of your packages\n",
      "\u001b[39m"
     ]
    }
   ],
   "source": [
    "Pkg.add(\"PyPlot\")\n",
    "Pkg.add(\"SymPy\")"
   ]
  },
  {
   "cell_type": "code",
   "execution_count": 9,
   "metadata": {
    "collapsed": true
   },
   "outputs": [],
   "source": [
    "using PyPlot;\n",
    "plt=PyPlot;\n",
    "using SymPy;"
   ]
  },
  {
   "cell_type": "code",
   "execution_count": 116,
   "metadata": {
    "collapsed": false
   },
   "outputs": [
    {
     "data": {
      "text/plain": [
       "g (generic function with 1 method)"
      ]
     },
     "execution_count": 116,
     "metadata": {},
     "output_type": "execute_result"
    }
   ],
   "source": [
    "g(x)=cos.(x)"
   ]
  },
  {
   "cell_type": "code",
   "execution_count": 160,
   "metadata": {
    "collapsed": false
   },
   "outputs": [
    {
     "data": {
      "text/plain": [
       "0.0"
      ]
     },
     "execution_count": 160,
     "metadata": {},
     "output_type": "execute_result"
    }
   ],
   "source": [
    "DerivadaNumerica(g,0.5,0.00000000000000000000000000000000001)"
   ]
  },
  {
   "cell_type": "code",
   "execution_count": 118,
   "metadata": {
    "collapsed": false
   },
   "outputs": [
    {
     "data": {
      "text/plain": [
       "-0.479425538604203"
      ]
     },
     "execution_count": 118,
     "metadata": {},
     "output_type": "execute_result"
    }
   ],
   "source": [
    "##Veamos que el valor sí es aproximado\n",
    "-sin.(0.5)"
   ]
  },
  {
   "cell_type": "code",
   "execution_count": 120,
   "metadata": {
    "collapsed": true
   },
   "outputs": [],
   "source": [
    "##Considerando el valor de \"h\" resultó bastante aproximado."
   ]
  },
  {
   "cell_type": "markdown",
   "metadata": {
    "collapsed": false
   },
   "source": [
    "function DerivadaNumerica(g,x0,h)\n",
    "    list=zeros(Float64,300);\n",
    "    x=x0;\n",
    "    for i in 1:length(list)\n",
    "        dx=(g(x0+h)-g(x0))/h\n",
    "        list[i]=x;\n",
    "    end\n",
    "    return list\n",
    "end;"
   ]
  },
  {
   "cell_type": "markdown",
   "metadata": {
    "collapsed": false
   },
   "source": [
    "list1=DerivadaNumerica(g,0.5,5);\n",
    "list2=DerivadaNumerica(g,0.5,4);\n",
    "list3=DerivadaNumerica(g,0.5,3);\n",
    "list4=DerivadaNumerica(g,0.5,2);\n",
    "list5=DerivadaNumerica(g,0.5,1);\n",
    "listn = 1: length(list5);\n",
    "PyPlot.scatter(listn,list4)\n",
    "PyPlot.scatter(listn,list3)\n",
    "PyPlot.scatter(listn,list2)\n",
    "PyPlot.scatter(listn,list1)\n",
    "ylim(0.48,0.52)"
   ]
  },
  {
   "cell_type": "code",
   "execution_count": 170,
   "metadata": {
    "collapsed": false
   },
   "outputs": [
    {
     "data": {
      "image/png": "[encoded data removed]",
      "text/plain": [
       "PyPlot.Figure(PyObject <matplotlib.figure.Figure object at 0x7f108c09a990>)"
      ]
     },
     "metadata": {},
     "output_type": "display_data"
    }
   ],
   "source": [
    "#Definimos una lista con algunos valores para h (cada vez más paqueños para observar la convergencia de la derivada)\n",
    "\n",
    "haches=[2,1,0.01,0.0001,0.000001,0.00000001]\n",
    "lista=[]\n",
    "for i in haches\n",
    "    push!(lista,1/i)\n",
    "end\n",
    "lista2=[]\n",
    "for j in haches\n",
    "    push!(lista2,DerivadaNumerica(x->cos.(x),0.5,j)) ##donde \"->\" se usa para definir una función anónima\n",
    "end\n",
    "plt.scatter(lista,lista2);\n",
    "plot(lista,lista2);"
   ]
  },
  {
   "cell_type": "code",
   "execution_count": 173,
   "metadata": {
    "collapsed": false
   },
   "outputs": [
    {
     "data": {
      "image/png": "[encoded data removed]",
      "text/plain": [
       "PyPlot.Figure(PyObject <matplotlib.figure.Figure object at 0x7f108c2110d0>)"
      ]
     },
     "metadata": {},
     "output_type": "display_data"
    }
   ],
   "source": [
    "##Dado que los valores en x es el número de divisiones dado el valor asignado a \"h\" y este es muy grande, haremos que este se recorra en base 10 para observar de mejor forma los puntos\n",
    "plt.scatter(log10.(lista),lista2);\n",
    "plot(log10.(lista),lista2);\n",
    "ylabel(\"Derivada\");"
   ]
  },
  {
   "cell_type": "code",
   "execution_count": 21,
   "metadata": {
    "collapsed": false
   },
   "outputs": [
    {
     "data": {
      "image/png": "[encoded data removed]",
      "text/plain": [
       "PyPlot.Figure(PyObject <matplotlib.figure.Figure object at 0x7ff38d02ef10>)"
      ]
     },
     "metadata": {},
     "output_type": "display_data"
    }
   ],
   "source": [
    "##Veamos ahora la gráfica del error\n",
    "haches=[2,1,0.01,0.0001,0.000001,0.00000001]\n",
    "lista = []\n",
    "x0 = 0.5\n",
    "for i in haches\n",
    "   push!(lista,DerivadaNumerica(x->cos.(x),x0,i))\n",
    "end\n",
    "epsilon = (lista + sin(x0) )/ (-sin(x0))\n",
    "plt.scatter(haches,epsilon, alpha=0.6);\n",
    "plot(haches,epsilon, alpha=0.6);"
   ]
  },
  {
   "cell_type": "markdown",
   "metadata": {},
   "source": [
    "__Ejercicio 3__. Teniendo en mente la serie de Taylor para $f(x+h)$ ¿existe\n",
    "alguna forma de mejorar el cálculo de la derivada numérica? Comenta.\n",
    "\n",
    "__Tip:__ ¿Que pasa con los términos pares de la serie cuando la calculamos para $f(x-h)$?, ¿Como podemos despejar la derivada exacta de $f$ combinando ambas series? \n",
    "\n",
    "__Nota:__ Entregar en $\\LaTeX$ en el notebook de la tarea."
   ]
  },
  {
   "cell_type": "markdown",
   "metadata": {},
   "source": [
    "Sabemos que la serie de Taylor para $f(x+h)$ (con $h>>1$) está dada por la siguiente expresión:\n",
    "\n",
    "$$f(x+h)=f(x+h)\\mid_{h=0}+hf'(x+h)\\mid_{h=0}+\\quad...\\quad=f(x)+hf'(x)+\\mathcal{O}(h^2)$$"
   ]
  },
  {
   "cell_type": "markdown",
   "metadata": {},
   "source": [
    "Y si consideramos $h<<1$:\n",
    "\n",
    "$$f(x-h)=f(x-h)\\mid_{h=0}-hf'(x+h)\\mid_{h=0}+\\quad...\\quad=f(x)-hf'(x)+\\mathcal{O}(h^2)$$"
   ]
  },
  {
   "cell_type": "markdown",
   "metadata": {},
   "source": [
    "Restando ambos resultados obtenemos:\n",
    "$$f(x+h)-f(x-h)+\\mathcal{O}(h^2)=2hf'(x)$$\n",
    "\n",
    "Y despejando:\n",
    "\n",
    "$$\\mathcal{O}(h^2)=\\frac{f(x+h)-f(x-h)}{2h}-f'(x)$$"
   ]
  },
  {
   "cell_type": "markdown",
   "metadata": {},
   "source": [
    "De modo que la derivada numérica de primer orden tiene un error de orden 2 en la variable $h$, por lo que podemos decir que es posible mejorar el cálculo de la derivada numérica."
   ]
  },
  {
   "cell_type": "markdown",
   "metadata": {},
   "source": [
    "Para construir una derivada numérica aún mas exacta sin tener que hacer $h$ arbitrariamente pequeño se puede utilizar el método de *coeficientes de diferencia finita*."
   ]
  },
  {
   "cell_type": "markdown",
   "metadata": {},
   "source": [
    "__Ejercicio 4__. Implementa la _derivada\n",
    "simétrica_ en `Julia` como `derivada_Simetrica` y repite la\n",
    "comparativa que realizaste en el __ejercicio 2__."
   ]
  },
  {
   "cell_type": "code",
   "execution_count": 1,
   "metadata": {
    "collapsed": false
   },
   "outputs": [
    {
     "data": {
      "text/plain": [
       "Derivada_Simetrica (generic function with 1 method)"
      ]
     },
     "execution_count": 1,
     "metadata": {},
     "output_type": "execute_result"
    }
   ],
   "source": [
    "##Definamos la función y la forma que esta tiene\n",
    "function Derivada_Simetrica(f,x0,h)\n",
    "    (f(x0+h)-f(x0-h))/2h\n",
    "end"
   ]
  },
  {
   "cell_type": "code",
   "execution_count": 10,
   "metadata": {
    "collapsed": false
   },
   "outputs": [
    {
     "data": {
      "text/plain": [
       "0.8775825618728693"
      ]
     },
     "execution_count": 10,
     "metadata": {},
     "output_type": "execute_result"
    }
   ],
   "source": [
    "##Provemos que la función es correcta como lo hicimos en el ejercicio 2, evaluando ahora en la función seno\n",
    "Derivada_Simetrica(x->sin.(x),0.5,0.00001)"
   ]
  },
  {
   "cell_type": "code",
   "execution_count": null,
   "metadata": {
    "collapsed": true
   },
   "outputs": [],
   "source": [
    "##Sabiendo la derivada de la función seno aplicquemos el valor inicial en la función coseno"
   ]
  },
  {
   "cell_type": "code",
   "execution_count": 11,
   "metadata": {
    "collapsed": false
   },
   "outputs": [
    {
     "data": {
      "text/plain": [
       "0.8775825618903728"
      ]
     },
     "execution_count": 11,
     "metadata": {},
     "output_type": "execute_result"
    }
   ],
   "source": [
    "cos.(0.5)"
   ]
  },
  {
   "cell_type": "code",
   "execution_count": 14,
   "metadata": {
    "collapsed": false
   },
   "outputs": [
    {
     "data": {
      "image/png": "[encoded data removed]",
      "text/plain": [
       "PyPlot.Figure(PyObject <matplotlib.figure.Figure object at 0x7ff38d436c10>)"
      ]
     },
     "metadata": {},
     "output_type": "display_data"
    }
   ],
   "source": [
    "##Como en el ejercicio 2, grafiquemos nuestros puntos usando una escala logarítmica en el eje x para observar mejor los puntos graficados\n",
    "\n",
    "haches=[2,1,0.01,0.0001,0.000001,0.00000001]\n",
    "lista=[]\n",
    "for i in haches\n",
    "    push!(lista,1/i)\n",
    "end\n",
    "lista2=[]\n",
    "for j in haches\n",
    "    push!(lista2,Derivada_Simetrica(x->sin.(x),0.5,j))\n",
    "end\n",
    "plt.scatter(log10.(lista),lista2);\n",
    "plot(log10.(lista),lista2);"
   ]
  },
  {
   "cell_type": "code",
   "execution_count": 27,
   "metadata": {
    "collapsed": false
   },
   "outputs": [
    {
     "data": {
      "image/png": "[encoded data removed]",
      "text/plain": [
       "PyPlot.Figure(PyObject <matplotlib.figure.Figure object at 0x7ff38cc81390>)"
      ]
     },
     "metadata": {},
     "output_type": "display_data"
    }
   ],
   "source": [
    "##Ahora el error\n",
    "haches = [0.1,0.01,0.001,0.0001,0.00001,0.000001]\n",
    "lista = []\n",
    "x0 = 0.5\n",
    "for i in haches\n",
    "   push!(lista,Derivada_Simetrica(x->sin.(x),x0,i))\n",
    "end\n",
    "epsilon = (lista - cos.(x0) )/ (cos.(x0))\n",
    "plt.scatter(lista,epsilon,alpha=0.6)\n",
    "plot(lista,epsilon,alpha=0.6)\n",
    "xlim(0.875,0.879);"
   ]
  },
  {
   "cell_type": "markdown",
   "metadata": {},
   "source": [
    "__Ejercicio 5:__ Demuestre que $\\Delta_h$ es un operador lineal y que podemos \"factorizar\" la función a la derecha del operador. Hecho esto podemos quitar de ambos lados la función $f$ para obtener lo siguiente:\n",
    "$$\\Delta_h=\\sum_{n=1}^{\\infty} \\frac{1}{n!}h^n\\left.\\frac{d^n}{d\\xi^n}\\right|_{\\substack{ \\xi=x }}$$"
   ]
  },
  {
   "cell_type": "code",
   "execution_count": null,
   "metadata": {
    "collapsed": true
   },
   "outputs": [],
   "source": []
  },
  {
   "cell_type": "markdown",
   "metadata": {
    "collapsed": true
   },
   "source": [
    "__Ejercicio 7:__ Explotar la relación $\\delta_h=\\Delta_h-\\Delta_{-h}$, donde $\\delta_h:f(x)\\mapsto f(x+h)-f(x-h)$, para encontrar cual es la función $\\theta$ que relaciona a $\\delta_h$ con el operador derivada exacta, es decir:\n",
    "$$\\delta_h=\\theta\\left(h\\left. \\frac{d}{d\\xi}\\right|_{\\xi=x}\\right).$$\n",
    "\n",
    "Una vez que la encuentren, despejen $\\left. \\frac{d}{d\\xi}\\right|_{\\xi=x}$ y calculen la serie de Taylor de mánera similar a lo mostrado en las ecuaciones 3 y 4."
   ]
  },
  {
   "cell_type": "markdown",
   "metadata": {
    "collapsed": true
   },
   "source": [
    "Usemos, como lo sugiere el enunciado, que $\\delta_h=\\Delta_h-\\Delta_{-h}$, entonces, dada la definición para diferencias finitas, tenemos que:\n",
    "\n",
    "$$ \\delta_h=e^{h\\frac{d}{d\\xi}\\mid_{\\xi=x}}-1-(e^{-h\\frac{d}{d\\xi}\\mid_{\\xi=x}}-1) $$"
   ]
  },
  {
   "cell_type": "markdown",
   "metadata": {},
   "source": [
    "Entonces:\n",
    "$$ \\delta_h=e^{h\\frac{d}{d\\xi}\\mid_{\\xi=x}}-e^{-h\\frac{d}{d\\xi}\\mid_{\\xi=x}} $$"
   ]
  },
  {
   "cell_type": "markdown",
   "metadata": {},
   "source": [
    "Tomando entonces la función $\\Theta\\left( x \\right)=2\\sin\\left(x \\right)$, es decir $\\Theta (x)=e^x-e^{-x}$ y sustituyendo los valores en la función seno tenemos:\n",
    "\n",
    "$$ \\delta_h=2\\sin\\left( h\\frac{d}{d\\xi}\\mid_{\\xi=x} \\right) $$"
   ]
  },
  {
   "cell_type": "markdown",
   "metadata": {},
   "source": [
    "Despejando aplicando la funsión inversa del seno:\n",
    "\n",
    "$$ \\frac{d}{d\\xi}\\mid_{\\xi=x}=\\frac{1}{h}arcsen\\left( \\frac{\\delta_h}{2} \\right) $$\n",
    "\n",
    "Que es la relación a la que se quería llegar."
   ]
  },
  {
   "cell_type": "markdown",
   "metadata": {},
   "source": [
    "Por último, aplicando la Serie de Taylor de la función __arcsen__ con $\\delta_h$ alrededor del $0$, se obtiene lo siguiente:\n",
    "\n",
    "$$\\frac{d}{d\\xi}\\mid_{\\xi=x} = \\frac{1}{h} \\sum_{n=0}^{\\infty} \\frac{(2n)!}{4^n(n!)^2(2n+1)} \\left( \\frac{\\delta_h}{2}\\right) ^{2n+1} = \\frac{\\delta_h}{2} +\\frac{1}{6}\\frac{\\delta_h}{2}^3 + ... $$"
   ]
  },
  {
   "cell_type": "code",
   "execution_count": null,
   "metadata": {
    "collapsed": true
   },
   "outputs": [],
   "source": []
  }
 ],
 "metadata": {
  "kernelspec": {
   "display_name": "Julia 0.6.0",
   "language": "julia",
   "name": "julia-0.6"
  },
  "language_info": {
   "file_extension": ".jl",
   "mimetype": "application/julia",
   "name": "julia",
   "version": "0.6.0"
  }
 },
 "nbformat": 4,
 "nbformat_minor": 2
}
