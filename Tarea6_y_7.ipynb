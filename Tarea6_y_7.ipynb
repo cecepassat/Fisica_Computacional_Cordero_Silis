{
 "cells": [
  {
   "cell_type": "code",
   "execution_count": 2,
   "metadata": {},
   "outputs": [
    {
     "name": "stderr",
     "output_type": "stream",
     "text": [
      "\u001b[1m\u001b[34mINFO: Initializing package repository /home/juser/.julia/v0.5\n",
      "\u001b[0m\u001b[1m\u001b[34mINFO: Cloning METADATA from https://github.com/JuliaLang/METADATA.jl\n",
      "\u001b[0m"
     ]
    },
    {
     "ename": "LoadError",
     "evalue": "GitError(Code:ERROR, Class:OS, Could not write to '/home/juser/.julia/v0.5/tmpodyccL/METADATA/PDFIO/versions/0.0.4/requires': No space left on device)",
     "output_type": "error",
     "traceback": [
      "GitError(Code:ERROR, Class:OS, Could not write to '/home/juser/.julia/v0.5/tmpodyccL/METADATA/PDFIO/versions/0.0.4/requires': No space left on device)",
      "",
      " in macro expansion at ./libgit2/error.jl:99 [inlined]",
      " in clone(::String, ::String, ::Base.LibGit2.CloneOptions) at ./libgit2/repository.jl:191",
      " in #clone#112(::String, ::Bool, ::Ptr{Void}, ::Nullable{Base.LibGit2.AbstractCredentials}, ::Function, ::String, ::String) at ./libgit2/libgit2.jl:327",
      " in (::Base.LibGit2.#kw##clone)(::Array{Any,1}, ::Base.LibGit2.#clone, ::String, ::String) at ./<missing>:0",
      " in (::Base.Pkg.Dir.##4#6{String,String})() at ./pkg/dir.jl:49",
      " in cd(::Base.Pkg.Dir.##4#6{String,String}, ::String) at ./file.jl:59",
      " in init(::String, ::String) at ./pkg/dir.jl:47",
      " in #cd#1(::Array{Any,1}, ::Function, ::Function, ::String, ::Vararg{Any,N}) at ./pkg/dir.jl:28",
      " in add(::String) at ./pkg/pkg.jl:100",
      " in include_string(::String, ::String) at ./loading.jl:441"
     ]
    }
   ],
   "source": [
    "##Instalamos la paqueteria a utilizar\n",
    "\n",
    "Pkg.add(\"PyPlot\")\n",
    "Pkg.add(\"SymPy\")\n",
    "Pkg.add(\"Plots\")"
   ]
  },
  {
   "cell_type": "code",
   "execution_count": 3,
   "metadata": {},
   "outputs": [],
   "source": [
    "using PyPlot"
   ]
  },
  {
   "cell_type": "markdown",
   "metadata": {},
   "source": [
    "__Ejercicio 1__: Implementar el método de integración del rectángulo. Deberán construir una _rutina_ que reciba una función y el tamaño de la diferencia finita, y devuelva el valor aproximado de la integral. Para hacer esto deberán dividir el intervalo de integración en segmentos pequeños y aplicar la formula de arriba.\n",
    "\n",
    "Ejemplos: \n",
    "`rectangulo(f,a,b,h)`, donde $h=(b-a)/n$, \n",
    "`rectangulo(f,a,b,n)` o \n",
    "`rectangulo(f,b)` donde `b=linspace(a,b,n)`."
   ]
  },
  {
   "cell_type": "code",
   "execution_count": 4,
   "metadata": {},
   "outputs": [
    {
     "data": {
      "text/plain": [
       "f (generic function with 1 method)"
      ]
     },
     "execution_count": 4,
     "metadata": {},
     "output_type": "execute_result"
    }
   ],
   "source": [
    "##Definimos una función a la cual le aplicaremos el métido de integración del rectángulo y del trapecio\n",
    "f(x)=(x^2)+10x"
   ]
  },
  {
   "cell_type": "code",
   "execution_count": 5,
   "metadata": {},
   "outputs": [
    {
     "data": {
      "text/plain": [
       "Rectangulo (generic function with 1 method)"
      ]
     },
     "execution_count": 5,
     "metadata": {},
     "output_type": "execute_result"
    }
   ],
   "source": [
    "##Definimos la función y la variable a iterar \"s\"\n",
    "\n",
    "function Rectangulo(f, a, b, n)\n",
    "    S=0\n",
    "    A = linspace.(a,b,n)      ##Se define la partición del intervalo X\n",
    "    for j in 1:n-1            ##Iteramos la suma usando el método del rectángulo\n",
    "        S = S + (A[j+1]-A[j])*f((A[j+1]+A[j])/2)\n",
    "    end   \n",
    "    S    \n",
    "end    "
   ]
  },
  {
   "cell_type": "code",
   "execution_count": 6,
   "metadata": {},
   "outputs": [
    {
     "data": {
      "text/plain": [
       "5.3333248307995795"
      ]
     },
     "execution_count": 6,
     "metadata": {},
     "output_type": "execute_result"
    }
   ],
   "source": [
    "Rectangulo(f,0,1,100)"
   ]
  },
  {
   "cell_type": "code",
   "execution_count": null,
   "metadata": {},
   "outputs": [],
   "source": []
  },
  {
   "cell_type": "markdown",
   "metadata": {},
   "source": [
    "__Ejercicio 2:__ Implementar método del trapecio de la misma forma que el ejercicio anterior."
   ]
  },
  {
   "cell_type": "code",
   "execution_count": 7,
   "metadata": {},
   "outputs": [
    {
     "data": {
      "text/plain": [
       "Trapecio (generic function with 1 method)"
      ]
     },
     "execution_count": 7,
     "metadata": {},
     "output_type": "execute_result"
    }
   ],
   "source": [
    "##Se elabora el código de forma análoga al anterior, cambiando el método de integración\n",
    "\n",
    "function Trapecio(f, a, b, n)\n",
    "    S=0\n",
    "    A = linspace.(a,b,n)\n",
    "    for j in 1:n-1\n",
    "        S = S + (A[j+1]-A[j])*(f(A[j+1])+f(A[j]))/2     ##Iteramos la suma con el método del trapecio\n",
    "    end   \n",
    "    S    \n",
    "end"
   ]
  },
  {
   "cell_type": "code",
   "execution_count": 8,
   "metadata": {},
   "outputs": [
    {
     "data": {
      "text/plain": [
       "5.333350338400843"
      ]
     },
     "execution_count": 8,
     "metadata": {},
     "output_type": "execute_result"
    }
   ],
   "source": [
    "Trapecio(f,0,1,100)"
   ]
  },
  {
   "cell_type": "code",
   "execution_count": null,
   "metadata": {},
   "outputs": [],
   "source": []
  },
  {
   "cell_type": "code",
   "execution_count": null,
   "metadata": {},
   "outputs": [],
   "source": []
  },
  {
   "cell_type": "markdown",
   "metadata": {},
   "source": [
    "__Ejercicio 3:__ Implementar método de Simpson de la misma forma que el ejercicio anterior."
   ]
  },
  {
   "cell_type": "code",
   "execution_count": 80,
   "metadata": {},
   "outputs": [
    {
     "name": "stderr",
     "output_type": "stream",
     "text": [
      "WARNING: Method definition Simpson(Any, Any, Any, Any) in module Main at In[77]:4 overwritten at In[80]:4.\n"
     ]
    }
   ],
   "source": [
    "## Creamos la función simpson(f,a,b,e), donde f es la función dada, a y b son los extremos de integración y e es la longitud deseada para los subintervalos\n",
    "function Simpson(f,a,b,e)\n",
    "    ## Si e es la longitud deseada para los subintervalos, entonces el número de subintervalos será (b-a)/e para asegurar que sea entero usamos round() (como se muestra abajo), pero entonces el número de elementos en nuestra partición tiene que ser el número anterior más uno, de esta forma definimos h\n",
    "    h=1+round((b-a)/e)\n",
    "   ## Definimos la lista de h elementos de \"a\" a \"b\" \n",
    "    list=linspace(a,b,h)\n",
    "\n",
    "    int=0\n",
    "\n",
    "    for i in 2:length(list)\n",
    "        #A int le vamos sumando el área debajo de cada parábola.\n",
    "        \n",
    "        int=int+((list[i]-list[i-1])/6)*(f(list[i-1])+4*f((list[i]+list[i-1])/2)+f(list[i]))\n",
    "        \n",
    "    end\n",
    "        \n",
    "\n",
    "    return int    \n",
    "end;"
   ]
  },
  {
   "cell_type": "code",
   "execution_count": 76,
   "metadata": {},
   "outputs": [
    {
     "data": {
      "text/plain": [
       "774.666666666661"
      ]
     },
     "execution_count": 76,
     "metadata": {},
     "output_type": "execute_result"
    }
   ],
   "source": [
    "Simpson(f,-4,10,0.00004)"
   ]
  },
  {
   "cell_type": "markdown",
   "metadata": {},
   "source": [
    "##El valor exacto de la integral (al cual debe converger) es:\n",
    "\n",
    "exacto=16/3;"
   ]
  },
  {
   "cell_type": "markdown",
   "metadata": {
    "collapsed": true
   },
   "source": [
    "##Veamos como se comporta la convergencia de cada método a la integral exacta\n",
    "\n",
    "function Convergencia(f,metodo,a,b,exacto)\n",
    "    list=[];\n",
    "       for i in 2:10\n",
    "        push!(list,metodo(f,a,b,i))\n",
    "    end\n",
    "    return abs.((list-exacto)/exacto);\n",
    "end;"
   ]
  },
  {
   "cell_type": "markdown",
   "metadata": {},
   "source": [
    "list1 = Convergencia(f,Rectangulo,0,1,exacto);\n",
    "list2 = Convergencia(f,Trapecio,0,1,exacto);\n",
    "list3 = Convergencia(f,Simpson,0,1,exacto);"
   ]
  },
  {
   "cell_type": "markdown",
   "metadata": {},
   "source": [
    "plot(list1,label=\"Rectangulo\");\n",
    "plot(list2,label=\"Trapecio\");\n",
    "plot(list3,label=\"Simpson\");\n",
    "legend();\n",
    "show();"
   ]
  },
  {
   "cell_type": "code",
   "execution_count": 11,
   "metadata": {},
   "outputs": [],
   "source": [
    "##Usé el código que realicé para las integrales e intenté realizar la gráfica para ver la convergencia usando la solución propuesta pero algo me está fallando, lo dejo entonces con markdown por ahora."
   ]
  },
  {
   "cell_type": "markdown",
   "metadata": {},
   "source": [
    "__Ejercicio 4:__ Implementar método de interpolación de Lagrange en `Julia`. La función deberá recibir la lista de puntos $(x_k,y_k)$ y el _lugar donde evaluamos el polinomio_, note que es particularmente útil si los _inputs_ son las listas de las $x$'s y de las $y$'s separadamente, es decir, de la misma forma en como la función `plot` recibe los argumentos; esto servira para verificar nuestros resultados. EJ.: `Interpolador(listx,listy,x)`.\n",
    "* Interpole las funciones $\\cos(x)$, $\\cos^2(x)$ tomando un arreglo de $10$ puntos distribuidos uniformemente dentro del dominio $[0,2 \\pi]$, donde el primer punto sea $0$ y el último $2\\pi$. Grafique los puntos a interpolar y la funcion interpoladora.\n",
    "* Interpole los los siguientes puntos: `[(0,10),(2,-10),(3,-4),(4,0),(5,5),(6,20),(7,-1)]`.Grafique los puntos a interpolar y la funcion interpoladora.\n",
    "* Para los ejercicios anteriores evalue la función que interpola en una variable simbólica, para que nos permita ver la forma explicita del polinomio. Ej: `Interpolador(listx,listy,Sym(\"x\"))`. \n",
    "\n",
    "__Tip:__ Pueden hacer separadamente la rutina para $l_j(x)$, luego la de $L(x)$ utilizando la rutina que ya tenemos para $l_j(x)$. Por Ej: `funciondelabase(j,listx,x)`, donde $x$ es el lugar donde evaluamos la función interpoladora."
   ]
  },
  {
   "cell_type": "code",
   "execution_count": 12,
   "metadata": {},
   "outputs": [],
   "source": [
    "using SymPy"
   ]
  },
  {
   "cell_type": "code",
   "execution_count": 13,
   "metadata": {},
   "outputs": [
    {
     "data": {
      "text/plain": [
       "Interpolador (generic function with 1 method)"
      ]
     },
     "execution_count": 13,
     "metadata": {},
     "output_type": "execute_result"
    }
   ],
   "source": [
    "## Se define a continuación la función Iterpolador(X,Y,x)\n",
    "## Los argumentos son: \"x\" la lista de las abscisas; \"y\", la lista de las ordenadas y \"ev\", el punto a evaluar.\n",
    "function Interpolador(x,y,ev)\n",
    "    \n",
    "    z=Sym(\"z\")     ## Se define la variable simbólica \"z\"\n",
    "    polinomio=0     ##Usaremos la variable \"polinomio\", donde guardaremos cada término obtenido en el siguiente for\n",
    "    \n",
    "    for j in 1:length(y)\n",
    "        \n",
    "        l=1*z/z     ## Se define \"l\" como 1 al inicio.\n",
    "                    ## z/z es para que Julia sepa que se trata de una función y no de una constante\n",
    "    \n",
    "        for m in 1:length(x)     ## Para m distinto de j se multiplicarán los términos correspondientes\n",
    "            if j!=m\n",
    "               l=l*(z-x[m])/(x[j]-x[m])\n",
    "            end  \n",
    "        end\n",
    "        polinomio=polinomio+y[j]*l     ## Le sumamos al polinomio la contribución de los l_j multiplicados por la respectiva y_j\n",
    "    end\n",
    "    \n",
    "    polinomio=simplify(polinomio)     ## Se simplifica el polinomio obtenido\n",
    "    \n",
    "    L=lambdify(polinomio,[z])     ## Se transforma el polinomio en una función de julia\n",
    "    \n",
    "    return L(x)     ## La función regresa el valor del polinomio evaluado en x\n",
    "end"
   ]
  },
  {
   "cell_type": "code",
   "execution_count": 14,
   "metadata": {},
   "outputs": [],
   "source": [
    "#### Interpolación de la función cos(x)"
   ]
  },
  {
   "cell_type": "code",
   "execution_count": 15,
   "metadata": {
    "scrolled": false
   },
   "outputs": [
    {
     "data": {
      "text/plain": [
       "20-element Array{Float64,1}:\n",
       "  1.0      \n",
       "  0.945817 \n",
       "  0.789141 \n",
       "  0.546948 \n",
       "  0.245485 \n",
       " -0.0825796\n",
       " -0.401697 \n",
       " -0.677287 \n",
       " -0.87949  \n",
       " -0.986409 \n",
       " -0.986486 \n",
       " -0.879772 \n",
       " -0.677959 \n",
       " -0.403172 \n",
       " -0.0857141\n",
       "  0.23893  \n",
       "  0.533362 \n",
       "  0.761181 \n",
       "  0.888748 \n",
       "  0.884804 "
      ]
     },
     "execution_count": 15,
     "metadata": {},
     "output_type": "execute_result"
    }
   ],
   "source": [
    "intervalo=linspace(0,2pi,20)\n",
    "funcion=cos.(intervalo)\n",
    "Interpolador(intervalo,funcion,Sym(\"x\"))"
   ]
  },
  {
   "cell_type": "code",
   "execution_count": 16,
   "metadata": {},
   "outputs": [],
   "source": [
    "## Definamos ahora la función que devuelve el polinomio evaluado en x"
   ]
  },
  {
   "cell_type": "code",
   "execution_count": 17,
   "metadata": {},
   "outputs": [
    {
     "data": {
      "text/plain": [
       "interpoladorcos (generic function with 1 method)"
      ]
     },
     "execution_count": 17,
     "metadata": {},
     "output_type": "execute_result"
    }
   ],
   "source": [
    "interpoladorcos(x)=Interpolador(intervalo,funcion,x)"
   ]
  },
  {
   "cell_type": "code",
   "execution_count": 18,
   "metadata": {},
   "outputs": [
    {
     "data": {
      "image/png": "[encoded data removed]",
      "text/plain": [
       "PyPlot.Figure(PyObject <matplotlib.figure.Figure object at 0x7fb95d0c0ad0>)"
      ]
     },
     "metadata": {},
     "output_type": "display_data"
    }
   ],
   "source": [
    "## Grafiquemos los puntos interpolados\n",
    "scatter(intervalo,funcion)\n",
    "\n",
    "## Evaluamos los puntos en el polinomio \"interpoladorcos\"\n",
    "\n",
    "a=linspace(0,2pi,20)\n",
    "b=interpoladorcos.(a)\n",
    "plot(a,b)\n",
    "grid(\"on\")\n",
    "\n",
    "\n",
    "show()"
   ]
  },
  {
   "cell_type": "code",
   "execution_count": 19,
   "metadata": {},
   "outputs": [],
   "source": [
    "#### Interpolación de la función cos^2(x)"
   ]
  },
  {
   "cell_type": "code",
   "execution_count": 20,
   "metadata": {},
   "outputs": [
    {
     "data": {
      "text/plain": [
       "20-element Array{Float64,1}:\n",
       " 1.0       \n",
       " 0.89457   \n",
       " 0.622743  \n",
       " 0.299152  \n",
       " 0.0602631 \n",
       " 0.00681935\n",
       " 0.161359  \n",
       " 0.45871   \n",
       " 0.773474  \n",
       " 0.972909  \n",
       " 0.972909  \n",
       " 0.773474  \n",
       " 0.45871   \n",
       " 0.161359  \n",
       " 0.00681935\n",
       " 0.0602631 \n",
       " 0.299152  \n",
       " 0.622743  \n",
       " 0.89457   \n",
       " 1.0       "
      ]
     },
     "execution_count": 20,
     "metadata": {},
     "output_type": "execute_result"
    }
   ],
   "source": [
    "## Usando el mismo intervalo definiremos el arreglo del valor de la función cos^2(x)\n",
    "C=(cos.(intervalo)).^2"
   ]
  },
  {
   "cell_type": "code",
   "execution_count": 21,
   "metadata": {},
   "outputs": [
    {
     "data": {
      "text/plain": [
       "20-element Array{Float64,1}:\n",
       " 1.0       \n",
       " 0.89457   \n",
       " 0.622743  \n",
       " 0.299152  \n",
       " 0.0602632 \n",
       " 0.0068195 \n",
       " 0.16136   \n",
       " 0.458713  \n",
       " 0.773483  \n",
       " 0.972935  \n",
       " 0.972982  \n",
       " 0.773662  \n",
       " 0.459148  \n",
       " 0.162282  \n",
       " 0.00855551\n",
       " 0.0630668 \n",
       " 0.302591  \n",
       " 0.624028  \n",
       " 0.884623  \n",
       " 0.954977  "
      ]
     },
     "execution_count": 21,
     "metadata": {},
     "output_type": "execute_result"
    }
   ],
   "source": [
    "## Veamos la forma explícita del polinomio\n",
    "Interpolador(intervalo,C,Sym(\"x\"))"
   ]
  },
  {
   "cell_type": "code",
   "execution_count": 22,
   "metadata": {},
   "outputs": [
    {
     "data": {
      "text/plain": [
       "interpoladorcos2 (generic function with 1 method)"
      ]
     },
     "execution_count": 22,
     "metadata": {},
     "output_type": "execute_result"
    }
   ],
   "source": [
    "## Como para la función anterior, definiremos la función que nos regresa el polinomio evaluado en x\n",
    "\n",
    "interpoladorcos2(x)=Interpolador(intervalo,C,x)"
   ]
  },
  {
   "cell_type": "code",
   "execution_count": 23,
   "metadata": {},
   "outputs": [
    {
     "data": {
      "image/png": "[encoded data removed]",
      "text/plain": [
       "PyPlot.Figure(PyObject <matplotlib.figure.Figure object at 0x7fb93b7c4750>)"
      ]
     },
     "metadata": {},
     "output_type": "display_data"
    }
   ],
   "source": [
    "## Graficamos\n",
    "scatter(intervalo,C)\n",
    "\n",
    "intervalo2=linspace(0,2pi,100)\n",
    "d=interpoladorcos2.(intervalo2)\n",
    "plot(intervalo2,d)\n",
    "\n",
    "\n",
    "show();"
   ]
  },
  {
   "cell_type": "code",
   "execution_count": 24,
   "metadata": {},
   "outputs": [
    {
     "data": {
      "text/plain": [
       "7-element Array{Int64,1}:\n",
       "  10\n",
       " -10\n",
       "  -4\n",
       "   0\n",
       "   5\n",
       "  20\n",
       "  -1"
      ]
     },
     "execution_count": 24,
     "metadata": {},
     "output_type": "execute_result"
    }
   ],
   "source": [
    "## Interpolación de puntos dados\n",
    "\n",
    "xlist=[0,2,3,4,5,6,7]     ## Se definen las listas para los puntos en x\n",
    "\n",
    "ylist=[10,-10,-4,0,5,20,-1]     ## Se definen las listas para los puntos en y"
   ]
  },
  {
   "cell_type": "code",
   "execution_count": 25,
   "metadata": {},
   "outputs": [
    {
     "data": {
      "text/plain": [
       "7-element Array{Float64,1}:\n",
       "  10.0        \n",
       " -10.0        \n",
       "  -4.0        \n",
       "  -6.39488e-14\n",
       "   5.0        \n",
       "  20.0        \n",
       "  -1.0        "
      ]
     },
     "execution_count": 25,
     "metadata": {},
     "output_type": "execute_result"
    }
   ],
   "source": [
    "#Aplicamos la función antes definida y vemos la forma explícita del polinomio\n",
    "\n",
    "Interpolador(xlist,ylist,Sym(\"x\"))"
   ]
  },
  {
   "cell_type": "code",
   "execution_count": 26,
   "metadata": {},
   "outputs": [],
   "source": [
    "#Definimos la funcion polinomio(x) que nos regresa el valor de la función anterior en x\n",
    "\n",
    "polinomio(x)=Interpolador(xlist,ylist,x);"
   ]
  },
  {
   "cell_type": "code",
   "execution_count": 27,
   "metadata": {},
   "outputs": [
    {
     "data": {
      "image/png": "[encoded data removed]",
      "text/plain": [
       "PyPlot.Figure(PyObject <matplotlib.figure.Figure object at 0x7fb93e223610>)"
      ]
     },
     "metadata": {},
     "output_type": "display_data"
    }
   ],
   "source": [
    "## Graficamos\n",
    "\n",
    "scatter(xlist,ylist)\n",
    "\n",
    "j=linspace(0,7,100)\n",
    "k=polinomio.(j)\n",
    "plot(j,k)\n",
    "\n",
    "\n",
    "show();"
   ]
  },
  {
   "cell_type": "markdown",
   "metadata": {},
   "source": [
    "__Ejercicio 5:__ Comparen como convergen los métodos al valor exacto de la integral, respeco al ancho de las celdas, háganlo para $f(x)=-\\sin(x)$, integrando en el intervalo $[0,2\\pi]$. Es decir, para los tres métodos fijen el ancho de la celda y haganla cada vez mas pequeña, grafiquen el valor de la integral contra el inverso del acho de la celda, es decir $\\int f(x) dx$ contra $1/\\Delta x$. Hagan esto para los tres métodos y ponganlo en una gráfica y comenten lo que observan.]"
   ]
  },
  {
   "cell_type": "code",
   "execution_count": 28,
   "metadata": {},
   "outputs": [],
   "source": [
    "## Definimamos primero la funcion\n",
    "\n",
    "h(x)=-sin(x);"
   ]
  },
  {
   "cell_type": "code",
   "execution_count": 29,
   "metadata": {},
   "outputs": [],
   "source": [
    "## Definimos la función Riemann(f,a,b,e), donde a y b son los extremos de integración y e es la longitud deseada para los subintervalos\n",
    "function Riemann(f,a,b,e)\n",
    "    \n",
    "    h=1+round((b-a)/e) ## Si e es la longitud deseada para los subintervalos, entonces el número de subintervalos será (b-a)/e\n",
    "                       ## para asegurar que sea entero usamos round() (como se muestra abajo), pero entonces el número de \n",
    "                       ## elementos en nuestra partición tiene que ser el número anterior más uno, de esta forma definimos h \n",
    "   \n",
    "    \n",
    "    list=linspace(a,b,h)     ## Se define la lista de h elementos de \"a\" a \"b\" \n",
    "    int=0     ## damos un valor inicial\n",
    "    \n",
    "    for i in 2:length(list)\n",
    "        \n",
    "        int=int+(list[i]-list[i-1])*f((list[i]+list[i-1])/2)     ## Sumamos cada intervalo a la integral\n",
    "    end\n",
    "    \n",
    "    return int    \n",
    "end;"
   ]
  },
  {
   "cell_type": "code",
   "execution_count": 30,
   "metadata": {},
   "outputs": [],
   "source": [
    "## Definimos la función Trapecio(f,a,b,e)\n",
    "## a y b son nuevamente los extremos de integración y así como e la longitud deseada para los subintervalos\n",
    "\n",
    "function Trapecio2(f,a,b,e)\n",
    "         ## el número de subintervalos será (b-a)/e para asegurar que sea entero usamos round() (como se muestra abajo), \n",
    "         ## pero entonces el número de elementos en nuestra partición tiene que ser el número anterior más uno, de esta forma\n",
    "         ## definimos h\n",
    "    h=1+round((b-a)/e)\n",
    "   \n",
    "    list=linspace(a,b,h)     ## Se define la lista de h elementos de \"a\" a \"b\"\n",
    "    \n",
    "    int=0\n",
    "    \n",
    "    for i in 2:length(list)\n",
    "        #A int le vamos sumando el área de cada trapecio.\n",
    "        int=int+(list[i]-list[i-1])*((f(list[i])+f(list[i-1]))/2)\n",
    "    end\n",
    "    #La función regresa el valor de la integral\n",
    "    return int    \n",
    "end;"
   ]
  },
  {
   "cell_type": "code",
   "execution_count": 31,
   "metadata": {},
   "outputs": [],
   "source": [
    "## Consideremos ahora las siguientes funciones:"
   ]
  },
  {
   "cell_type": "code",
   "execution_count": 81,
   "metadata": {},
   "outputs": [
    {
     "name": "stderr",
     "output_type": "stream",
     "text": [
      "WARNING: Method definition s(Any) in module Main at In[67]:1 overwritten at In[81]:1.\n"
     ]
    }
   ],
   "source": [
    "s(x)=Simpson(h,0,2pi,x);"
   ]
  },
  {
   "cell_type": "code",
   "execution_count": 82,
   "metadata": {},
   "outputs": [
    {
     "name": "stderr",
     "output_type": "stream",
     "text": [
      "WARNING: Method definition r(Any) in module Main at In[68]:1 overwritten at In[82]:1.\n"
     ]
    }
   ],
   "source": [
    "r(x)=Riemann(h,0,2pi,x);"
   ]
  },
  {
   "cell_type": "code",
   "execution_count": 83,
   "metadata": {},
   "outputs": [
    {
     "name": "stderr",
     "output_type": "stream",
     "text": [
      "WARNING: Method definition t(Any) in module Main at In[69]:1 overwritten at In[83]:1.\n"
     ]
    }
   ],
   "source": [
    "t(x)=Trapecio2(h,0,2pi,x);"
   ]
  },
  {
   "cell_type": "code",
   "execution_count": 84,
   "metadata": {},
   "outputs": [],
   "source": [
    "## Estas nos dan el valor de la integral de h(x) de 0 a 2*pi, en función del ancho de la celda."
   ]
  },
  {
   "cell_type": "code",
   "execution_count": 85,
   "metadata": {},
   "outputs": [],
   "source": [
    "#Definimos delta como un arreglo de 200 entradas de la forma 2pi/i. Estos serán los valores que utilizaremos como ancho de celda.\n",
    "\n",
    "delta=zeros(200)\n",
    "for i in 1:length(delta)\n",
    "    delta[i]=2pi/i\n",
    "end"
   ]
  },
  {
   "cell_type": "code",
   "execution_count": 88,
   "metadata": {},
   "outputs": [],
   "source": [
    "#Definimos el arreglo de valores que corresponden al inverso del ancho de celda.\n",
    "recip=(delta).^(-1);"
   ]
  },
  {
   "cell_type": "code",
   "execution_count": 89,
   "metadata": {},
   "outputs": [
    {
     "data": {
      "image/png": "[encoded data removed]",
      "text/plain": [
       "PyPlot.Figure(PyObject <matplotlib.figure.Figure object at 0x7fb93b664c10>)"
      ]
     },
     "metadata": {},
     "output_type": "display_data"
    }
   ],
   "source": [
    "#Definimos las listas, de nuestras funciones previas (que daban el valor de la integral respecto al ancho de celda) evaluadas en delta (el arreglo cuyas entradas son diversos valores propuestos para el ancho de celda)\n",
    "\n",
    "rlist=R.(delta)\n",
    "tlist=T.(delta)\n",
    "#slist=S.(delta)\n",
    "\n",
    "#Usamos plot(), para graficar el reciproco del ancho de celda vs el valor de la integral\n",
    "plot(recip,rlist,label=\"método de Riemann\")\n",
    "plot(recip,tlist,label=\"método del trapecio\")\n",
    "#plot(recip,slist,label=\"método de Simpson\")     ## Muestra problemas con el método de Simpson\n",
    "xlabel(\"(ancho de celda)^-1\")\n",
    "ylabel(\"valor de la integral\")\n",
    "legend()\n",
    "show();"
   ]
  },
  {
   "cell_type": "markdown",
   "metadata": {},
   "source": [
    "Notamos que las gráficas parecen no converger pero vermos que este es un caso partícular.\n",
    "Podemos ver que nuestros valores sí son muy cercanos a cero, las oscilaciones pueden deberse a que Julia hace aproximaciones de las funciones, es decir, $sin(2\\pi)$ no es exactamente $0.0$, de la misma forma que $sin(\\pi)$, como se muestra a continuación."
   ]
  },
  {
   "cell_type": "code",
   "execution_count": 39,
   "metadata": {},
   "outputs": [
    {
     "data": {
      "text/plain": [
       "1.2246467991473532e-16"
      ]
     },
     "execution_count": 39,
     "metadata": {},
     "output_type": "execute_result"
    }
   ],
   "source": [
    "sin(pi)"
   ]
  },
  {
   "cell_type": "code",
   "execution_count": 40,
   "metadata": {},
   "outputs": [
    {
     "data": {
      "text/plain": [
       "-2.4492935982947064e-16"
      ]
     },
     "execution_count": 40,
     "metadata": {},
     "output_type": "execute_result"
    }
   ],
   "source": [
    "sin(2pi)"
   ]
  },
  {
   "cell_type": "markdown",
   "metadata": {},
   "source": [
    "Por lo que, el hecho de que las gráficas se vean así, no significa que los métodos no converjan. Simplemente es algo que sucede particularmente con esta función y por la escala tan pequeña que estamos manejando."
   ]
  },
  {
   "cell_type": "code",
   "execution_count": null,
   "metadata": {},
   "outputs": [],
   "source": []
  }
 ],
 "metadata": {
  "kernelspec": {
   "display_name": "Julia 0.5.2",
   "language": "julia",
   "name": "julia-0.5"
  },
  "language_info": {
   "file_extension": ".jl",
   "mimetype": "application/julia",
   "name": "julia",
   "version": "0.5.2"
  }
 },
 "nbformat": 4,
 "nbformat_minor": 2
}
