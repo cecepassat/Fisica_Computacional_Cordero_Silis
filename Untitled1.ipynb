{
 "cells": [
  {
   "cell_type": "markdown",
   "metadata": {},
   "source": [
    "__Ejercicio 1:__ ¿Como podemos evaluar funciones en matrices?\n",
    "__Hint:__ ¿que operaciones sabemos que estan bien definidas sobre matrices?"
   ]
  },
  {
   "cell_type": "markdown",
   "metadata": {},
   "source": [
    "Para evaluar una función $f$ en una matriz $M$, podemos definir dicha función como una suma infinita usando la serie de Taylor:\n",
    "\n",
    "$$f(A)=\\sum_{n=0}^\\infty \\frac{1}{n!}f^{(n)}(0)A^n$$"
   ]
  },
  {
   "cell_type": "markdown",
   "metadata": {},
   "source": [
    "__Ejercicio 2:__ ¿Como se define una matriz simétrica?"
   ]
  },
  {
   "cell_type": "markdown",
   "metadata": {},
   "source": [
    "Una matriz simétrica cumple que $A_{ij}=A_{ji}$, es decir, $A$ es igual a su transpuesta $A^T$"
   ]
  },
  {
   "cell_type": "markdown",
   "metadata": {},
   "source": [
    "__Ejercicio 3:__ ¿Como puede construir una matriz simétrica a partir de cualquier matriz cuadrada?"
   ]
  },
  {
   "cell_type": "markdown",
   "metadata": {},
   "source": [
    "Concideremos los renglones de la matriz $nxn$, del renglón $i=1$ al $i=n-1$, multiplicaremos ese renglón tal que, para $i=1$, el primer elemento del renglón 2, sea $0$, para $i=2$, repetimos el proceso tal que los primeros dos elementos del renglón 3 sean cero y así hasta el renglón $n-1$, tendremos entonces una __matriz triangular superior__, de la misma forma, empezando ahora con el renglón $n$ y el último elemento del renglón $n-1$, se construye la __matriz triangular inferior__, diagonalizando la matriz.  (Pero una matriz cuadrada no siempre se puede diagonalizar)."
   ]
  },
  {
   "cell_type": "markdown",
   "metadata": {},
   "source": [
    "Supongamos entonces una matriz $A\\in M_{nxn}$, es simetrizable si existe una matriz diagonal invertible $D$ y una matriz simétrica $S$ tal que $A=DS$, es decir, cumple que:\n",
    "\n",
    "**i** $a_{ij}=0$ implica $a_{ji}=0 \\quad \\forall \\quad1\\leq i \\leq j \\leq n$ \n",
    "\n",
    "**ii** $a_{i_{1}i_{2}}a_{i_{2}i_{3}...a_{i_{n}i_{1}}}=a_{i_{2}i_{1}}a_{i_{3}i_{2}}...a_{i_{1}i_{k}}$ para cualquier secuencia finita $(i_1,i_2,...,i_k)$"
   ]
  },
  {
   "cell_type": "code",
   "execution_count": null,
   "metadata": {},
   "outputs": [],
   "source": []
  },
  {
   "cell_type": "markdown",
   "metadata": {},
   "source": [
    "__Ejercicio 4:__ Construya el propagador $e^{A t}$ para cada tiempo sobre una malla y uselo para propagar un estado inicial $\\vec x_0$ cualquiera. Utilice:\n",
    "$$A=\\left(\\begin{array}{cc} 1 & 1\\\\ -1 & 1 \\end{array} \\right).$$\n",
    "* Grafique la trayectoria en el espacio de fase.\n",
    "* Recuerde que $\\vec x(t) = e^{A t}\\vec x_0$, y necesitamos graficar la trayectoria $\\vec x(t)$ en el espacio de fase."
   ]
  },
  {
   "cell_type": "code",
   "execution_count": 1,
   "metadata": {},
   "outputs": [],
   "source": [
    "## Definamos primero la matriz\n",
    "\n",
    "A=[1 1; -1 1];"
   ]
  },
  {
   "cell_type": "code",
   "execution_count": 3,
   "metadata": {},
   "outputs": [
    {
     "data": {
      "text/plain": [
       "2×2 Array{Complex{Float64},2}:\n",
       " 1.0+1.0im  0.0+0.0im\n",
       " 0.0+0.0im  1.0-1.0im"
      ]
     },
     "execution_count": 3,
     "metadata": {},
     "output_type": "execute_result"
    }
   ],
   "source": [
    "## Definamos ahora la matriz cuyas columnas son los vectores propios de A\n",
    "w=eigvecs(A)\n",
    "## Y la matriz diagonal, donde las entradas son los valores propios de A\n",
    "D=diagm(eigvals(A))"
   ]
  },
  {
   "cell_type": "code",
   "execution_count": 19,
   "metadata": {},
   "outputs": [
    {
     "data": {
      "text/plain": [
       "0.0:0.01:100.0"
      ]
     },
     "execution_count": 19,
     "metadata": {},
     "output_type": "execute_result"
    }
   ],
   "source": [
    "## Demos ahora un intervalo temporal\n",
    "tiempo=0:0.01:100"
   ]
  },
  {
   "cell_type": "code",
   "execution_count": 20,
   "metadata": {},
   "outputs": [],
   "source": [
    "## Fijemos una condición inicial\n",
    "x_0=[1,0]\n",
    "## Definamos una lista para guardar las soluciones\n",
    "lista_x=[]\n",
    "\n",
    "## Guardamos cada entrada de la lista donde se guardarán las soluciones usando \"for\"\n",
    "for i in 1:length(tiempo)\n",
    "    e=w*(exp(tiempo[i]*D))inv(w)     ## usando la ecuación vista en clase, definimos la matriz exponencial para \"tA\"\n",
    "    x=e*x_0     ## Aplicamos la condición inicial\n",
    "    \n",
    "    push!(lista_x,x)     ##guardamos las soluciones en la lista antes definida\n",
    "end"
   ]
  },
  {
   "cell_type": "code",
   "execution_count": 21,
   "metadata": {},
   "outputs": [],
   "source": [
    "using PyPlot     ## Para graficar"
   ]
  },
  {
   "cell_type": "code",
   "execution_count": 22,
   "metadata": {},
   "outputs": [
    {
     "data": {
      "image/png": "[encoded data removed]",
      "text/plain": [
       "PyPlot.Figure(PyObject <matplotlib.figure.Figure object at 0x7f02444ffe10>)"
      ]
     },
     "metadata": {},
     "output_type": "display_data"
    },
    {
     "data": {
      "text/plain": [
       "PyObject <matplotlib.text.Text object at 0x7f02443a3e10>"
      ]
     },
     "execution_count": 22,
     "metadata": {},
     "output_type": "execute_result"
    }
   ],
   "source": [
    "x=map(x->x[1],lista_x)\n",
    "\n",
    "y=map(x->x[2],lista_x)\n",
    "\n",
    "title(\"Espacio fase\")\n",
    "plot(x,y)\n",
    "grid(\"on\")\n",
    "xlabel(\"x\")\n",
    "ylabel(\"y\")"
   ]
  },
  {
   "cell_type": "code",
   "execution_count": null,
   "metadata": {},
   "outputs": [],
   "source": []
  },
  {
   "cell_type": "code",
   "execution_count": null,
   "metadata": {},
   "outputs": [],
   "source": []
  },
  {
   "cell_type": "code",
   "execution_count": null,
   "metadata": {},
   "outputs": [],
   "source": []
  },
  {
   "cell_type": "code",
   "execution_count": null,
   "metadata": {},
   "outputs": [],
   "source": []
  },
  {
   "cell_type": "code",
   "execution_count": null,
   "metadata": {},
   "outputs": [],
   "source": []
  }
 ],
 "metadata": {
  "kernelspec": {
   "display_name": "Julia 0.5.2",
   "language": "julia",
   "name": "julia-0.5"
  },
  "language_info": {
   "file_extension": ".jl",
   "mimetype": "application/julia",
   "name": "julia",
   "version": "0.5.2"
  }
 },
 "nbformat": 4,
 "nbformat_minor": 2
}
