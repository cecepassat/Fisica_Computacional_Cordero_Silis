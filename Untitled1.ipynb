{
 "cells": [
  {
   "cell_type": "markdown",
   "metadata": {},
   "source": [
    "__Ejercicio 1:__ ¿Como podemos evaluar funciones en matrices?\n",
    "__Hint:__ ¿que operaciones sabemos que estan bien definidas sobre matrices?"
   ]
  },
  {
   "cell_type": "code",
   "execution_count": null,
   "metadata": {},
   "outputs": [],
   "source": []
  },
  {
   "cell_type": "markdown",
   "metadata": {},
   "source": [
    "__Ejercicio 2:__ ¿Como se define una matriz simétrica?"
   ]
  },
  {
   "cell_type": "markdown",
   "metadata": {},
   "source": [
    "Una matriz simétrica cumple que $A_{ij}=A_{ji}$, es decir, $A$ es igual a su transpuesta $A^T$"
   ]
  },
  {
   "cell_type": "markdown",
   "metadata": {},
   "source": [
    "__Ejercicio 3:__ ¿Como puede construir una matriz simétrica a partir de cualquier matriz cuadrada?"
   ]
  },
  {
   "cell_type": "markdown",
   "metadata": {},
   "source": [
    "Concideremos los renglones de la matriz $nxn$, del renglón $i=1$ al $i=n-1$, multiplicaremos ese renglón tal que, para $i=1$, el primer elemento del renglón 2, sea $0$, para $i=2$, repetimos el proceso tal que los primeros dos elementos del renglón 3 sean cero y así hasta el renglón $n-1$, tendremos entonces una __matriz triangular superior__, de la misma forma, empezando ahora con el renglón $n$ y el último elemento del renglón $n-1$, se construye la __matriz triangular inferior__, diagonalizando la matriz.  (Pero una matriz cuadrada no siempre se puede diagonalizar)."
   ]
  },
  {
   "cell_type": "markdown",
   "metadata": {},
   "source": [
    "Supongamos entonces una matriz $A\\in M_{nxn}$, es simetrizable si existe una matriz diagonal invertible $D$ y una matriz simétrica $S$ tal que $A=DS$, es decir, cumple que:\n",
    "\n",
    "**i** $a_{ij}=0$ implica $a_{ji}=0 \\quad \\forall \\quad1\\leq i \\leq j \\leq n$ \n",
    "\n",
    "**ii** $a_{i_{1}i_{2}}a_{i_{2}i_{3}...a_{i_{n}i_{1}}}=a_{i_{2}i_{1}}a_{i_{3}i_{2}}...a_{i_{1}i_{k}}$ para cualquier secuencia finita $(i_1,i_2,...,i_k)$"
   ]
  },
  {
   "cell_type": "code",
   "execution_count": null,
   "metadata": {},
   "outputs": [],
   "source": []
  },
  {
   "cell_type": "markdown",
   "metadata": {},
   "source": [
    "__Ejercicio 4:__ Construya el propagador $e^{A t}$ para cada tiempo sobre una malla y uselo para propagar un estado inicial $\\vec x_0$ cualquiera. Utilice:\n",
    "$$A=\\left(\\begin{array}{cc} 1 & 1\\\\ -1 & 1 \\end{array} \\right).$$\n",
    "* Grafique la trayectoria en el espacio de fase."
   ]
  },
  {
   "cell_type": "code",
   "execution_count": 9,
   "metadata": {},
   "outputs": [],
   "source": [
    "## Definamo primero la matriz\n",
    "\n",
    "A=[1 1; -1 1];"
   ]
  },
  {
   "cell_type": "code",
   "execution_count": 10,
   "metadata": {},
   "outputs": [
    {
     "name": "stdout",
     "output_type": "stream",
     "text": [
      "A = [1 1; -1 1]\n"
     ]
    },
    {
     "data": {
      "text/plain": [
       "2×2 Array{Int64,2}:\n",
       "  1  1\n",
       " -1  1"
      ]
     },
     "execution_count": 10,
     "metadata": {},
     "output_type": "execute_result"
    }
   ],
   "source": [
    "@show A"
   ]
  },
  {
   "cell_type": "code",
   "execution_count": 11,
   "metadata": {},
   "outputs": [
    {
     "data": {
      "text/plain": [
       "2-element Array{Complex{Float64},1}:\n",
       " 1.0+1.0im\n",
       " 1.0-1.0im"
      ]
     },
     "execution_count": 11,
     "metadata": {},
     "output_type": "execute_result"
    }
   ],
   "source": [
    "vals=eigvals(A)"
   ]
  },
  {
   "cell_type": "code",
   "execution_count": 15,
   "metadata": {},
   "outputs": [
    {
     "data": {
      "text/plain": [
       "2×2 Array{Complex{Float64},2}:\n",
       " 1.46869+2.28736im      0.0+0.0im    \n",
       "     0.0+0.0im      1.46869-2.28736im"
      ]
     },
     "execution_count": 15,
     "metadata": {},
     "output_type": "execute_result"
    }
   ],
   "source": [
    "## La xponencial de A\n",
    "\n",
    "B=diagm(exp.(vals))"
   ]
  },
  {
   "cell_type": "code",
   "execution_count": 13,
   "metadata": {},
   "outputs": [
    {
     "data": {
      "text/plain": [
       "2×2 Array{Complex{Float64},2}:\n",
       " 0.707107+0.0im       0.707107-0.0im     \n",
       "      0.0+0.707107im       0.0-0.707107im"
      ]
     },
     "execution_count": 13,
     "metadata": {},
     "output_type": "execute_result"
    }
   ],
   "source": [
    "w=eigvecs(A)"
   ]
  },
  {
   "cell_type": "code",
   "execution_count": 14,
   "metadata": {},
   "outputs": [
    {
     "data": {
      "text/plain": [
       "2×2 Array{Complex{Float64},2}:\n",
       " 0.707107-0.0im  -0.0-0.707107im\n",
       " 0.707107+0.0im   0.0+0.707107im"
      ]
     },
     "execution_count": 14,
     "metadata": {},
     "output_type": "execute_result"
    }
   ],
   "source": [
    "win=inv(w)"
   ]
  },
  {
   "cell_type": "code",
   "execution_count": 16,
   "metadata": {},
   "outputs": [
    {
     "data": {
      "text/plain": [
       "2×2 Array{Complex{Float64},2}:\n",
       "  1.46869+0.0im  2.28736+0.0im\n",
       " -2.28736+0.0im  1.46869+0.0im"
      ]
     },
     "execution_count": 16,
     "metadata": {},
     "output_type": "execute_result"
    }
   ],
   "source": [
    "xpA=w*B*win"
   ]
  },
  {
   "cell_type": "code",
   "execution_count": 17,
   "metadata": {},
   "outputs": [
    {
     "data": {
      "text/plain": [
       "2×2 Array{Float64,2}:\n",
       "  1.46869  2.28736\n",
       " -2.28736  1.46869"
      ]
     },
     "execution_count": 17,
     "metadata": {},
     "output_type": "execute_result"
    }
   ],
   "source": [
    "## Para comprobar usaré la función \"expm\"\n",
    "\n",
    "expm(A)"
   ]
  },
  {
   "cell_type": "code",
   "execution_count": 18,
   "metadata": {},
   "outputs": [
    {
     "data": {
      "text/plain": [
       "2×2 Array{Complex{Float64},2}:\n",
       "  1.46869+0.0im  2.28736+0.0im\n",
       " -2.28736+0.0im  1.46869+0.0im"
      ]
     },
     "execution_count": 18,
     "metadata": {},
     "output_type": "execute_result"
    }
   ],
   "source": [
    "xpA"
   ]
  },
  {
   "cell_type": "code",
   "execution_count": 22,
   "metadata": {},
   "outputs": [
    {
     "data": {
      "text/plain": [
       "10000-element LinSpace{Float64}:\n",
       " 0.0,0.0010001,0.0020002,0.0030003,…,9.995,9.996,9.997,9.998,9.999,10.0"
      ]
     },
     "execution_count": 22,
     "metadata": {},
     "output_type": "execute_result"
    }
   ],
   "source": [
    "listt=linspace(0,10,10000)"
   ]
  },
  {
   "cell_type": "code",
   "execution_count": null,
   "metadata": {},
   "outputs": [],
   "source": [
    "listx=[]\n",
    "for t in listt\n",
    "    \n",
    "    "
   ]
  }
 ],
 "metadata": {
  "kernelspec": {
   "display_name": "Julia 0.5.2",
   "language": "julia",
   "name": "julia-0.5"
  },
  "language_info": {
   "file_extension": ".jl",
   "mimetype": "application/julia",
   "name": "julia",
   "version": "0.5.2"
  }
 },
 "nbformat": 4,
 "nbformat_minor": 2
}
