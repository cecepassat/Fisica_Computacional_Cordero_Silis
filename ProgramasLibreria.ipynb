{
 "cells": [
  {
   "cell_type": "code",
   "execution_count": 21,
   "metadata": {},
   "outputs": [],
   "source": [
    "## Programas"
   ]
  },
  {
   "cell_type": "code",
   "execution_count": 1,
   "metadata": {},
   "outputs": [],
   "source": [
    "__precompile__()"
   ]
  },
  {
   "cell_type": "code",
   "execution_count": 2,
   "metadata": {},
   "outputs": [
    {
     "ename": "LoadError",
     "evalue": "\u001b[91msyntax: incomplete: premature end of input\u001b[39m",
     "output_type": "error",
     "traceback": [
      "\u001b[91msyntax: incomplete: premature end of input\u001b[39m",
      ""
     ]
    }
   ],
   "source": []
  },
  {
   "cell_type": "code",
   "execution_count": 4,
   "metadata": {},
   "outputs": [
    {
     "data": {
      "text/plain": [
       "herramientas"
      ]
     },
     "execution_count": 4,
     "metadata": {},
     "output_type": "execute_result"
    }
   ],
   "source": [
    "module herramientas\n",
    "\n",
    "## Método de Newto\n",
    "\n",
    "export Metodo_Newton\n",
    "function Metodo_Newton(f,derivadaf,inicial)\n",
    "    \n",
    "    x=inicial;\n",
    "    for i in 1:100\n",
    "        x=x-f(x)/derivadaf(x)\n",
    "    end\n",
    "    #La función regresa el último valor de x obtenido\n",
    "    return x\n",
    "end\n",
    "\n",
    "## Newton Funciones Arbitrarias\n",
    "export metodo\n",
    "function metodo(f,derivada,inicial)\n",
    "      #x=Sym(\"x\")\n",
    "   \n",
    "    \n",
    "    list=zeros(Complex64,30);\n",
    "    j=inicial;\n",
    "    for i in 1:30\n",
    "            #@show [j]\n",
    "        j=j-f(j)/derivada(j);\n",
    "        list[i]=j;\n",
    "    end\n",
    "    \n",
    "    return j\n",
    "end\n",
    "\n",
    "export DerivadaNumerica\n",
    "function DerivadaNumerica(f,x0,h)\n",
    "    return df=(f(x0+h)-f(x0))/h\n",
    "    end\n",
    "\n",
    "export Derivada_Simetrica\n",
    "function Derivada_Simetrica(f,x0,h)\n",
    "    (f(x0+h)-f(x0-h))/2h\n",
    "end\n",
    "\n",
    "## Integración Rectángunlo\n",
    "export RiemannRectangulo\n",
    "function RiemannRectangulo(f,a,b,e)\n",
    "    h=1+round((b-a)/e)\n",
    "    list=linspace(a,b,h)\n",
    "    int=0\n",
    "    \n",
    "    for i in 2:length(list)\n",
    "        int=int+(list[i]-list[i-1])*f((list[i]+list[i-1])/2)\n",
    "    \n",
    "    end\n",
    "    \n",
    "    return int    \n",
    "end\n",
    "\n",
    "## Integración Trapecio\n",
    "export Trapecio\n",
    "function Trapecio(f,a,b,e)\n",
    "    \n",
    "    h=1+round((b-a)/e)\n",
    "    list=linspace(a,b,h)    \n",
    "    int=0\n",
    "    \n",
    "    for i in 2:length(list)\n",
    "        int=int+(list[i]-list[i-1])*((f(list[i])+f(list[i-1]))/2)\n",
    "    end\n",
    "    \n",
    "    return int    \n",
    "end\n",
    "\n",
    "## Integración Simpson\n",
    "export Simpson\n",
    "function Simpson(f,a,b,e)\n",
    "    h=1+round((b-a)/e)\n",
    "    list=linspace(a,b,h)\n",
    "    int=0\n",
    "    \n",
    "    for i in 2:length(list)\n",
    "        int=int+((list[i]-list[i-1])/6)*(f(list[i-1])+4*f((list[i]+list[i-1])/2)+f(list[i]))\n",
    "    end\n",
    "\n",
    "    return int    \n",
    "end\n",
    "\n",
    "## Euler Simétrico\n",
    "export Metodo_Euler\n",
    "function Metodo_Euler(f,x0,t0,tf,h)\n",
    "    x=x0\n",
    "    t=t0\n",
    "    ## Definimos las listas a utilizar \"listt\" y \"listx\", así como las funciones a las que están asociadas x,t\n",
    "    listt=[]\n",
    "    listx=[]\n",
    "    n = round((tf-t0)/h) ## Aplicamos la fórmula de Euler\n",
    "    for i in 1:n-1\n",
    "        x += h*f(x,t)\n",
    "        t += h\n",
    "        push!(listt,t) ## Limitamos los valores que se tomarán para no saturarse de resultados\n",
    "        push!(listx,x)\n",
    "    end\n",
    "    return listt, listx\n",
    "end\n",
    "\n",
    "## Euler más de una dimensión\n",
    "export Metodo_Euler2\n",
    "function Metodo_Euler2(f,x0,u0,listt)\n",
    "    n=round((tf-t0)/h)+1\n",
    "    listt=linspace(t0,tf,n)\n",
    "    x=x0\n",
    "    listx=[]\n",
    "    \n",
    "    push!(listx,x)\n",
    "\n",
    "    for i in 1:length(listt)-1\n",
    "        x = x + f(x,listt[i])*h\n",
    "        push!(listx,x) \n",
    "    end\n",
    "\n",
    "    return listt, listx\n",
    "end\n",
    "\n",
    "## Usando ahora el método de Newton definimos el método implícito de Euler (en función del de Newton) agregando ahora una dependencia de una lista (listt)\n",
    "export Imp_Euler\n",
    "function Imp_Euler(f,derivadaf,listt,x0)\n",
    "    \n",
    "## Definimos listx como un arreglo de raíces del mismo orden (entiéndase cardinalidad) que la lista de t's.\n",
    "    listx=zeros(length(listt))\n",
    "    listx[1]=x0\n",
    "    h=listt[2]-listt[1]     ## Es la distancia entre las primeras entradas\n",
    "    for i in 1:length(listt)-1     ## Guardamos las entradas de listx siguientes\n",
    "        \n",
    "## La siguiente función es a la que tenemos que encontrar su raíz (usando el método implícito) es decir, el \"elemento\" x_{i+1}.\n",
    "    g(z)=z-f(z,listt[i+1])*h-listx[i]\n",
    "    derivadag(z)= 1-derivadaf(z,listt[i+1])*h     ## Consideremos también su derivada\n",
    "        \n",
    "        \n",
    "## Aplicamos el método de Newton a g, usando la condición inicial x_{i} y tomando cada raíz como el siguiente elemento(x_{i+1}).\n",
    "    listx[i+1]=Metodo_Newton(g,derivadag,listx[i])    \n",
    "    end\n",
    "    \n",
    "    return listx     ## Obtenemos los valores para x\n",
    "    \n",
    "end\n",
    "\n",
    "## Euler Punto Medio\n",
    "\n",
    "## Definimos la función para el método del punto medio\n",
    "export Punto_M\n",
    "function Punto_M(f,listt,inicial)\n",
    "    h=listt[2]-listt[1]     ## Nuevamente tenemos la distancia entre las primeros dos entradas\n",
    "    \n",
    "    listx=zeros(length(listt))     ## Misma longitud de las listas\n",
    "    \n",
    "    listx[1]=inicial\n",
    "    \n",
    "## Apliquemos las iteraciones dada la condición de recurrencia\n",
    "    for i in 1:length(listt)-1\n",
    "       listx[i+1]= listx[i]+h*f(listx[i]+(h/2)*f(listx[i],listt[i]),listt[i]+h/2)\n",
    "    end \n",
    "    \n",
    "    return listx     ## Obtenemos nuestros resultados\n",
    "    \n",
    "end\n",
    "\n",
    "## Runge-Kutta orden 4\n",
    "export RK_O4\n",
    "function RK_O4(f,listt,x0)\n",
    "    listx=zeros(length(listt))\n",
    "    listx[1]=x0\n",
    "    h=listt[2]-listt[1]\n",
    "    \n",
    "    for i in 1:length(listt)-1\n",
    "        it1=f(listx[i],listt[i])\n",
    "        it2=f(listx[i]+(h/2)*it1,listt[i]+h/2)\n",
    "        it3=f(listx[i]+(h/2)*it2,listt[i]+h/2)\n",
    "        it4=f(listx[i]+h*it3,listt[i+1])     ## Aplicamos la relación de recurrencia para cada iteración hasta orden 4\n",
    "        \n",
    "        listx[i+1]=listx[i]+(h/6)*(it1+2*it2+2*it3+it4)     ## Lista donde se guardan las x's obtenidas\n",
    "        \n",
    "    end\n",
    "      \n",
    "    return listx     ## Obtenemos las x's del paso anterior\n",
    "    \n",
    "end\n",
    "\n",
    "end"
   ]
  },
  {
   "cell_type": "code",
   "execution_count": 24,
   "metadata": {},
   "outputs": [
    {
     "data": {
      "text/plain": [
       "DerivadaNumerica (generic function with 1 method)"
      ]
     },
     "execution_count": 24,
     "metadata": {},
     "output_type": "execute_result"
    }
   ],
   "source": []
  },
  {
   "cell_type": "code",
   "execution_count": 25,
   "metadata": {},
   "outputs": [
    {
     "data": {
      "text/plain": [
       "Derivada_Simetrica (generic function with 1 method)"
      ]
     },
     "execution_count": 25,
     "metadata": {},
     "output_type": "execute_result"
    }
   ],
   "source": []
  },
  {
   "cell_type": "code",
   "execution_count": 26,
   "metadata": {},
   "outputs": [
    {
     "data": {
      "text/plain": [
       "RiemannRectangulo (generic function with 1 method)"
      ]
     },
     "execution_count": 26,
     "metadata": {},
     "output_type": "execute_result"
    }
   ],
   "source": []
  },
  {
   "cell_type": "code",
   "execution_count": 27,
   "metadata": {},
   "outputs": [
    {
     "data": {
      "text/plain": [
       "Trapecio (generic function with 1 method)"
      ]
     },
     "execution_count": 27,
     "metadata": {},
     "output_type": "execute_result"
    }
   ],
   "source": []
  },
  {
   "cell_type": "code",
   "execution_count": 28,
   "metadata": {},
   "outputs": [
    {
     "data": {
      "text/plain": [
       "Simpson (generic function with 1 method)"
      ]
     },
     "execution_count": 28,
     "metadata": {},
     "output_type": "execute_result"
    }
   ],
   "source": []
  },
  {
   "cell_type": "code",
   "execution_count": 29,
   "metadata": {},
   "outputs": [
    {
     "data": {
      "text/plain": [
       "Metodo_Euler (generic function with 1 method)"
      ]
     },
     "execution_count": 29,
     "metadata": {},
     "output_type": "execute_result"
    }
   ],
   "source": []
  },
  {
   "cell_type": "code",
   "execution_count": 30,
   "metadata": {},
   "outputs": [
    {
     "data": {
      "text/plain": [
       "Metodo_Euler2 (generic function with 1 method)"
      ]
     },
     "execution_count": 30,
     "metadata": {},
     "output_type": "execute_result"
    }
   ],
   "source": []
  },
  {
   "cell_type": "code",
   "execution_count": 31,
   "metadata": {},
   "outputs": [
    {
     "data": {
      "text/plain": [
       "Imp_Euler (generic function with 1 method)"
      ]
     },
     "execution_count": 31,
     "metadata": {},
     "output_type": "execute_result"
    }
   ],
   "source": []
  },
  {
   "cell_type": "code",
   "execution_count": 32,
   "metadata": {},
   "outputs": [
    {
     "data": {
      "text/plain": [
       "Punto_M (generic function with 1 method)"
      ]
     },
     "execution_count": 32,
     "metadata": {},
     "output_type": "execute_result"
    }
   ],
   "source": []
  },
  {
   "cell_type": "code",
   "execution_count": 33,
   "metadata": {},
   "outputs": [
    {
     "data": {
      "text/plain": [
       "RK_O4 (generic function with 1 method)"
      ]
     },
     "execution_count": 33,
     "metadata": {},
     "output_type": "execute_result"
    }
   ],
   "source": []
  },
  {
   "cell_type": "code",
   "execution_count": null,
   "metadata": {},
   "outputs": [],
   "source": []
  }
 ],
 "metadata": {
  "kernelspec": {
   "display_name": "Julia 0.7.0-DEV",
   "language": "julia",
   "name": "julia-0.7"
  },
  "language_info": {
   "file_extension": ".jl",
   "mimetype": "application/julia",
   "name": "julia",
   "version": "0.7.0"
  }
 },
 "nbformat": 4,
 "nbformat_minor": 2
}
