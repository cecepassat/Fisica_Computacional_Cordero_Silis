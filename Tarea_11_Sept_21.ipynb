{
 "cells": [
  {
   "cell_type": "markdown",
   "metadata": {},
   "source": [
    "## Tarea 11 Septiembre 21 (atrasada)"
   ]
  },
  {
   "cell_type": "code",
   "execution_count": 2,
   "metadata": {
    "collapsed": true
   },
   "outputs": [],
   "source": [
    "##Agreguemos primero los paquetes a utilizar"
   ]
  },
  {
   "cell_type": "code",
   "execution_count": 3,
   "metadata": {
    "collapsed": false
   },
   "outputs": [
    {
     "name": "stderr",
     "output_type": "stream",
     "text": [
      "\u001b[1m\u001b[36mINFO: \u001b[39m\u001b[22m\u001b[36mPackage PyPlot is already installed\n",
      "\u001b[39m\u001b[1m\u001b[36mINFO: \u001b[39m\u001b[22m\u001b[36mMETADATA is out-of-date — you may not have the latest version of PyPlot\n",
      "\u001b[39m\u001b[1m\u001b[36mINFO: \u001b[39m\u001b[22m\u001b[36mUse `Pkg.update()` to get the latest versions of your packages\n",
      "\u001b[39m\u001b[1m\u001b[36mINFO: \u001b[39m\u001b[22m\u001b[36mPackage SymPy is already installed\n",
      "\u001b[39m\u001b[1m\u001b[36mINFO: \u001b[39m\u001b[22m\u001b[36mMETADATA is out-of-date — you may not have the latest version of SymPy\n",
      "\u001b[39m\u001b[1m\u001b[36mINFO: \u001b[39m\u001b[22m\u001b[36mUse `Pkg.update()` to get the latest versions of your packages\n",
      "\u001b[39m"
     ]
    }
   ],
   "source": [
    "Pkg.add(\"PyPlot\")\n",
    "Pkg.add(\"SymPy\")"
   ]
  },
  {
   "cell_type": "code",
   "execution_count": 53,
   "metadata": {
    "collapsed": true
   },
   "outputs": [],
   "source": [
    "using PyPlot;\n",
    "plt = PyPlot;\n",
    "using SymPy;"
   ]
  },
  {
   "cell_type": "markdown",
   "metadata": {
    "collapsed": true
   },
   "source": [
    "__Ejercicio 1:__. Implementa el método de Euler en `Julia`. Debe ser de la forma `metodo_euler(f,x0,t0,tf,h)`. No olvide que no debe de utilizar `SymPy` de ningún modo en este ejercicio. Naturalmente la función `f` es de dos variables. El _output_ de la función debe ser `return listt,listx`. Otra forma quizá más inteligente de implementarlo es definir desde antes `listt`, y que los inputs del método sean de la forma: `metodo_euler(f,x0,listt)`, naturalmente en `listt` va el tiempo inicial $t_0$ y el paso $h$ que utilizará el método."
   ]
  },
  {
   "cell_type": "code",
   "execution_count": 26,
   "metadata": {
    "collapsed": false
   },
   "outputs": [
    {
     "data": {
      "text/plain": [
       "Metodo_Euler (generic function with 1 method)"
      ]
     },
     "execution_count": 26,
     "metadata": {},
     "output_type": "execute_result"
    }
   ],
   "source": [
    "## Definimos primero la función a utilizar\n",
    "\n",
    "function Metodo_Euler(f,x0,t0,tf,h)\n",
    "    x=x0\n",
    "    t=t0\n",
    "    ## Definimos las listas a utilizar \"listt\" y \"listx\", así como las funciones a las que están asociadas x,t\n",
    "    listt=[]\n",
    "    listx=[]\n",
    "    n = round((tf-t0)/h) ## Aplicamos la fórmula de Euler\n",
    "    for i in 1:n-1\n",
    "        x += h*f(x,t)\n",
    "        t += h\n",
    "        push!(listt,t) ## Limitamos los valores que se tomarán para no saturarse de resultados\n",
    "        push!(listx,x)\n",
    "    end\n",
    "    return listt, listx\n",
    "end"
   ]
  },
  {
   "cell_type": "markdown",
   "metadata": {
    "collapsed": true
   },
   "source": [
    "* Pruebe su nuevo método resolviendo la ecuación:\n",
    "$$\\frac{dx}{dt}=-\\alpha x, x(0)=1\\text{ y }2, \\text{ y } t\\in(0,8).$$\n",
    "con $\\alpha>0$, pruebenlo para $\\alpha=2.5$, $h=1.0,0.5,0.2,0.01$."
   ]
  },
  {
   "cell_type": "code",
   "execution_count": 14,
   "metadata": {
    "collapsed": true
   },
   "outputs": [],
   "source": [
    "## Definamos primero una función como se sugiere y evaluémosla en los distintos puntos de h para x(0)=1"
   ]
  },
  {
   "cell_type": "code",
   "execution_count": 20,
   "metadata": {
    "collapsed": false
   },
   "outputs": [
    {
     "data": {
      "text/plain": [
       "f (generic function with 2 methods)"
      ]
     },
     "execution_count": 20,
     "metadata": {},
     "output_type": "execute_result"
    }
   ],
   "source": [
    "f(x)=-2.5x ## Notemos que la derivada de la función no depende de la variable temporal, por eso la función es dependiente sólo de x"
   ]
  },
  {
   "cell_type": "code",
   "execution_count": 28,
   "metadata": {
    "collapsed": false
   },
   "outputs": [
    {
     "data": {
      "text/plain": [
       "(Any[1, 2, 3, 4, 5, 6, 7], Any[4.1415, 17.152, 71.0351, 294.192, 1218.4, 5045.99, 20897.9])"
      ]
     },
     "execution_count": 28,
     "metadata": {},
     "output_type": "execute_result"
    }
   ],
   "source": [
    "ejemplo1=Metodo_Euler(f,1,0,8,1)"
   ]
  },
  {
   "cell_type": "code",
   "execution_count": 29,
   "metadata": {
    "collapsed": false
   },
   "outputs": [
    {
     "data": {
      "text/plain": [
       "(Any[0.5, 1.0, 1.5, 2.0, 2.5, 3.0, 3.5, 4.0, 4.5, 5.0, 5.5, 6.0, 6.5, 7.0, 7.5], Any[2.57075, 6.60876, 16.9895, 43.6757, 112.279, 288.642, 742.026, 1907.56, 4903.87, 12606.6, 32408.5, 83314.0, 2.1418e5, 550602.0, 1.41546e6])"
      ]
     },
     "execution_count": 29,
     "metadata": {},
     "output_type": "execute_result"
    }
   ],
   "source": [
    "ejemplo2=Metodo_Euler(f,1,0,8,0.5)"
   ]
  },
  {
   "cell_type": "code",
   "execution_count": 30,
   "metadata": {
    "collapsed": false
   },
   "outputs": [
    {
     "data": {
      "text/plain": [
       "(Any[0.2, 0.4, 0.6, 0.8, 1.0, 1.2, 1.4, 1.6, 1.8, 2.0  …  6.0, 6.2, 6.4, 6.6, 6.8, 7.0, 7.2, 7.4, 7.6, 7.8], Any[1.6283, 2.65136, 4.31721, 7.02971, 11.4465, 18.6383, 30.3488, 49.4169, 80.4655, 131.022  …  2.24922e6, 3.66241e6, 5.9635e6, 9.71037e6, 1.58114e7, 2.57457e7, 4.19217e7, 6.82612e7, 1.1115e8, 1.80985e8])"
      ]
     },
     "execution_count": 30,
     "metadata": {},
     "output_type": "execute_result"
    }
   ],
   "source": [
    "ejemplo3=Metodo_Euler(f,1,0,8,0.2)"
   ]
  },
  {
   "cell_type": "code",
   "execution_count": 31,
   "metadata": {
    "collapsed": false
   },
   "outputs": [
    {
     "data": {
      "text/plain": [
       "(Any[0.01, 0.02, 0.03, 0.04, 0.05, 0.06, 0.07, 0.08, 0.09, 0.1  …  7.9, 7.91, 7.92, 7.93, 7.94, 7.95, 7.96, 7.97, 7.98, 7.99], Any[1.03141, 1.06382, 1.09724, 1.13171, 1.16726, 1.20393, 1.24175, 1.28076, 1.32099, 1.36249  …  4.09657e10, 4.22526e10, 4.358e10, 4.4949e10, 4.63611e10, 4.78175e10, 4.93197e10, 5.08691e10, 5.24672e10, 5.41154e10])"
      ]
     },
     "execution_count": 31,
     "metadata": {},
     "output_type": "execute_result"
    }
   ],
   "source": [
    "ejemplo4=Metodo_Euler(f,1,0,8,0.01)"
   ]
  },
  {
   "cell_type": "markdown",
   "metadata": {},
   "source": [
    "* Gráfique la solución que obtuvo junto con la curva de la solución exacta, asegúrese de que los puntos de la solución aparezcán unidos en la gráfica para obtener una mejor perspectiva. Haga una gráfica para cada condición inicial, que incluya todos los diferentes pasos usados (excepto $h=1$, este gráfiquelo aparte para cada caso), la idea aquí es ver como nos aproximamos a la solución exacta conforme tomamos $h$'s más pequeños."
   ]
  },
  {
   "cell_type": "code",
   "execution_count": 44,
   "metadata": {
    "collapsed": false
   },
   "outputs": [
    {
     "data": {
      "image/png": "[encoded data removed]",
      "text/plain": [
       "PyPlot.Figure(PyObject <matplotlib.figure.Figure object at 0x7ff0ec173210>)"
      ]
     },
     "metadata": {},
     "output_type": "display_data"
    }
   ],
   "source": [
    "## Graficamos los valores obtenidos para los distintos valores de h\n",
    "plot(ejemplo1[1],ejemplo1[2],label=\"h=1\")\n",
    "plot(ejemplo2[1],ejemplo2[2],label=\"h=0.5\")\n",
    "plot(ejemplo3[1],ejemplo3[2],label=\"h=0.2\")\n",
    "plot(ejemplo4[1],ejemplo4[2],label=\"h=0.01\")\n",
    "plot(t,exp.(-2.5*t),label=\"Solución real\")\n",
    "t=linspace(0,8,50) #Graficamos la solución exacta. Tomamos x(0)= 1.\n",
    "grid(\"on\")\n",
    "title(\"Aproximaciones a la solución usando el método de Euler\");\n"
   ]
  },
  {
   "cell_type": "code",
   "execution_count": 45,
   "metadata": {
    "collapsed": true
   },
   "outputs": [],
   "source": [
    "## Cambiemos el domino del resultado de la función para observar lo que sucede en el área de convergencia"
   ]
  },
  {
   "cell_type": "markdown",
   "metadata": {},
   "source": [
    "plot(ejemplo1[1],ejemplo1[2],label=\"h=1\")\n",
    "plot(ejemplo2[1],ejemplo2[2],label=\"h=0.5\")\n",
    "plot(ejemplo3[1],ejemplo3[2],label=\"h=0.2\")\n",
    "plot(ejemplo4[1],ejemplo4[2],label=\"h=0.01\")\n",
    "plot(t,exp.(-2.5*t),label=\"Solución real\")\n",
    "xlim=(-6,9)   ## Por alguna razón no se aplican los cambios a los límites de la gráfica\n",
    "ylim=(-1,1)\n",
    "t=linspace(0,8,50) #Graficamos la solución exacta. Tomamos x(0)= 1.\n",
    "grid(\"on\")\n",
    "title(\"Aproximaciones a la solución usando el método de Euler\")\n",
    "show();\n"
   ]
  },
  {
   "cell_type": "markdown",
   "metadata": {},
   "source": [
    "### Desacoplamiento de ecuaciones diferenciales de orden 2."
   ]
  },
  {
   "cell_type": "markdown",
   "metadata": {
    "collapsed": false
   },
   "source": [
    "__Ejercicio 2:__. ¿Qué sistema físico está modelado por $\\ddot{x} =\n",
    "-kx$?\n",
    "* Escriba la solución exacta en terminos de las condiciones iniciales $x(0)$ y $x'(0)$.\n",
    "\n",
    "A simple vista, uno podría pensar que para resolver este\n",
    "sistema uno debe desarrollar otro método para encontrar la\n",
    "solución a la ecuación diferencial del ejercicio pasado. Sin\n",
    "embargo, esto no es necesario."
   ]
  },
  {
   "cell_type": "markdown",
   "metadata": {
    "collapsed": true
   },
   "source": [
    "El sistéma físico que modela la ecuación $\\ddot{x}=-kx$ es el oscilador armónico simple, donde $k$ es una constante positiva.\n",
    "\n",
    "Dada la forma de la ecuación diferencial de $2^{do}$ orden, podemos proponer la solución de la forma:\n",
    "\n",
    "$$x(t)=Ae^{i\\sqrt{k}t}+Be^{-i\\sqrt{k}t}$$\n",
    "\n",
    "O bien, en términos de senos y cosenos:\n",
    "\n",
    "$$\\Rightarrow x(t) = Acos\\left(\\sqrt{k} t\\right) + Bsen\\left(\\sqrt{k} t\\right)$$"
   ]
  },
  {
   "cell_type": "markdown",
   "metadata": {
    "collapsed": true
   },
   "source": [
    "Ahora:\n",
    "$$ x'(0)=-A\\sqrt{k}sen\\left(\\sqrt{k}t \\right) + B\\sqrt{k}cos\\left(\\sqrt{k}t \\right) $$\n",
    "\n",
    "Aplicando las condiciones iniciales:\n",
    "\n",
    "$$ x(0)=A $$\n",
    "$$ x'(0)=\\sqrt{k}B $$"
   ]
  },
  {
   "cell_type": "markdown",
   "metadata": {},
   "source": [
    "\n",
    "$$ \\therefore \\quad x(t) = Acos\\left(\\sqrt{k} t\\right) + B\\sqrt{k}sen\\left(\\sqrt{k} t\\right) $$"
   ]
  },
  {
   "cell_type": "markdown",
   "metadata": {},
   "source": [
    "__Ejercicio 3:__. Haz $u = \\dot{x}(t)$ y calcula la derivada de\n",
    "$u$ ¿qué obtienes y como se relaciona con el sistema\n",
    "original?\n",
    "\n",
    "Si llevaste a cabo el ejercicio anterior, te darás cuenta\n",
    "que terminas con un sistema acoplado de ecuaciones\n",
    "diferenciales:\n",
    "\n",
    "$$\n",
    "\\dot{u} = -kx, \\dot{x} = u,\n",
    "$$\n",
    "\n",
    "Con este sistema acoplado puedes utilizar el método de\n",
    "Euler en su forma vectorial:\n",
    "$$\\frac{d\\vec x}{dt}=\\vec f(\\vec x,t),$$\n",
    "donde $\\vec x=(x,u)$, y para este caso es facil ver que $\\vec f(\\vec x,t)=(u,-kx).$"
   ]
  },
  {
   "cell_type": "markdown",
   "metadata": {
    "collapsed": true
   },
   "source": [
    "Si $u = x'(t)$ $\\rightarrow$ $u'(t) = x''(t) + k$. Donde $k$ es una constante\n",
    "Lo cual nos indica que la ecuación original debe cumplir:\n",
    "\n",
    "\n",
    "* $u(t) = x'(t)$\n",
    "* $u'(t) = -kx(t)$\n"
   ]
  },
  {
   "cell_type": "code",
   "execution_count": null,
   "metadata": {
    "collapsed": true
   },
   "outputs": [],
   "source": []
  },
  {
   "cell_type": "markdown",
   "metadata": {},
   "source": [
    "__Ejercicio 4:__. Obten la solución del sistema $\\ddot{x} = -kx(t)$\n",
    "utilizando lo escrito arriba y el método de Euler.\n",
    "\n",
    "* Para utilizar el método de Euler, impleméntelo para sistemas de más de una dimensión."
   ]
  },
  {
   "cell_type": "code",
   "execution_count": null,
   "metadata": {
    "collapsed": true
   },
   "outputs": [],
   "source": []
  },
  {
   "cell_type": "code",
   "execution_count": null,
   "metadata": {
    "collapsed": true
   },
   "outputs": [],
   "source": []
  },
  {
   "cell_type": "markdown",
   "metadata": {},
   "source": [
    "__Ejercicio 5:__ Aplicar el método de Euler para resolver la ecuación:\n",
    "$$\\frac{dx}{dt}=\\frac{2x-18 t}{1+t}.$$\n",
    "Compare su respuesta con la solución exacta: $4+8t-5t^2$"
   ]
  },
  {
   "cell_type": "code",
   "execution_count": 54,
   "metadata": {
    "collapsed": false
   },
   "outputs": [
    {
     "data": {
      "image/png": "[encoded data removed]",
      "text/plain": [
       "PyPlot.Figure(PyObject <matplotlib.figure.Figure object at 0x7ff0ebb283d0>)"
      ]
     },
     "metadata": {},
     "output_type": "display_data"
    },
    {
     "data": {
      "text/plain": [
       "0-element Array{Any,1}"
      ]
     },
     "execution_count": 54,
     "metadata": {},
     "output_type": "execute_result"
    }
   ],
   "source": [
    "T,X=Metodo_Euler((x,t)->(2x-18t)/(1+t),-1,0,8,800)\n",
    "F=[]\n",
    "for i in T\n",
    "    push!(F,4+8i-5i^2)\n",
    "end\n",
    "plt.figure(figsize=(10,5))\n",
    "plt.scatter(T,X)\n",
    "plt.scatter(T,F)\n",
    "F-T #Error conforme aumenta t"
   ]
  },
  {
   "cell_type": "code",
   "execution_count": null,
   "metadata": {
    "collapsed": true
   },
   "outputs": [],
   "source": []
  }
 ],
 "metadata": {
  "kernelspec": {
   "display_name": "Julia 0.6.0",
   "language": "julia",
   "name": "julia-0.6"
  },
  "language_info": {
   "file_extension": ".jl",
   "mimetype": "application/julia",
   "name": "julia",
   "version": "0.6.0"
  }
 },
 "nbformat": 4,
 "nbformat_minor": 2
}
