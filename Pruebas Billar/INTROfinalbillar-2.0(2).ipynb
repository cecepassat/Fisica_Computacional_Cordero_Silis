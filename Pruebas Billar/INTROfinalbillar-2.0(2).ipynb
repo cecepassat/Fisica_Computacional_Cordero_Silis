{
 "cells": [
  {
   "cell_type": "code",
   "execution_count": 1,
   "metadata": {},
   "outputs": [
    {
     "name": "stderr",
     "output_type": "stream",
     "text": [
      "\u001b[1m\u001b[36mINFO: \u001b[39m\u001b[22m\u001b[36mPackage StaticArrays is already installed\n",
      "\u001b[39m\u001b[1m\u001b[36mINFO: \u001b[39m\u001b[22m\u001b[36mMETADATA is out-of-date — you may not have the latest version of StaticArrays\n",
      "\u001b[39m\u001b[1m\u001b[36mINFO: \u001b[39m\u001b[22m\u001b[36mUse `Pkg.update()` to get the latest versions of your packages\n",
      "\u001b[39m\u001b[1m\u001b[36mINFO: \u001b[39m\u001b[22m\u001b[36mPackage PyPlot is already installed\n",
      "\u001b[39m\u001b[1m\u001b[36mINFO: \u001b[39m\u001b[22m\u001b[36mMETADATA is out-of-date — you may not have the latest version of PyPlot\n",
      "\u001b[39m\u001b[1m\u001b[36mINFO: \u001b[39m\u001b[22m\u001b[36mUse `Pkg.update()` to get the latest versions of your packages\n",
      "\u001b[39m"
     ]
    }
   ],
   "source": [
    "Pkg.add(\"StaticArrays\");\n",
    "Pkg.add(\"PyPlot\");\n"
   ]
  },
  {
   "cell_type": "code",
   "execution_count": 2,
   "metadata": {},
   "outputs": [
    {
     "name": "stderr",
     "output_type": "stream",
     "text": [
      "\u001b[1m\u001b[36mINFO: \u001b[39m\u001b[22m\u001b[36mBuilding Conda\n",
      "\u001b[39m\u001b[1m\u001b[36mINFO: \u001b[39m\u001b[22m\u001b[36mBuilding PyCall\n",
      "\u001b[39m\u001b[1m\u001b[36mINFO: \u001b[39m\u001b[22m\u001b[36mPyCall is using C:\\Users\\CedricAlexander.HP-1\\.julia\\v0.6\\Conda\\deps\\usr\\python.exe (Python 2.7.13) at C:\\Users\\CedricAlexander.HP-1\\.julia\\v0.6\\Conda\\deps\\usr\\python.exe, libpython = C:\\Users\\CedricAlexander.HP-1\\.julia\\v0.6\\Conda\\deps\\usr\\python27\n",
      "\u001b[39m\u001b[1m\u001b[36mINFO: \u001b[39m\u001b[22m\u001b[36mC:\\Users\\CedricAlexander.HP-1\\.julia\\v0.6\\PyCall\\deps\\deps.jl has not changed\n",
      "\u001b[39m\u001b[1m\u001b[36mINFO: \u001b[39m\u001b[22m\u001b[36mC:\\Users\\CedricAlexander.HP-1\\.julia\\v0.6\\PyCall\\deps\\PYTHON has not changed\n",
      "\u001b[39m"
     ]
    }
   ],
   "source": [
    "Pkg.build(\"PyCall\")"
   ]
  },
  {
   "cell_type": "code",
   "execution_count": 3,
   "metadata": {
    "collapsed": true
   },
   "outputs": [],
   "source": [
    "using PyPlot"
   ]
  },
  {
   "cell_type": "code",
   "execution_count": 4,
   "metadata": {
    "collapsed": true
   },
   "outputs": [],
   "source": [
    "using StaticArrays"
   ]
  },
  {
   "cell_type": "markdown",
   "metadata": {},
   "source": [
    "# Motivación"
   ]
  },
  {
   "cell_type": "markdown",
   "metadata": {},
   "source": [
    "### Sistemas dinámicos"
   ]
  },
  {
   "cell_type": "markdown",
   "metadata": {},
   "source": [
    "Cualquier fenómeno que evoluciona en el tiempo puede ser considerado como un sistema dinámico. Éste sistema se llamará _determinístico_ si se pueden conocer con precisión las reglas de evolución para el futuro, es decir, que dadas las condiciones iniciales del sistema, se puede conocer el estado en cualquier momento del futuro.\n",
    "\n",
    "Así, un _billar plano_ es el sistema dinámico que, dentro de un conjunto compacto y conexo $Q$, describe el movimiento de una partícula puntual. Dentro de $Q$ el movimiento es uniforme (es decir, tiene velocidad constante) y la reflexión en la frontera es elástica.\n",
    "\n",
    "Se pueden estudiar muchos billares con formas distintas y cada uno es una clara muestra del caos determinista.\n",
    "El proyecto siguiente se concentra en el billar de Estadio, por lo que se omitirán de esta introducción.\n"
   ]
  },
  {
   "cell_type": "markdown",
   "metadata": {},
   "source": [
    "### Billar de estadio"
   ]
  },
  {
   "cell_type": "markdown",
   "metadata": {},
   "source": [
    "Partiendo del billar elíptico, se sabe que el espacio de fase no tiene singularidades visibles, pues no tiene vértices y no existen trayectorias tangentes dentro del billar, ya que las trayectorias se restringen a los puntos $ \\theta=\\pm \\left(\\frac{pi}{2}\\right)$ del espacio de fase.\n",
    "\n",
    "Ahora, modificando el borde, cortando la elipse por el eje menor, separando las mitades y uniendo las puntas libres con segmentos de recta de una distancia conocida, se obtiene el billar con forma de estadio, _estadio elíptico_. \n",
    "\n",
    "Si ahora las curvas de los extremos son semicírculos de radio $ r$, el estadio se llama de _Bunimovich_.\n",
    "\n",
    "Una vez más, no existen las trayectorias tangentes dentro del espacio de fase de dicho billar, pero ahora si hay cuatro vértices en los puntos donde se unen las rectas con los semicírculos. En estos puntos, la frontera tiene derivada continua, pero su curvatura (que va directamente relacionada con la segunda derivada) es discontinua. \n",
    "\n",
    "Resulta que en esos vértices existen singularidades para el espacio de fase, y el estudio de su distribución es fundamental para entender el comportamiento estadístico de los billares dinámicos.\n",
    "\n",
    "El caso del estadio elíptico presenta trayectorias mucho más complejas que el billar con forma de elipse. El comportamiento general de las partículas depende principalmente de los valores que tome el radio de la semicircunferencia y las longitudes de los segmentos de recta. \n",
    "\n",
    "En este proyecto se busca conocer un poco mejor, el comportamiento de las partículas para valores del radio y longitudes dadas.\n",
    "\n",
    "Como propuesta extra se plantea el _Billar de Sinaí_, el cual plantea el mismo billar que de _Bunimovich_, pero considerando ahora una circunferencia de radio $s<r$ en el origen como obstáculo extra."
   ]
  },
  {
   "cell_type": "code",
   "execution_count": 27,
   "metadata": {},
   "outputs": [
    {
     "data": {
      "text/plain": [
       "billar (generic function with 1 method)"
      ]
     },
     "execution_count": 27,
     "metadata": {},
     "output_type": "execute_result"
    }
   ],
   "source": [
    "function billar(x0,y0,vx,vy,it,err)\n",
    "    \n",
    " posBarrx1=1     ## Se define la posición de las barreras\n",
    " t=linspace(0,190,10000);     ## Se define lista de 10000 \"tiempos\" CHECAR\n",
    " x1 = linspace(-1.0, 1, 100)     ## Se define un linspace para poder graficar los medios círculos\n",
    " \n",
    " yar = 5+sqrt.(abs.(1-x1.*x1))     ## Se definen las ecuaciones de los medios circulos\n",
    " yab = -5-sqrt.(abs.(1-x1.*x1))\n",
    " \n",
    " x12 = linspace(-0.5, 0.5, 100)     ## Se define un linspace para poder graficar el círculo central en un futuro\n",
    " yar2 = sqrt.(abs.(1-x1.*x1))     ## Se definen las ecuaciones del círculo central\n",
    " yab2 = -sqrt.(abs.(1-x1.*x1))\n",
    "#xin=x0\n",
    "#yin=y0\n",
    "    \n",
    "    \n",
    "for j in 1:it \n",
    "       posx = zeros(10000);     ## Se define una lista de 1000 entradas para guardar la posicion en x & y.\n",
    "       posy = zeros(10000);\n",
    "    choquex = zeros(it);     ## Lista para guardar donde choca en x & y\n",
    "    choquey = zeros(it);\n",
    "    \n",
    "    ## Primero guardemos la trayectoria de las particula en las siguientes listas:    \n",
    "\n",
    "    for i in 1:10000\n",
    "        posx[i] = x0+vx*t[i]\n",
    "        posy[i] = y0+vy*t[i]\n",
    "    end\n",
    "            ## Se revisa la posición de choque como sigue:\n",
    "            for i in 1:10000     ## Se hacen correr todos los puntos (x,y) de la trayectoria y se observa cuando \n",
    "                                 ## cumplen la ecuación de la circunferencia \" y = sqrt(1-x^2) \"\n",
    "           \n",
    "            ## En el siguiente if vamos a hacer lo sugiuiente:  (QUISIERA QUITAR ESTO)\n",
    "            ## Nota: || significa Ó y && significa Y\n",
    "            ## En el siguiente \"if\", dada la condición de que, si la posicion de la particula cumple la ecuación\n",
    "            ## del medio cículo de arriba Ó el medio círculo de abajo y que, si además, k<2\n",
    "            ## (aqui el k lo ocupamos para que si más de una posicion cumple con el if, sólo nos devuelva un punto)\n",
    "            ## en conclusión if la posición de la particula cumple con la ec. de la circunferencia y además k<2,haz: (QUITAR)\n",
    "            ## entonces:\n",
    "    \n",
    "                    if abs(posy[i]-5-sqrt(1-(posx[i])*(posx[i])))<err  && abs(posx[i])<1.1                         \n",
    "                        ##    println(\"Medio círculo superior\")\n",
    "                         x0 = posx[i-1];\n",
    "                         y0 = posy[i-1];\n",
    "                         ## k = 3;  #para que ya no repita!!!\n",
    "                          m = -x0/sqrt(abs(1.01-x0^2));     ## La pendiente del plano\n",
    "                        phi = atand(m);     ## El ángulo del plano con la horizontal\n",
    "                         cx = cosd(phi);     ## Se calculan la componentes de la normal\n",
    "                         cy = sind(phi);\n",
    "                          n = SVector(-cy, cx);    ## Realmente no importa a cual coordenada multipliquemos por \"-1\" ya que\n",
    "                        #     println(m, \"   m    \",phi, \"  phi   \",cx, \" j    \", cy, \"       \", n)                             \n",
    "                                                                # multiplicamos por sí misma (la n) (NO ENTIENDO MUY BIEN..)\n",
    "                          V = SVector(vx, vy);     ## Se define el vector director con las velocidades iniciales\n",
    "                          r = V-(2V.*n).*n;     ## Hacemos lo de math.stackexchange...  (NO SÉ SI ALEX LO PUSO)\n",
    "                         vx = r[1];     ## Se renombran \"vx\" y \"vy\" como la primera y segunda entrada del vector resultante\n",
    "                         vy = r[2];\n",
    "                   print(j, \"  \")\n",
    "\n",
    "\n",
    "    \n",
    "                              break\n",
    "            \n",
    "                        ## Ahora para el medio círculo inferior:\n",
    "                        elseif abs(posy[i]+5+sqrt(1-(posx[i])*(posx[i])))<err  &&abs(posx[i])<1.1                 \n",
    "                     #       println(\"Medio círculo inferior\")\n",
    "                         x0 = posx[i-1];\n",
    "                         y0 = posy[i-1];\n",
    "                         # k = 3;  #para que ya no repita!!!\n",
    "                          m = x0/sqrt(abs(1.01-x0^2));     ## La pendiente del plano\n",
    "                        phi = atand(m);     ## El ángulo del plano con la horizontaL\n",
    "                         cx = cosd(phi);     ## Se calculan la componentes de la normal\n",
    "                         cy = sind(phi);\n",
    "                          n = SVector(-cy, cx);## Realmente no importa a cual coordenada multipliquemos por \"-1\" ya que\n",
    "                        #     println(m, \"   M    \",phi, \"  PHI   \",cx, \" X0    \", cy, \"   Y0    \", n)                            \n",
    "                                                                # multiplicamos por sí misma (la n) (SIGO SIN ENTENDER)\n",
    "                          V = SVector(vx, vy);     ##Se define el vector director con las velocidades iniciales\n",
    "                          r = V-(2V.*n).*n;     #hacemos lo de math.stackexchange... (REVISAR)\n",
    "                         vx = r[1];     ## Se renombran \"vx\" y \"vy\" como la primera y segunda entrada del vector resultante\n",
    "                         vy = r[2];\n",
    "                                \n",
    "                             print(j, \"  \")\n",
    "\n",
    "\n",
    "                              break\n",
    "                            \n",
    "                ## Consideremos ahora lo que sucede si choca con las paredes\n",
    "                ## Para esto usaremos \"\"elseif\"\"\n",
    "                            \n",
    "                        ##  La condición de la posicion\n",
    "                            elseif abs(posx[i]+posBarrx1)<err  && posx[i]<0 &&abs(posy[i])<6\n",
    "                            #     println(\"pared izq\")\n",
    "                                   # x0 = 0.95;\n",
    "                                    x0=posx[i-1]\n",
    "                                    y0 = posy[i];\n",
    "                                    vx = -vx;     ## Ya que es lo única componente que cambia \n",
    "                                        print(j, \"  \")\n",
    "                                     break\n",
    "                               \n",
    "                            elseif abs(posx[i]-posBarrx1)<err && posx[i]>0 && abs(posy[i])<6\n",
    "                            #  println(\"pared der\")\n",
    "                                 #   x0 = -0.95;\n",
    "                                    x0=posx[i-1]\n",
    "                                    y0 = posy[i];\n",
    "                                    vx = -vx;     ## Ya que es la única componente que cambia\n",
    "                                        print(j, \"  \")\n",
    "                                     break   \n",
    "                    end     \n",
    "            end\n",
    "     choquey[j]=y0  \n",
    "    choquex[j]=x0\n",
    "        x01=x0\n",
    "    \n",
    "# println(choquex[j], \"       \",choquey[j], \"                                     cx, cy\")\n",
    "# println(vx, \"                          \",vy, \"                     vxfin vyfin\")    \n",
    " plot(x1, yab,color=\"green\")\n",
    " plot(x1, yar,color=\"green\")\n",
    " plot(x12, yab2,color=\"red\")\n",
    " plot(x12, yar2,color=\"red\")\n",
    " plot([-1,-1],[-5,5],linestyle=\"-\",linewidth=1,color=\"green\")\n",
    " plot([1,1],[-5,5],linestyle=\"-\",linewidth=1,color=\"green\")\n",
    " xlim(-6, 6)\n",
    " ylim(-7, 7)\n",
    "plot(choquex[j],choquey[j])\n",
    "plot(choquex[j],choquey[j],\"o\")\n",
    "show()\n",
    "end\n",
    "end\n"
   ]
  },
  {
   "cell_type": "code",
   "execution_count": 28,
   "metadata": {},
   "outputs": [
    {
     "name": "stdout",
     "output_type": "stream",
     "text": [
      "1  2  3  4  5  6  7  8  9  "
     ]
    },
    {
     "data": {
      "image/png": "[encoded data removed]",
      "text/plain": [
       "PyPlot.Figure(PyObject <matplotlib.figure.Figure object at 0x000000002D0AC7B8>)"
      ]
     },
     "metadata": {},
     "output_type": "display_data"
    },
    {
     "name": "stdout",
     "output_type": "stream",
     "text": [
      "10  "
     ]
    }
   ],
   "source": [
    " billar(0,0,3,6,10,0.1)"
   ]
  },
  {
   "cell_type": "code",
   "execution_count": null,
   "metadata": {
    "collapsed": true
   },
   "outputs": [],
   "source": []
  },
  {
   "cell_type": "code",
   "execution_count": null,
   "metadata": {
    "collapsed": true
   },
   "outputs": [],
   "source": []
  },
  {
   "cell_type": "code",
   "execution_count": null,
   "metadata": {
    "collapsed": true
   },
   "outputs": [],
   "source": []
  }
 ],
 "metadata": {
  "kernelspec": {
   "display_name": "Julia 0.6.0",
   "language": "julia",
   "name": "julia-0.6"
  },
  "language_info": {
   "file_extension": ".jl",
   "mimetype": "application/julia",
   "name": "julia",
   "version": "0.6.0"
  }
 },
 "nbformat": 4,
 "nbformat_minor": 2
}
