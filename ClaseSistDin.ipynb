{
 "cells": [
  {
   "cell_type": "markdown",
   "metadata": {},
   "source": [
    "Clase Octubre 19"
   ]
  },
  {
   "cell_type": "markdown",
   "metadata": {},
   "source": [
    "## Sistema Dinámico"
   ]
  },
  {
   "cell_type": "markdown",
   "metadata": {},
   "source": [
    "$\\left( \\mu , f \\right)$\n",
    "\n",
    "f$\\rightarrow$ regla de parametrización, parametrizada por el tiempo.\n",
    "\n",
    "$\\mu$ espacio de estados parametrizado por coordenadas espaciales."
   ]
  },
  {
   "cell_type": "markdown",
   "metadata": {},
   "source": [
    "Para casi todos los puntos del espacio la evolución es única (tienden al mismo valor).\n",
    "\n",
    "El conjunto de puntos que no tienden a ese valor, forman un conjunto de medida cero y no dominan la dinámica del sistema."
   ]
  },
  {
   "cell_type": "markdown",
   "metadata": {},
   "source": [
    "A los sistemas dinamicos continuos se les conoce como flujos ($ej.  \\quad flujo \\quad del \\quad Hamiltoniano$).\n",
    "\n",
    "$\\dot{}$ Si $t\\in \\mathbb{R}\\rightarrow flujo$\n",
    "\n",
    "$\\dot{}$ Si $t\\in \\mathbb{Z}\\rightarrow mapeo,mapa$"
   ]
  },
  {
   "cell_type": "markdown",
   "metadata": {},
   "source": [
    "Definición:\n",
    "\n",
    "Órbita: Es la evolución de un punto en una trayectoría.\n",
    "\n",
    "$f^t:x_0\\rightarrow x\\left( x_0,t \\right)$\n",
    "\n",
    "Una órbita periódica está dada por la siguiente condición:\n",
    "\n",
    "$x=f^T(x)\\qquad \\qquad$, es decir, después de cierto tiempo $t=T$ se llega al mismo punto"
   ]
  },
  {
   "cell_type": "markdown",
   "metadata": {},
   "source": [
    "## Principales tipos de órbitas"
   ]
  },
  {
   "cell_type": "markdown",
   "metadata": {},
   "source": [
    "Estacionarias: $\\quad f^t(x)=x \\quad \\forall t$"
   ]
  },
  {
   "cell_type": "markdown",
   "metadata": {},
   "source": [
    "Periódicas: $\\quad f^t(x)=f^{t+T}_{t+2T}(x)\\quad $, para algún $T_{mínimo}$"
   ]
  },
  {
   "cell_type": "markdown",
   "metadata": {},
   "source": [
    "Aperiódico: $\\quad f^t(x)\\neq f^{t'}(x)\\quad \\forall t,\\quad t\\neq t'$"
   ]
  },
  {
   "cell_type": "markdown",
   "metadata": {},
   "source": [
    "(No-)Recurrentes: $x\\in (\\notin) \\mu \\quad for \\quad t\\rightarrow \\infty$"
   ]
  },
  {
   "cell_type": "markdown",
   "metadata": {},
   "source": [
    "## Sistemas dinámicos continuos"
   ]
  },
  {
   "cell_type": "markdown",
   "metadata": {},
   "source": [
    "$\\dot{}$ Secciones de Poincaré: Cambio local de coordenadas (quita una dimensión del problema pero sin perder información), es decir, no es una proyección\n",
    "\n",
    "$\\dot{}$ Mapeos Estroboscópicos"
   ]
  },
  {
   "cell_type": "markdown",
   "metadata": {},
   "source": [
    "##"
   ]
  },
  {
   "cell_type": "markdown",
   "metadata": {},
   "source": [
    "Consideremos la Ley de Evolución para sistemas dinámicos continuos\n",
    "\n",
    "$$x_{t+1}=f(x_t)\\qquad t\\in \\mathbb{Z}$$\n",
    "\n",
    "Consideremos ahora el caso particular $x\\in \\mathbb{R}$"
   ]
  },
  {
   "cell_type": "markdown",
   "metadata": {},
   "source": [
    "## Sistemas dinámicos discretos"
   ]
  },
  {
   "cell_type": "markdown",
   "metadata": {},
   "source": [
    "Definir: Exponente de Jacobi (si es positivo, en una dimensión y en un espacio finito, garantiza caos, en varias dimensiones, no necesariamente)."
   ]
  },
  {
   "cell_type": "markdown",
   "metadata": {},
   "source": [
    "Para:\n",
    "\n",
    "$\\vert \\frac{d}{dx}f(x) \\vert_{x=x^*}<1$ Tenemos puntos estables\n",
    "\n",
    "$|\\frac{d}{dx}f(x) |_{x=x^*}=0$ Tenemos puntos $súper$ estables\n",
    "\n",
    "$|\\frac{d}{dx}f(x) |_{x=x^*}>1$ Tenemos puntos inestables"
   ]
  },
  {
   "cell_type": "markdown",
   "metadata": {},
   "source": [
    "## ¿Cómo calcular el exponente de Jacobi?\n",
    "\n",
    "¿Mapeos logísitcos?"
   ]
  },
  {
   "cell_type": "markdown",
   "metadata": {},
   "source": [
    "## Diagrama de Bifuración"
   ]
  },
  {
   "cell_type": "markdown",
   "metadata": {},
   "source": [
    "$x_\\infty=f^n(x) \\qquad n>>1$"
   ]
  },
  {
   "cell_type": "code",
   "execution_count": null,
   "metadata": {},
   "outputs": [],
   "source": []
  }
 ],
 "metadata": {
  "kernelspec": {
   "display_name": "Julia 0.5.2",
   "language": "julia",
   "name": "julia-0.5"
  },
  "language_info": {
   "file_extension": ".jl",
   "mimetype": "application/julia",
   "name": "julia",
   "version": "0.5.2"
  }
 },
 "nbformat": 4,
 "nbformat_minor": 2
}
