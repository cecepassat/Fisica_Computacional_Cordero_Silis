{
 "cells": [
  {
   "cell_type": "markdown",
   "metadata": {},
   "source": [
    "## Tarea 12"
   ]
  },
  {
   "cell_type": "code",
   "execution_count": 69,
   "metadata": {
    "collapsed": true
   },
   "outputs": [],
   "source": [
    "## Paqueteria a utilizar\n",
    "using PyPlot"
   ]
  },
  {
   "cell_type": "markdown",
   "metadata": {},
   "source": [
    "__Ejercicio 1:__ Implementar método implicito de Euler como quieran."
   ]
  },
  {
   "cell_type": "code",
   "execution_count": 70,
   "metadata": {
    "collapsed": false
   },
   "outputs": [
    {
     "data": {
      "text/plain": [
       "Metodo_Newton (generic function with 1 method)"
      ]
     },
     "execution_count": 70,
     "metadata": {},
     "output_type": "execute_result"
    }
   ],
   "source": [
    "## Resolvamos el problema usando el Método de Newton como herramienta pues esta considera, además de la función a resolver, su derivada y un punto de partida inicial, obteniendo como resultado un cero (raíz) cercano a nuestro valor inicial\n",
    "\n",
    "function Metodo_Newton(f,derivadaf,inicial)\n",
    "    \n",
    "    x=inicial;\n",
    "    for i in 1:100\n",
    "        x=x-f(x)/derivadaf(x)\n",
    "    end\n",
    "    #La función regresa el último valor de x obtenido\n",
    "    return x\n",
    "end"
   ]
  },
  {
   "cell_type": "code",
   "execution_count": 71,
   "metadata": {
    "collapsed": false
   },
   "outputs": [
    {
     "data": {
      "text/plain": [
       "Imp_Euler (generic function with 1 method)"
      ]
     },
     "execution_count": 71,
     "metadata": {},
     "output_type": "execute_result"
    }
   ],
   "source": [
    "## Usando ahora el método de Newton definimos el método implícito de Euler (en función del de Newton) agregando ahora una dependencia de una lista (listt)\n",
    "\n",
    "function Imp_Euler(f,df,listt,x0)\n",
    "    \n",
    "## Definimos listx como un arreglo de raíces del mismo orden (entiéndase cardinalidad) que la lista de t's.\n",
    "    listx=zeros(length(listt))\n",
    "    listx[1]=x0\n",
    "    h=listt[2]-listt[1]     ## Es la distancia entre las primeras entradas\n",
    "    for i in 1:length(listt)-1     ## Guardamos las entradas de listx siguientes\n",
    "        \n",
    "## La siguiente función es a la que tenemos que encontrar su raíz (usando el método implícito) es decir, el \"elemento\" x_{i+1}.\n",
    "    g(z)=z-f(z,listt[i+1])*h-listx[i]\n",
    "    derivadag(z)= 1-derivadaf(z,listt[i+1])*h     ## Consideremos también su derivada\n",
    "        \n",
    "        \n",
    "## Aplicamos el método de Newton a g, usando la condición inicial x_{i} y tomando cada raíz como el siguiente elemento(x_{i+1}).\n",
    "    listx[i+1]=Metodo_Newton(g,derivadag,listx[i])    \n",
    "    end\n",
    "    \n",
    "    return listx     ## Obtenemos los valores para x\n",
    "    \n",
    "end\n",
    "\n",
    "## A resolver (utilizar) en el ejercicio 4"
   ]
  },
  {
   "cell_type": "code",
   "execution_count": null,
   "metadata": {
    "collapsed": true
   },
   "outputs": [],
   "source": []
  },
  {
   "cell_type": "markdown",
   "metadata": {},
   "source": [
    "__Ejercicio 2:__ Implementar Euler: Regla del punto medio."
   ]
  },
  {
   "cell_type": "code",
   "execution_count": 72,
   "metadata": {
    "collapsed": false
   },
   "outputs": [
    {
     "data": {
      "text/plain": [
       "Punto_M (generic function with 1 method)"
      ]
     },
     "execution_count": 72,
     "metadata": {},
     "output_type": "execute_result"
    }
   ],
   "source": [
    "## Definimos la función para el método del punto medio\n",
    "\n",
    "function Punto_M(f,listt,inicial)\n",
    "    h=listt[2]-listt[1]     ## Nuevamente tenemos la distancia entre las primeros dos entradas\n",
    "    \n",
    "    listx=zeros(length(listt))     ## Misma longitud de las listas\n",
    "    \n",
    "    listx[1]=inicial\n",
    "    \n",
    "## Apliquemos las iteraciones dada la condición de recurrencia\n",
    "    for i in 1:length(listt)-1\n",
    "       listx[i+1]= listx[i]+h*f(listx[i]+(h/2)*f(listx[i],listt[i]),listt[i]+h/2)\n",
    "    end \n",
    "    \n",
    "    return listx     ## Obtenemos nuestros resultados\n",
    "    \n",
    "end"
   ]
  },
  {
   "cell_type": "code",
   "execution_count": null,
   "metadata": {
    "collapsed": true
   },
   "outputs": [],
   "source": []
  },
  {
   "cell_type": "markdown",
   "metadata": {},
   "source": [
    "__Ejercicio 3:__ Implementar método de Runge-Kutta de orden 4."
   ]
  },
  {
   "cell_type": "code",
   "execution_count": 73,
   "metadata": {
    "collapsed": false
   },
   "outputs": [
    {
     "data": {
      "text/plain": [
       "RK_O4 (generic function with 1 method)"
      ]
     },
     "execution_count": 73,
     "metadata": {},
     "output_type": "execute_result"
    }
   ],
   "source": [
    "## Definamos nuestra frunción (omitiré comentar los pasos que, como en las funciones anteriores, se repiten)\n",
    "\n",
    "function RK_O4(f,listt,x0)\n",
    "    listx=zeros(length(listt))\n",
    "    listx[1]=x0\n",
    "    h=listt[2]-listt[1]\n",
    "    \n",
    "    for i in 1:length(listt)-1\n",
    "        it1=f(listx[i],listt[i])\n",
    "        it2=f(listx[i]+(h/2)*k1,listt[i]+h/2)\n",
    "        it3=f(listx[i]+(h/2)*k2,listt[i]+h/2)\n",
    "        it4=f(listx[i]+h*k3,listt[i+1])     ## Aplicamos la relación de recurrencia para cada iteración hasta orden 4\n",
    "        \n",
    "        listx[i+1]=listx[i]+(h/6)*(k1+2*k2+2*k3+k4)     ## Lista donde se guardan las x's obtenidas\n",
    "        \n",
    "    end\n",
    "      \n",
    "    return listx     ## Obtenemos las x's del paso anterior\n",
    "    \n",
    "end"
   ]
  },
  {
   "cell_type": "code",
   "execution_count": null,
   "metadata": {
    "collapsed": true
   },
   "outputs": [],
   "source": []
  },
  {
   "cell_type": "markdown",
   "metadata": {},
   "source": [
    "__Ejercicio 4:__ Repita el ejercicio 1 del notebook anterior (Julia_6) y discuta los resultados respecto a lo que obtuvo con el método implícito. __Nota: Este es el test para el método de Euler implícito.__"
   ]
  },
  {
   "cell_type": "markdown",
   "metadata": {
    "collapsed": true
   },
   "source": [
    "El ejercicio 1 pide resolver la ecuación:\n",
    "$$\\frac{dx}{dt}=-\\alpha x,$$ donde $\\alpha= -2.5$ y $t\\in(0,8)$."
   ]
  },
  {
   "cell_type": "code",
   "execution_count": 74,
   "metadata": {
    "collapsed": false
   },
   "outputs": [
    {
     "data": {
      "text/plain": [
       "DG (generic function with 1 method)"
      ]
     },
     "execution_count": 74,
     "metadata": {},
     "output_type": "execute_result"
    }
   ],
   "source": [
    "## Definamos G(x,t) como la derivada de \"x\" respecto de \"t\", así como su derivada (que sería la segunda)\n",
    "G(x,t)= -2.5x\n",
    "DG(x,t)=-2.5"
   ]
  },
  {
   "cell_type": "code",
   "execution_count": 75,
   "metadata": {
    "collapsed": false
   },
   "outputs": [
    {
     "data": {
      "text/plain": [
       "0.0:0.01:8.0"
      ]
     },
     "execution_count": 75,
     "metadata": {},
     "output_type": "execute_result"
    }
   ],
   "source": [
    "#Definimos los distintos arreglos de t's para intervalos cada vex menores\n",
    "\n",
    "listt1=0:1:8     ## h=1\n",
    "listt2=0:0.5:8\n",
    "listt3=0:0.2:8\n",
    "listt4=0:0.01:8     ## h=0.01"
   ]
  },
  {
   "cell_type": "code",
   "execution_count": 76,
   "metadata": {
    "collapsed": false,
    "scrolled": true
   },
   "outputs": [],
   "source": [
    "## Apliquemos nuestra función (método implícito de Euler) a cada una de las listas con la condición inicial x(0)=1.0 [esto último implica una solución exacta \"exp(-2.5t)\" ]\n",
    "\n",
    "sol1=Imp_Euler(G,DG,listt1,1.0)\n",
    "sol2=Imp_Euler(G,DG,listt2,1.0)\n",
    "sol3=Imp_Euler(G,DG,listt3,1.0)\n",
    "sol4=Imp_Euler(G,DG,listt4,1.0);"
   ]
  },
  {
   "cell_type": "code",
   "execution_count": 77,
   "metadata": {
    "collapsed": false
   },
   "outputs": [
    {
     "data": {
      "image/png": "[encoded data removed]",
      "text/plain": [
       "PyPlot.Figure(PyObject <matplotlib.figure.Figure object at 0x7f637df189d0>)"
      ]
     },
     "metadata": {},
     "output_type": "display_data"
    }
   ],
   "source": [
    "## G´raficas para cada h\n",
    "\n",
    "plot(listt2,sol2,label=\"h=0.5\");\n",
    "plot(listt3,sol3,label=\"h=0.2\");\n",
    "plot(listt4,sol4,label=\"h=0.01\");\n",
    "plot(linspace(0,8,100),e.^(-2.5(linspace(0,8,100))),label=\"Solución Teórica\");\n",
    "\n",
    "grid(\"on\");\n",
    "xlabel(\"t\");\n",
    "ylabel(\"x(t)\");\n",
    "legend();\n",
    "show();\n"
   ]
  },
  {
   "cell_type": "markdown",
   "metadata": {},
   "source": [
    "__Ejercicio 5__: Usar el método del punto medio y de Runge-Kutta para resolver la ecuación:\n",
    "$$\\frac{dx}{dt}=\\frac{2x-18 t}{1+t}.$$\n",
    "Compare su respuesta con la solución exacta: $4+8t-5t^2$. notén que $x(0)=4$. __Nota: Este es el test para el de Runge-Kutta.__"
   ]
  },
  {
   "cell_type": "code",
   "execution_count": null,
   "metadata": {
    "collapsed": true
   },
   "outputs": [],
   "source": []
  },
  {
   "cell_type": "code",
   "execution_count": null,
   "metadata": {
    "collapsed": true
   },
   "outputs": [],
   "source": []
  },
  {
   "cell_type": "code",
   "execution_count": null,
   "metadata": {
    "collapsed": true
   },
   "outputs": [],
   "source": []
  },
  {
   "cell_type": "markdown",
   "metadata": {},
   "source": [
    "__Ejercicio 6__: Grafique la energía total del oscilador harmonico usando los métodos explícito de Euler y Runge-Kutta de orden 4. Compare sus respuestas y discuta.\n",
    "\n",
    "__Nota:__ Deberán hacer una implementación de Runge-Kutta para dos dimensiones (o de una vez más si quieren, basandose en el ejemplo que les di, si se les ocurre una mánera mejor, adelante).\n",
    "\n",
    "__Nota:__ Usen $h=0.1$ para hacer la comparación o cualquier otro que refleje una diferencia significativa entre los dos métodos en la energía, el chiste es no usar un $h$ muy pequeño."
   ]
  },
  {
   "cell_type": "code",
   "execution_count": null,
   "metadata": {
    "collapsed": true
   },
   "outputs": [],
   "source": []
  },
  {
   "cell_type": "code",
   "execution_count": null,
   "metadata": {
    "collapsed": true
   },
   "outputs": [],
   "source": []
  },
  {
   "cell_type": "code",
   "execution_count": null,
   "metadata": {
    "collapsed": true
   },
   "outputs": [],
   "source": []
  },
  {
   "cell_type": "markdown",
   "metadata": {},
   "source": [
    "__Ejercicio 7:__ Utilizando los métodos de Euler y Runge-Kutta con $h=0.01$ y una condición inicial, grafique las dos trayectorias en el espacio $(x,v)$ (esto casi es el espacio de fase en la mécanica clásica, para ello se necesitaria graficar $(x,p)$. \n",
    "__Nota:__ Si ya tiene una forma de calcular $x$ y $v$ en forma de listas, digamos `listx` y `listv`, bastará con hacer `plot(listx,listv)`."
   ]
  },
  {
   "cell_type": "code",
   "execution_count": null,
   "metadata": {
    "collapsed": true
   },
   "outputs": [],
   "source": []
  },
  {
   "cell_type": "code",
   "execution_count": null,
   "metadata": {
    "collapsed": true
   },
   "outputs": [],
   "source": []
  },
  {
   "cell_type": "code",
   "execution_count": null,
   "metadata": {
    "collapsed": true
   },
   "outputs": [],
   "source": []
  },
  {
   "cell_type": "markdown",
   "metadata": {},
   "source": [
    "__Ejercicio 8:__ Utilizando solo Runge-Kutta, grafique muchas condiciones iniciales del oscilador armónico en el espacio de fase. Tome todos los parámetros como prefiera, revisando que obtiene el resultado esperado."
   ]
  },
  {
   "cell_type": "code",
   "execution_count": null,
   "metadata": {
    "collapsed": true
   },
   "outputs": [],
   "source": []
  },
  {
   "cell_type": "code",
   "execution_count": null,
   "metadata": {
    "collapsed": true
   },
   "outputs": [],
   "source": []
  },
  {
   "cell_type": "code",
   "execution_count": null,
   "metadata": {
    "collapsed": true
   },
   "outputs": [],
   "source": []
  }
 ],
 "metadata": {
  "kernelspec": {
   "display_name": "Julia 0.6.0",
   "language": "julia",
   "name": "julia-0.6"
  },
  "language_info": {
   "file_extension": ".jl",
   "mimetype": "application/julia",
   "name": "julia",
   "version": "0.6.0"
  }
 },
 "nbformat": 4,
 "nbformat_minor": 2
}
