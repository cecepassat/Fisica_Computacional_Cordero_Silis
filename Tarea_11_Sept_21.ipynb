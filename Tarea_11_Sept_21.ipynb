{
 "cells": [
  {
   "cell_type": "markdown",
   "metadata": {},
   "source": [
    "## Tarea 11 Septiembre 21 (atrasada)"
   ]
  },
  {
   "cell_type": "code",
   "execution_count": 68,
   "metadata": {
    "collapsed": true
   },
   "outputs": [],
   "source": [
    "##Agreguemos primero los paquetes a utilizar"
   ]
  },
  {
   "cell_type": "code",
   "execution_count": 69,
   "metadata": {
    "collapsed": false
   },
   "outputs": [
    {
     "name": "stderr",
     "output_type": "stream",
     "text": [
      "\u001b[1m\u001b[36mINFO: \u001b[39m\u001b[22m\u001b[36mPackage PyPlot is already installed\n",
      "\u001b[39m\u001b[1m\u001b[36mINFO: \u001b[39m\u001b[22m\u001b[36mMETADATA is out-of-date — you may not have the latest version of PyPlot\n",
      "\u001b[39m"
     ]
    }
   ],
   "source": [
    "Pkg.add(\"PyPlot\")\n",
    "Pkg.add(\"SymPy\")"
   ]
  },
  {
   "cell_type": "code",
   "execution_count": 70,
   "metadata": {
    "collapsed": true
   },
   "outputs": [],
   "source": [
    "using PyPlot;\n",
    "plt = PyPlot;\n",
    "using SymPy;"
   ]
  },
  {
   "cell_type": "markdown",
   "metadata": {
    "collapsed": true
   },
   "source": [
    "__Ejercicio 1:__. Implementa el método de Euler en `Julia`. Debe ser de la forma `metodo_euler(f,x0,t0,tf,h)`. No olvide que no debe de utilizar `SymPy` de ningún modo en este ejercicio. Naturalmente la función `f` es de dos variables. El _output_ de la función debe ser `return listt,listx`. Otra forma quizá más inteligente de implementarlo es definir desde antes `listt`, y que los inputs del método sean de la forma: `metodo_euler(f,x0,listt)`, naturalmente en `listt` va el tiempo inicial $t_0$ y el paso $h$ que utilizará el método."
   ]
  },
  {
   "cell_type": "code",
   "execution_count": 71,
   "metadata": {
    "collapsed": false
   },
   "outputs": [
    {
     "data": {
      "text/plain": [
       "Metodo_Euler (generic function with 2 methods)"
      ]
     },
     "execution_count": 71,
     "metadata": {},
     "output_type": "execute_result"
    }
   ],
   "source": [
    "## Definimos primero la función a utilizar\n",
    "\n",
    "function Metodo_Euler(f,x0,t0,tf,h)\n",
    "    x=x0\n",
    "    t=t0\n",
    "    ## Definimos las listas a utilizar \"listt\" y \"listx\", así como las funciones a las que están asociadas x,t\n",
    "    listt=[]\n",
    "    listx=[]\n",
    "    n = round((tf-t0)/h) ## Aplicamos la fórmula de Euler\n",
    "    for i in 1:n-1\n",
    "        x += h*f(x,t)\n",
    "        t += h\n",
    "        push!(listt,t) ## Limitamos los valores que se tomarán para no saturarse de resultados\n",
    "        push!(listx,x)\n",
    "    end\n",
    "    return listt, listx\n",
    "end"
   ]
  },
  {
   "cell_type": "markdown",
   "metadata": {
    "collapsed": true
   },
   "source": [
    "* Pruebe su nuevo método resolviendo la ecuación:\n",
    "$$\\frac{dx}{dt}=-\\alpha x, x(0)=1\\text{ y }2, \\text{ y } t\\in(0,8).$$\n",
    "con $\\alpha>0$, pruebenlo para $\\alpha=2.5$, $h=1.0,0.5,0.2,0.01$."
   ]
  },
  {
   "cell_type": "code",
   "execution_count": 72,
   "metadata": {
    "collapsed": true
   },
   "outputs": [],
   "source": [
    "## Definamos primero una función como se sugiere y evaluémosla en los distintos puntos de h para x(0)=1"
   ]
  },
  {
   "cell_type": "code",
   "execution_count": 73,
   "metadata": {
    "collapsed": false
   },
   "outputs": [
    {
     "data": {
      "text/plain": [
       "f (generic function with 2 methods)"
      ]
     },
     "execution_count": 73,
     "metadata": {},
     "output_type": "execute_result"
    }
   ],
   "source": [
    "f(x)=-2.5x ## Notemos que la derivada de la función no depende de la variable temporal, por eso la función es dependiente sólo de x"
   ]
  },
  {
   "cell_type": "code",
   "execution_count": 74,
   "metadata": {
    "collapsed": false
   },
   "outputs": [
    {
     "data": {
      "text/plain": [
       "(Any[1, 2, 3, 4, 5, 6, 7], Any[3.0, -3.0, -17.0, -39.0, -69.0, -107.0, -153.0])"
      ]
     },
     "execution_count": 74,
     "metadata": {},
     "output_type": "execute_result"
    }
   ],
   "source": [
    "ejemplo1=Metodo_Euler(f,1,0,8,1)"
   ]
  },
  {
   "cell_type": "code",
   "execution_count": 75,
   "metadata": {
    "collapsed": false
   },
   "outputs": [
    {
     "data": {
      "text/plain": [
       "(Any[0.5, 1.0, 1.5, 2.0, 2.5, 3.0, 3.5, 4.0, 4.5, 5.0, 5.5, 6.0, 6.5, 7.0, 7.5], Any[2.0, 0.333333, -4.0, -11.0, -20.6667, -33.0, -48.0, -65.6667, -86.0, -109.0, -134.667, -163.0, -194.0, -227.667, -264.0])"
      ]
     },
     "execution_count": 75,
     "metadata": {},
     "output_type": "execute_result"
    }
   ],
   "source": [
    "ejemplo2=Metodo_Euler(f,1,0,8,0.5)"
   ]
  },
  {
   "cell_type": "code",
   "execution_count": 76,
   "metadata": {
    "collapsed": false
   },
   "outputs": [
    {
     "data": {
      "text/plain": [
       "(Any[0.2, 0.4, 0.6, 0.8, 1.0, 1.2, 1.4, 1.6, 1.8, 2.0  …  6.0, 6.2, 6.4, 6.6, 6.8, 7.0, 7.2, 7.4, 7.6, 7.8], Any[1.4, 1.26667, 0.6, -0.6, -2.33333, -4.6, -7.4, -10.7333, -14.6, -19.0  …  -219.0, -234.6, -250.733, -267.4, -284.6, -302.333, -320.6, -339.4, -358.733, -378.6])"
      ]
     },
     "execution_count": 76,
     "metadata": {},
     "output_type": "execute_result"
    }
   ],
   "source": [
    "ejemplo3=Metodo_Euler(f,1,0,8,0.2)"
   ]
  },
  {
   "cell_type": "code",
   "execution_count": 77,
   "metadata": {
    "collapsed": false
   },
   "outputs": [
    {
     "data": {
      "text/plain": [
       "(Any[0.01, 0.02, 0.03, 0.04, 0.05, 0.06, 0.07, 0.08, 0.09, 0.1  …  7.9, 7.91, 7.92, 7.93, 7.94, 7.95, 7.96, 7.97, 7.98, 7.99], Any[1.02, 1.03842, 1.05525, 1.0705, 1.08416, 1.09624, 1.10673, 1.11564, 1.12297, 1.12871  …  -476.911, -478.142, -479.375, -480.61, -481.846, -483.084, -484.324, -485.565, -486.807, -488.051])"
      ]
     },
     "execution_count": 77,
     "metadata": {},
     "output_type": "execute_result"
    }
   ],
   "source": [
    "ejemplo4=Metodo_Euler(f,1,0,8,0.01)"
   ]
  },
  {
   "cell_type": "markdown",
   "metadata": {},
   "source": [
    "* Gráfique la solución que obtuvo junto con la curva de la solución exacta, asegúrese de que los puntos de la solución aparezcán unidos en la gráfica para obtener una mejor perspectiva. Haga una gráfica para cada condición inicial, que incluya todos los diferentes pasos usados (excepto $h=1$, este gráfiquelo aparte para cada caso), la idea aquí es ver como nos aproximamos a la solución exacta conforme tomamos $h$'s más pequeños."
   ]
  },
  {
   "cell_type": "code",
   "execution_count": 57,
   "metadata": {
    "collapsed": false
   },
   "outputs": [
    {
     "data": {
      "image/png": "[encoded data removed]",
      "text/plain": [
       "PyPlot.Figure(PyObject <matplotlib.figure.Figure object at 0x7f14f3d05550>)"
      ]
     },
     "metadata": {},
     "output_type": "display_data"
    }
   ],
   "source": [
    "## Graficamos los valores obtenidos para los distintos valores de h\n",
    "plot(ejemplo1[1],ejemplo1[2],label=\"h=1\")\n",
    "plot(ejemplo2[1],ejemplo2[2],label=\"h=0.5\")\n",
    "plot(ejemplo3[1],ejemplo3[2],label=\"h=0.2\")\n",
    "plot(ejemplo4[1],ejemplo4[2],label=\"h=0.01\")\n",
    "t=linspace(0,8,50) #Graficamos la solución exacta. Tomamos x(0)= 1.\n",
    "plot(t,exp.(-2.5*t),label=\"Solución real\")\n",
    "grid(\"on\")\n",
    "title(\"Aproximaciones a la solución usando el método de Euler\");\n",
    "legend();\n",
    "## Como que no quedó...."
   ]
  },
  {
   "cell_type": "code",
   "execution_count": 23,
   "metadata": {
    "collapsed": true
   },
   "outputs": [],
   "source": [
    "## Cambiemos el domino del resultado de la función para observar lo que sucede en el área de convergencia"
   ]
  },
  {
   "cell_type": "markdown",
   "metadata": {},
   "source": [
    "plot(ejemplo1[1],ejemplo1[2],label=\"h=1\")\n",
    "plot(ejemplo2[1],ejemplo2[2],label=\"h=0.5\")\n",
    "plot(ejemplo3[1],ejemplo3[2],label=\"h=0.2\")\n",
    "plot(ejemplo4[1],ejemplo4[2],label=\"h=0.01\")\n",
    "plot(t,exp.(-2.5*t),label=\"Solución real\")\n",
    "xlim=(-6,9)   ## Por alguna razón no se aplican los cambios a los límites de la gráfica\n",
    "ylim=(-1,1)\n",
    "t=linspace(0,8,50) #Graficamos la solución exacta. Tomamos x(0)= 1.\n",
    "grid(\"on\")\n",
    "title(\"Aproximaciones a la solución usando el método de Euler\")\n",
    "show();\n"
   ]
  },
  {
   "cell_type": "markdown",
   "metadata": {},
   "source": [
    "### Desacoplamiento de ecuaciones diferenciales de orden 2."
   ]
  },
  {
   "cell_type": "markdown",
   "metadata": {
    "collapsed": false
   },
   "source": [
    "__Ejercicio 2:__. ¿Qué sistema físico está modelado por $\\ddot{x} =\n",
    "-kx$?\n",
    "* Escriba la solución exacta en terminos de las condiciones iniciales $x(0)$ y $x'(0)$.\n",
    "\n",
    "A simple vista, uno podría pensar que para resolver este\n",
    "sistema uno debe desarrollar otro método para encontrar la\n",
    "solución a la ecuación diferencial del ejercicio pasado. Sin\n",
    "embargo, esto no es necesario."
   ]
  },
  {
   "cell_type": "markdown",
   "metadata": {
    "collapsed": true
   },
   "source": [
    "El sistéma físico que modela la ecuación $\\ddot{x}=-kx$ es el oscilador armónico simple, donde $k$ es una constante positiva.\n",
    "\n",
    "Dada la forma de la ecuación diferencial de $2^{do}$ orden, podemos proponer la solución de la forma:\n",
    "\n",
    "$$x(t)=Ae^{i\\sqrt{k}t}+Be^{-i\\sqrt{k}t}$$\n",
    "\n",
    "O bien, en términos de senos y cosenos:\n",
    "\n",
    "$$\\Rightarrow x(t) = Acos\\left(\\sqrt{k} t\\right) + Bsen\\left(\\sqrt{k} t\\right)$$"
   ]
  },
  {
   "cell_type": "markdown",
   "metadata": {
    "collapsed": true
   },
   "source": [
    "Ahora:\n",
    "$$ x'(0)=-A\\sqrt{k}sen\\left(\\sqrt{k}t \\right) + B\\sqrt{k}cos\\left(\\sqrt{k}t \\right) $$\n",
    "\n",
    "Aplicando las condiciones iniciales:\n",
    "\n",
    "$$ x(0)=A $$\n",
    "$$ x'(0)=\\sqrt{k}B $$"
   ]
  },
  {
   "cell_type": "markdown",
   "metadata": {},
   "source": [
    "\n",
    "$$ \\therefore \\quad x(t) = Acos\\left(\\sqrt{k} t\\right) + B\\sqrt{k}sen\\left(\\sqrt{k} t\\right) $$"
   ]
  },
  {
   "cell_type": "markdown",
   "metadata": {},
   "source": [
    "__Ejercicio 3:__. Haz $u = \\dot{x}(t)$ y calcula la derivada de\n",
    "$u$ ¿qué obtienes y como se relaciona con el sistema\n",
    "original?\n",
    "\n",
    "Si llevaste a cabo el ejercicio anterior, te darás cuenta\n",
    "que terminas con un sistema acoplado de ecuaciones\n",
    "diferenciales:\n",
    "\n",
    "$$\n",
    "\\dot{u} = -kx, \\dot{x} = u,\n",
    "$$\n",
    "\n",
    "Con este sistema acoplado puedes utilizar el método de\n",
    "Euler en su forma vectorial:\n",
    "$$\\frac{d\\vec x}{dt}=\\vec f(\\vec x,t),$$\n",
    "donde $\\vec x=(x,u)$, y para este caso es facil ver que $\\vec f(\\vec x,t)=(u,-kx).$"
   ]
  },
  {
   "cell_type": "markdown",
   "metadata": {
    "collapsed": true
   },
   "source": [
    "Si $u = x'(t)$ $\\rightarrow$ $u'(t) = x''(t) + k_2$. Donde $k$ es una constante\n",
    "Lo cual nos indica que la ecuación original debe cumplir:\n",
    "\n",
    "\n",
    "* $u(t) = x'(t)$\n",
    "* $u'(t) = -kx(t) + k_2$\n"
   ]
  },
  {
   "cell_type": "markdown",
   "metadata": {},
   "source": [
    "__Ejercicio 4:__. Obten la solución del sistema $\\ddot{x} = -kx(t)$\n",
    "utilizando lo escrito arriba y el método de Euler.\n",
    "\n",
    "* Para utilizar el método de Euler, impleméntelo para sistemas de más de una dimensión."
   ]
  },
  {
   "cell_type": "code",
   "execution_count": 24,
   "metadata": {
    "collapsed": false
   },
   "outputs": [
    {
     "data": {
      "text/plain": [
       "Metodo_Euler2 (generic function with 1 method)"
      ]
     },
     "execution_count": 24,
     "metadata": {},
     "output_type": "execute_result"
    }
   ],
   "source": [
    "## Definamos ahora la función considerando una nueva lista \"listu\"\n",
    "\n",
    "function Metodo_Euler2(f,x0,u0,listt)\n",
    "    n = length(listt)   \n",
    "    listx = zeros(n)            \n",
    "    listu = zeros(n)             \n",
    "    listx[1] = x0                \n",
    "    \n",
    "    listu[1] = u0                \n",
    "    h = (listt[n]-listt[1])/n   \n",
    "    for i in 1:n-1\n",
    "        listx[i+1] = listx[i] + h*listu[i]                       \n",
    "        listu[i+1] = listu[i] + h*f(listx[i],listu[i],listt[i])  \n",
    "    end\n",
    "    return listx\n",
    "end"
   ]
  },
  {
   "cell_type": "code",
   "execution_count": 25,
   "metadata": {
    "collapsed": false
   },
   "outputs": [
    {
     "data": {
      "text/plain": [
       "g (generic function with 1 method)"
      ]
     },
     "execution_count": 25,
     "metadata": {},
     "output_type": "execute_result"
    }
   ],
   "source": [
    "## Usando la forma para la ecuación diferencial de segundo orden definimos la siguiente función\n",
    "g(x)=-9x"
   ]
  },
  {
   "cell_type": "code",
   "execution_count": 26,
   "metadata": {
    "collapsed": false
   },
   "outputs": [],
   "source": [
    "listt_1=0:1:2pi;\n",
    "listt_2=0:0.5:2pi;\n",
    "listt_3=0:0.2:2pi;\n",
    "listt_4=0:0.01:2pi;"
   ]
  },
  {
   "cell_type": "code",
   "execution_count": 45,
   "metadata": {
    "collapsed": false
   },
   "outputs": [
    {
     "ename": "LoadError",
     "evalue": "\u001b[91mMethodError: no method matching g(::Float64, ::Float64, ::Float64)\u001b[0m\nClosest candidates are:\n  g(::Any) at In[25]:2\u001b[39m",
     "output_type": "error",
     "traceback": [
      "\u001b[91mMethodError: no method matching g(::Float64, ::Float64, ::Float64)\u001b[0m\nClosest candidates are:\n  g(::Any) at In[25]:2\u001b[39m",
      "",
      "Stacktrace:",
      " [1] \u001b[1mMetodo_Euler2\u001b[22m\u001b[22m\u001b[1m(\u001b[22m\u001b[22m::#g, ::Int64, ::Int64, ::StepRangeLen{Float64,Base.TwicePrecision{Float64},Base.TwicePrecision{Float64}}\u001b[1m)\u001b[22m\u001b[22m at \u001b[1m./In[24]:13\u001b[22m\u001b[22m"
     ]
    }
   ],
   "source": [
    "E1=Metodo_Euler2(g,3,5,listt_1)\n",
    "E2=Metodo_Euler2(g,3,5,listt_2)\n",
    "E3=Metodo_Euler2(g,3,5,listt_3)\n",
    "E4=Metodo_Euler2(g,3,5,listt_4)"
   ]
  },
  {
   "cell_type": "code",
   "execution_count": 46,
   "metadata": {
    "collapsed": false
   },
   "outputs": [
    {
     "data": {
      "text/plain": [
       "solg (generic function with 1 method)"
      ]
     },
     "execution_count": 46,
     "metadata": {},
     "output_type": "execute_result"
    }
   ],
   "source": [
    "## Consideremos ahora la solución a la ecuación del oscilador considerando condiciones de Dirichlet y Neumann k=9 x(0)=5 y x'(0)=10\n",
    "solg(t)=5*cos(3t)+(9/10)*sin(3t)"
   ]
  },
  {
   "cell_type": "code",
   "execution_count": 47,
   "metadata": {
    "collapsed": false
   },
   "outputs": [
    {
     "ename": "LoadError",
     "evalue": "\u001b[91mUndefVarError: E1 not defined\u001b[39m",
     "output_type": "error",
     "traceback": [
      "\u001b[91mUndefVarError: E1 not defined\u001b[39m",
      ""
     ]
    }
   ],
   "source": [
    "## Hagamos una comparación de las soluciones dadas distintas aproximaciones de h\n",
    "\n",
    "scatter(listt_1,E1,label=L\"Método de Euler $h=0.5$\");\n",
    "plot(listt_1,E1);\n",
    "scatter(listt_2,E2,label=L\"Método de Euler $h=0.2$\");\n",
    "plot(listt_2,E2);\n",
    "scatter(listt_3,E3,label=L\"Método de Euler $h=0.1$\");\n",
    "plot(listt_3,E3);\n",
    "scatter(listt_4,E4,label=L\"Método de Euler $h=0.01$\");\n",
    "plot(listt_4,E4);\n",
    "t = linspace(0,2pi,100);\n",
    "plot(t,solg(t),label=L\"Solución a la función g $x(0)=5$ y $x'(0)=10$\");\n",
    "\n",
    "legend();\n",
    "grid(\"on\")\n",
    "show();"
   ]
  },
  {
   "cell_type": "markdown",
   "metadata": {},
   "source": [
    "__Ejercicio 5:__ Aplicar el método de Euler para resolver la ecuación:\n",
    "$$\\frac{dx}{dt}=\\frac{2x-18 t}{1+t}.$$\n",
    "Compare su respuesta con la solución exacta: $4+8t-5t^2$"
   ]
  },
  {
   "cell_type": "code",
   "execution_count": 48,
   "metadata": {
    "collapsed": false
   },
   "outputs": [
    {
     "data": {
      "text/plain": [
       "Metodo_Euler (generic function with 2 methods)"
      ]
     },
     "execution_count": 48,
     "metadata": {},
     "output_type": "execute_result"
    }
   ],
   "source": [
    "## Aplicamos nuestra función ahora a la lista de las variables dependientes del tiempo para una x0 dada\n",
    "\n",
    "function Metodo_Euler(f,x0,listt)\n",
    "    n = length(listt)            \n",
    "    listx = zeros(n)             \n",
    "    listx[1] = x0               \n",
    "    h = (listt[n]-listt[1])/n   ## Damos el valor de h para cada elemento de la lista \n",
    "    for i in 1:n-1\n",
    "        listx[i+1] = listx[i] + h*f(listx[i],listt[i])   ## Aplicamos el método de Euler\n",
    "    end\n",
    "    return listx                \n",
    "end"
   ]
  },
  {
   "cell_type": "code",
   "execution_count": 49,
   "metadata": {
    "collapsed": false
   },
   "outputs": [
    {
     "data": {
      "text/plain": [
       "f (generic function with 2 methods)"
      ]
     },
     "execution_count": 49,
     "metadata": {},
     "output_type": "execute_result"
    }
   ],
   "source": [
    "## Definimos una función f(x,t) como la derivada de \"x\", es decir la ecuación a resolver\n",
    "f(x,t)=(2x-18t)/(1+t)"
   ]
  },
  {
   "cell_type": "code",
   "execution_count": 50,
   "metadata": {
    "collapsed": false
   },
   "outputs": [
    {
     "data": {
      "text/plain": [
       "301-element Array{Float64,1}:\n",
       "   4.0    \n",
       "   4.07973\n",
       "   4.15848\n",
       "   4.23623\n",
       "   4.31298\n",
       "   4.38875\n",
       "   4.46353\n",
       "   4.53731\n",
       "   4.6101 \n",
       "   4.6819 \n",
       "   4.75271\n",
       "   4.82252\n",
       "   4.89135\n",
       "   ⋮      \n",
       " -14.0766 \n",
       " -14.282  \n",
       " -14.4884 \n",
       " -14.6958 \n",
       " -14.9042 \n",
       " -15.1135 \n",
       " -15.3238 \n",
       " -15.5352 \n",
       " -15.7475 \n",
       " -15.9607 \n",
       " -16.175  \n",
       " -16.3902 "
      ]
     },
     "execution_count": 50,
     "metadata": {},
     "output_type": "execute_result"
    }
   ],
   "source": [
    "## Damos los intervalor para los cuales se evaluarán cada uno de nuestros ejemplos tomando como x0=4, definiendo las variables ej5,6,7 para después graficarlas\n",
    "\n",
    "listt_5=0:0.2:3;\n",
    "listt_6=0:0.1:3;\n",
    "listt_7=0:0.01:3;\n",
    "ej5=Metodo_Euler(f,4,listt_5)\n",
    "ej6=Metodo_Euler(f,4,listt_6)\n",
    "ej7=Metodo_Euler(f,4,listt_7)"
   ]
  },
  {
   "cell_type": "code",
   "execution_count": 56,
   "metadata": {
    "collapsed": false
   },
   "outputs": [
    {
     "data": {
      "image/png": "[encoded data removed]",
      "text/plain": [
       "PyPlot.Figure(PyObject <matplotlib.figure.Figure object at 0x7f14f3face90>)"
      ]
     },
     "metadata": {},
     "output_type": "display_data"
    }
   ],
   "source": [
    "## Análogo al ejercicio anterior graficamos cada los puntos de las listas\n",
    "\n",
    "scatter(listt_5,ej5,label=L\"Método de Euler con $h=0.2$\",s=10)\n",
    "plot(listt_5,ej5)\n",
    "scatter(listt_6,ej6,label=L\"Método de Euler con $h=0.1$\",s=10)\n",
    "plot(listt_6,ej6)\n",
    "scatter(listt_7,ej7,label=L\"Método de Euler con $h=0.1$\",s=10)\n",
    "plot(listt_7,ej7)\n",
    "t = linspace(0,3,100)\n",
    "plot(t,-5t.^2+8t+4,label=L\"Solución numérica con $x(0)=4$\")\n",
    "\n",
    "grid(\"on\")\n",
    "legend();\n",
    "show();"
   ]
  },
  {
   "cell_type": "code",
   "execution_count": null,
   "metadata": {
    "collapsed": true
   },
   "outputs": [],
   "source": []
  }
 ],
 "metadata": {
  "kernelspec": {
   "display_name": "Julia 0.6.0",
   "language": "julia",
   "name": "julia-0.6"
  },
  "language_info": {
   "file_extension": ".jl",
   "mimetype": "application/julia",
   "name": "julia",
   "version": "0.6.0"
  }
 },
 "nbformat": 4,
 "nbformat_minor": 2
}
