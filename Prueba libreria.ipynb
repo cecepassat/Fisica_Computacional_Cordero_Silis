{
 "cells": [
  {
   "cell_type": "code",
   "execution_count": 49,
   "metadata": {},
   "outputs": [
    {
     "name": "stderr",
     "output_type": "stream",
     "text": [
      "WARNING: replacing module herramientas\n"
     ]
    },
    {
     "data": {
      "text/plain": [
       "herramientas"
      ]
     },
     "execution_count": 49,
     "metadata": {},
     "output_type": "execute_result"
    }
   ],
   "source": [
    "include(\"herramientas.jl\")"
   ]
  },
  {
   "cell_type": "code",
   "execution_count": 50,
   "metadata": {},
   "outputs": [],
   "source": [
    "## A continuación se prueba el funcionamiento de los programas en la libreria"
   ]
  },
  {
   "cell_type": "code",
   "execution_count": 51,
   "metadata": {},
   "outputs": [
    {
     "data": {
      "text/plain": [
       "f (generic function with 1 method)"
      ]
     },
     "execution_count": 51,
     "metadata": {},
     "output_type": "execute_result"
    }
   ],
   "source": [
    "## Método de Newton\n",
    "f(x)=x^2+x+1"
   ]
  },
  {
   "cell_type": "code",
   "execution_count": 52,
   "metadata": {},
   "outputs": [
    {
     "data": {
      "text/plain": [
       "df (generic function with 1 method)"
      ]
     },
     "execution_count": 52,
     "metadata": {},
     "output_type": "execute_result"
    }
   ],
   "source": [
    "df(x)=2x+1"
   ]
  },
  {
   "cell_type": "code",
   "execution_count": 53,
   "metadata": {},
   "outputs": [
    {
     "data": {
      "text/plain": [
       "-1.475220908776886"
      ]
     },
     "execution_count": 53,
     "metadata": {},
     "output_type": "execute_result"
    }
   ],
   "source": [
    "herramientas.Metodo_Newton(f,df,10)"
   ]
  },
  {
   "cell_type": "code",
   "execution_count": 54,
   "metadata": {},
   "outputs": [
    {
     "data": {
      "text/plain": [
       "1.3011111924978318"
      ]
     },
     "execution_count": 54,
     "metadata": {},
     "output_type": "execute_result"
    }
   ],
   "source": [
    "##### Newton Funciones Arbitrarias\n",
    "\n",
    "herramientas.metodo(f,df,10)"
   ]
  },
  {
   "cell_type": "code",
   "execution_count": 55,
   "metadata": {},
   "outputs": [
    {
     "data": {
      "text/plain": [
       "1.2000099999909253"
      ]
     },
     "execution_count": 55,
     "metadata": {},
     "output_type": "execute_result"
    }
   ],
   "source": [
    "##### Derivada Numérica\n",
    "\n",
    "herramientas.DerivadaNumerica(f,0.1,0.00001)"
   ]
  },
  {
   "cell_type": "code",
   "execution_count": 56,
   "metadata": {},
   "outputs": [
    {
     "data": {
      "text/plain": [
       "1.2000000000000899"
      ]
     },
     "execution_count": 56,
     "metadata": {},
     "output_type": "execute_result"
    }
   ],
   "source": [
    "##### Derivada Simétrica\n",
    "\n",
    "herramientas.Derivada_Simetrica(f,0.1,0.0001)"
   ]
  },
  {
   "cell_type": "code",
   "execution_count": 57,
   "metadata": {},
   "outputs": [
    {
     "ename": "LoadError",
     "evalue": "\u001b[91mInexactError: convert(Int64, 0.01)\u001b[39m",
     "output_type": "error",
     "traceback": [
      "\u001b[91mInexactError: convert(Int64, 0.01)\u001b[39m",
      "",
      "Stacktrace:",
      " [1] \u001b[1mconvert\u001b[22m\u001b[22m at \u001b[1m./float.jl:703\u001b[22m\u001b[22m [inlined]",
      " [2] \u001b[1mType\u001b[22m\u001b[22m at \u001b[1m./sysimg.jl:107\u001b[22m\u001b[22m [inlined]",
      " [3] \u001b[1mlinspace\u001b[22m\u001b[22m at \u001b[1m./range.jl:245\u001b[22m\u001b[22m [inlined]",
      " [4] \u001b[1mbroadcast\u001b[22m\u001b[22m at \u001b[1m./broadcast.jl:16\u001b[22m\u001b[22m [inlined]",
      " [5] \u001b[1mRectangulo\u001b[22m\u001b[22m\u001b[1m(\u001b[22m\u001b[22m::typeof(f), ::Int64, ::Int64, ::Float64\u001b[1m)\u001b[22m\u001b[22m at \u001b[1m/home/juser/Fisica_Computacional_Cordero_Silis/herramientas.jl:55\u001b[22m\u001b[22m"
     ]
    }
   ],
   "source": [
    "##### Integración método del Rectángulo\n",
    "\n",
    "herramientas.Rectangulo(f,0,1,0.01)"
   ]
  },
  {
   "cell_type": "code",
   "execution_count": 58,
   "metadata": {},
   "outputs": [
    {
     "ename": "LoadError",
     "evalue": "\u001b[91mInexactError: convert(Int64, 0.01)\u001b[39m",
     "output_type": "error",
     "traceback": [
      "\u001b[91mInexactError: convert(Int64, 0.01)\u001b[39m",
      "",
      "Stacktrace:",
      " [1] \u001b[1mconvert\u001b[22m\u001b[22m at \u001b[1m./float.jl:703\u001b[22m\u001b[22m [inlined]",
      " [2] \u001b[1mType\u001b[22m\u001b[22m at \u001b[1m./sysimg.jl:107\u001b[22m\u001b[22m [inlined]",
      " [3] \u001b[1mlinspace\u001b[22m\u001b[22m at \u001b[1m./range.jl:245\u001b[22m\u001b[22m [inlined]",
      " [4] \u001b[1mbroadcast\u001b[22m\u001b[22m at \u001b[1m./broadcast.jl:16\u001b[22m\u001b[22m [inlined]",
      " [5] \u001b[1mTrapecio\u001b[22m\u001b[22m\u001b[1m(\u001b[22m\u001b[22m::typeof(f), ::Int64, ::Int64, ::Float64\u001b[1m)\u001b[22m\u001b[22m at \u001b[1m/home/juser/Fisica_Computacional_Cordero_Silis/herramientas.jl:66\u001b[22m\u001b[22m"
     ]
    }
   ],
   "source": [
    "##### Integración método del Trapecio\n",
    "\n",
    "herramientas.Trapecio(f,0,1,0.01)"
   ]
  },
  {
   "cell_type": "code",
   "execution_count": 59,
   "metadata": {
    "scrolled": true
   },
   "outputs": [
    {
     "ename": "LoadError",
     "evalue": "\u001b[91mInexactError: convert(Int64, 0.01)\u001b[39m",
     "output_type": "error",
     "traceback": [
      "\u001b[91mInexactError: convert(Int64, 0.01)\u001b[39m",
      "",
      "Stacktrace:",
      " [1] \u001b[1mconvert\u001b[22m\u001b[22m at \u001b[1m./float.jl:703\u001b[22m\u001b[22m [inlined]",
      " [2] \u001b[1mType\u001b[22m\u001b[22m at \u001b[1m./sysimg.jl:107\u001b[22m\u001b[22m [inlined]",
      " [3] \u001b[1mlinspace\u001b[22m\u001b[22m at \u001b[1m./range.jl:245\u001b[22m\u001b[22m [inlined]",
      " [4] \u001b[1mbroadcast\u001b[22m\u001b[22m at \u001b[1m./broadcast.jl:16\u001b[22m\u001b[22m [inlined]",
      " [5] \u001b[1mSimpson\u001b[22m\u001b[22m\u001b[1m(\u001b[22m\u001b[22m::typeof(f), ::Int64, ::Int64, ::Float64\u001b[1m)\u001b[22m\u001b[22m at \u001b[1m/home/juser/Fisica_Computacional_Cordero_Silis/herramientas.jl:77\u001b[22m\u001b[22m"
     ]
    }
   ],
   "source": [
    "##### Integración Simpson\n",
    "\n",
    "herramientas.Simpson(f,0,1,0.01)"
   ]
  },
  {
   "cell_type": "code",
   "execution_count": 60,
   "metadata": {
    "scrolled": true
   },
   "outputs": [
    {
     "data": {
      "text/plain": [
       "g (generic function with 1 method)"
      ]
     },
     "execution_count": 60,
     "metadata": {},
     "output_type": "execute_result"
    }
   ],
   "source": [
    "g(x,t)=x+3*t"
   ]
  },
  {
   "cell_type": "code",
   "execution_count": null,
   "metadata": {},
   "outputs": [],
   "source": []
  },
  {
   "cell_type": "code",
   "execution_count": 61,
   "metadata": {},
   "outputs": [
    {
     "data": {
      "text/plain": [
       "(Any[2.01, 2.02, 2.03, 2.04, 2.05, 2.06, 2.07, 2.08, 2.09, 2.1  …  2.9, 2.91, 2.92, 2.93, 2.94, 2.95, 2.96, 2.97, 2.98, 2.99], Any[1.07, 1.141, 1.21301, 1.28604, 1.3601, 1.4352, 1.51135, 1.58857, 1.66685, 1.74622  …  12.7863, 13.0012, 13.2185, 13.4383, 13.6606, 13.8854, 14.1127, 14.3427, 14.5752, 14.8103])"
      ]
     },
     "execution_count": 61,
     "metadata": {},
     "output_type": "execute_result"
    }
   ],
   "source": [
    "##### Euler Simétrico\n",
    "\n",
    "herramientas.Metodo_Euler(g,1,2,3,.01)"
   ]
  },
  {
   "cell_type": "code",
   "execution_count": 62,
   "metadata": {},
   "outputs": [
    {
     "ename": "LoadError",
     "evalue": "\u001b[91mMethodError: no method matching g(::Float64, ::Float64, ::Float64)\u001b[0m\nClosest candidates are:\n  g(::Any, ::Any) at In[60]:1\u001b[39m",
     "output_type": "error",
     "traceback": [
      "\u001b[91mMethodError: no method matching g(::Float64, ::Float64, ::Float64)\u001b[0m\nClosest candidates are:\n  g(::Any, ::Any) at In[60]:1\u001b[39m",
      "",
      "Stacktrace:",
      " [1] \u001b[1mMetodo_Euler2\u001b[22m\u001b[22m\u001b[1m(\u001b[22m\u001b[22m::typeof(g), ::Int64, ::Int64, ::StepRangeLen{Float64,Base.TwicePrecision{Float64},Base.TwicePrecision{Float64}}\u001b[1m)\u001b[22m\u001b[22m at \u001b[1m/home/juser/Fisica_Computacional_Cordero_Silis/herramientas.jl:116\u001b[22m\u001b[22m"
     ]
    }
   ],
   "source": [
    "##### Euler más de una dimensión\n",
    "\n",
    "herramientas.Metodo_Euler2(g,1,2,listt)"
   ]
  },
  {
   "cell_type": "code",
   "execution_count": 63,
   "metadata": {},
   "outputs": [
    {
     "data": {
      "text/plain": [
       "0.0:0.1:15.0"
      ]
     },
     "execution_count": 63,
     "metadata": {},
     "output_type": "execute_result"
    }
   ],
   "source": [
    "listt=0:.1:15"
   ]
  },
  {
   "cell_type": "code",
   "execution_count": 64,
   "metadata": {
    "scrolled": true
   },
   "outputs": [
    {
     "ename": "LoadError",
     "evalue": "\u001b[91mMethodError: no method matching f(::Float64, ::Float64)\u001b[0m\nClosest candidates are:\n  f(::Any) at In[51]:2\u001b[39m",
     "output_type": "error",
     "traceback": [
      "\u001b[91mMethodError: no method matching f(::Float64, ::Float64)\u001b[0m\nClosest candidates are:\n  f(::Any) at In[51]:2\u001b[39m",
      "",
      "Stacktrace:",
      " [1] \u001b[1m(::getfield(herramientas, Symbol(\"#g#1\")){typeof(f),StepRangeLen{Float64,Base.TwicePrecision{Float64},Base.TwicePrecision{Float64}},Array{Float64,1},Float64})\u001b[22m\u001b[22m\u001b[1m(\u001b[22m\u001b[22m::Float64\u001b[1m)\u001b[22m\u001b[22m at \u001b[1m/home/juser/Fisica_Computacional_Cordero_Silis/herramientas.jl:133\u001b[22m\u001b[22m",
      " [2] \u001b[1mMetodo_Newton\u001b[22m\u001b[22m\u001b[1m(\u001b[22m\u001b[22m::getfield(herramientas, Symbol(\"#g#1\")){typeof(f),StepRangeLen{Float64,Base.TwicePrecision{Float64},Base.TwicePrecision{Float64}},Array{Float64,1},Float64}, ::getfield(herramientas, Symbol(\"#derivadag#2\")){typeof(df),StepRangeLen{Float64,Base.TwicePrecision{Float64},Base.TwicePrecision{Float64}},Float64}, ::Float64\u001b[1m)\u001b[22m\u001b[22m at \u001b[1m/home/juser/Fisica_Computacional_Cordero_Silis/herramientas.jl:15\u001b[22m\u001b[22m",
      " [3] \u001b[1mImp_Euler\u001b[22m\u001b[22m\u001b[1m(\u001b[22m\u001b[22m::typeof(f), ::typeof(df), ::StepRangeLen{Float64,Base.TwicePrecision{Float64},Base.TwicePrecision{Float64}}, ::Int64\u001b[1m)\u001b[22m\u001b[22m at \u001b[1m/home/juser/Fisica_Computacional_Cordero_Silis/herramientas.jl:138\u001b[22m\u001b[22m"
     ]
    }
   ],
   "source": [
    "##### Euler Implícito\n",
    "\n",
    "herramientas.Imp_Euler(f,df,listt,1)"
   ]
  },
  {
   "cell_type": "code",
   "execution_count": 65,
   "metadata": {},
   "outputs": [
    {
     "data": {
      "text/plain": [
       "h (generic function with 1 method)"
      ]
     },
     "execution_count": 65,
     "metadata": {},
     "output_type": "execute_result"
    }
   ],
   "source": [
    "h(x)=sin.(x)+t"
   ]
  },
  {
   "cell_type": "code",
   "execution_count": 66,
   "metadata": {},
   "outputs": [
    {
     "ename": "LoadError",
     "evalue": "\u001b[91mMethodError: no method matching h(::Float64, ::Float64)\u001b[0m\nClosest candidates are:\n  h(::Any) at In[65]:1\u001b[39m",
     "output_type": "error",
     "traceback": [
      "\u001b[91mMethodError: no method matching h(::Float64, ::Float64)\u001b[0m\nClosest candidates are:\n  h(::Any) at In[65]:1\u001b[39m",
      "",
      "Stacktrace:",
      " [1] \u001b[1mRK_O4\u001b[22m\u001b[22m\u001b[1m(\u001b[22m\u001b[22m::typeof(h), ::StepRangeLen{Float64,Base.TwicePrecision{Float64},Base.TwicePrecision{Float64}}, ::Int64\u001b[1m)\u001b[22m\u001b[22m at \u001b[1m/home/juser/Fisica_Computacional_Cordero_Silis/herramientas.jl:173\u001b[22m\u001b[22m"
     ]
    }
   ],
   "source": [
    "##### Runge-Kutta orden 4\n",
    "\n",
    "herramientas.RK_O4(h,listt,1)"
   ]
  },
  {
   "cell_type": "code",
   "execution_count": null,
   "metadata": {},
   "outputs": [],
   "source": []
  }
 ],
 "metadata": {
  "kernelspec": {
   "display_name": "Julia 0.7.0-DEV",
   "language": "julia",
   "name": "julia-0.7"
  },
  "language_info": {
   "file_extension": ".jl",
   "mimetype": "application/julia",
   "name": "julia",
   "version": "0.7.0"
  }
 },
 "nbformat": 4,
 "nbformat_minor": 2
}
