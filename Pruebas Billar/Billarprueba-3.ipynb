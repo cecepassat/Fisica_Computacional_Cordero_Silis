{
 "cells": [
  {
   "cell_type": "markdown",
   "metadata": {},
   "source": [
    "## Una Dimension"
   ]
  },
  {
   "cell_type": "markdown",
   "metadata": {},
   "source": [
    "Vamos a hacer dos listas de reales de 1000 elementoas cada una en la que en la primer lista (list[]) vamos a guardar todas las posiciones de la partiicula ty en la lista t[] vamos a guardar todos los tiempos."
   ]
  },
  {
   "cell_type": "code",
   "execution_count": 20,
   "metadata": {},
   "outputs": [],
   "source": [
    "using PyPlot"
   ]
  },
  {
   "cell_type": "code",
   "execution_count": 21,
   "metadata": {},
   "outputs": [],
   "source": [
    "list=zeros(1000);\n",
    "x=0;\n",
    "t=linspace(0,10,1000);\n",
    "\n",
    "for i in 1:1000\n",
    "    x=2t[i] #v=2\n",
    "    list[i]=x;   \n",
    "end"
   ]
  },
  {
   "cell_type": "markdown",
   "metadata": {},
   "source": [
    "Vamos a buscar en que punto la posicion de la particula cpincide con las coordenadas de la barrera"
   ]
  },
  {
   "cell_type": "code",
   "execution_count": 22,
   "metadata": {},
   "outputs": [
    {
     "name": "stdout",
     "output_type": "stream",
     "text": [
      "3.1431431431431434      yyyy    1.5715715715715717\n"
     ]
    }
   ],
   "source": [
    "b=3.141323 #definimos la posición de la barrera, en este caso puntual\n",
    "err=0.01\n",
    "for i in 1:1000\n",
    "    if abs(list[i]-b)<err # aqui vemos si la diferencia de coordenadas es menos a una epsilon\n",
    "        println(list[i],\"      yyyy    \", t[i])\n",
    "    end\n",
    "end"
   ]
  },
  {
   "cell_type": "code",
   "execution_count": 23,
   "metadata": {},
   "outputs": [
    {
     "name": "stdout",
     "output_type": "stream",
     "text": [
      "0.0   y   0.990990990990991\n"
     ]
    }
   ],
   "source": [
    "println(list[1],\"   y   \", t[100]) # por último imprimimos las coordenadas y el tiempo en el que choca."
   ]
  },
  {
   "cell_type": "markdown",
   "metadata": {
    "collapsed": true
   },
   "source": [
    "## Dos dimensiones"
   ]
  },
  {
   "cell_type": "markdown",
   "metadata": {},
   "source": [
    "Definimos una lista con las velocidades para y y x: SPG consideramos $v_x =2$ y $v_y=4$"
   ]
  },
  {
   "cell_type": "code",
   "execution_count": 24,
   "metadata": {},
   "outputs": [],
   "source": [
    "posx=zeros(1000); #posicion en x\n",
    "posy=zeros(1000);#posicion en y\n",
    "x=0.;#posicion en x\n",
    "y=0.;#posicion en y\n",
    "vx=1. #velocidad en x\n",
    "vy=0.5 #velocidad en y\n",
    "t=linspace(0,10,1000);\n",
    "\n",
    "for i in 1:1000\n",
    "    x=vx*t[i] #v=2\n",
    "    y=vy*t[i] #v=2\n",
    "    posx[i]=x;\n",
    "    posy[i]=y;\n",
    "    \n",
    "end"
   ]
  },
  {
   "cell_type": "code",
   "execution_count": 25,
   "metadata": {},
   "outputs": [
    {
     "data": {
      "image/png": "[encoded data removed]",
      "text/plain": [
       "PyPlot.Figure(PyObject <matplotlib.figure.Figure object at 0x7fe849639b90>)"
      ]
     },
     "metadata": {},
     "output_type": "display_data"
    }
   ],
   "source": [
    "plot(posx, posy)\n",
    "ylim(-10,10);\n",
    "grid(\"on\")"
   ]
  },
  {
   "cell_type": "markdown",
   "metadata": {},
   "source": [
    "Vamos a definir la barrera en las coordenadas x=15.0"
   ]
  },
  {
   "cell_type": "code",
   "execution_count": 26,
   "metadata": {},
   "outputs": [],
   "source": [
    "listBarr=zeros(1000);\n",
    "posBarr=15.0\n",
    "t=linspace(0,10,1000);\n",
    "\n",
    "for i in 1:1000\n",
    "    listBarr[i]=posBarr  \n",
    "end"
   ]
  },
  {
   "cell_type": "markdown",
   "metadata": {},
   "source": [
    "Basta con tener la pos barra wen x"
   ]
  },
  {
   "cell_type": "code",
   "execution_count": 27,
   "metadata": {},
   "outputs": [
    {
     "name": "stdout",
     "output_type": "stream",
     "text": [
      "posx                   ----            posy            ----         tiempo\n",
      "5.195195195195195      ----    2.5975975975975976      ----    5.195195195195195\n"
     ]
    }
   ],
   "source": [
    "posBarrx=5.2 #definimos la posición de la barrera en x, en este caso puntual\n",
    "#posBarry= #definimos la posición de la barrera en x, en este caso puntual\n",
    "err=0.005\n",
    "it=0\n",
    "for i in 1:1000\n",
    "    if abs(posx[i]-posBarrx)<err # aqui vemos si la diferencia de coordenadas es menos a una epsilon\n",
    "        it=i #pos. choq\n",
    "        println(\"posx\",\"                   ----    \",\"        posy\",\"            ----    \", \"     tiempo\")\n",
    "        println(posx[i],\"      ----    \",posy[i],\"      ----    \", t[i]) \n",
    "    end\n",
    "end\n",
    "x02=posx[it];\n",
    "y02=posy[it];"
   ]
  },
  {
   "cell_type": "markdown",
   "metadata": {},
   "source": [
    "#### Veamos el ángulo deflectado"
   ]
  },
  {
   "cell_type": "markdown",
   "metadata": {},
   "source": [
    "tomemos posx[i] y posy[i], en este caso la la derivada de la ecuacion que parametriza la linea es x=5.5"
   ]
  },
  {
   "cell_type": "code",
   "execution_count": 28,
   "metadata": {},
   "outputs": [
    {
     "data": {
      "text/plain": [
       "0.4636476090008061"
      ]
     },
     "execution_count": 28,
     "metadata": {},
     "output_type": "execute_result"
    }
   ],
   "source": [
    "ang=atan(posy[it]/posx[it])"
   ]
  },
  {
   "cell_type": "code",
   "execution_count": 29,
   "metadata": {},
   "outputs": [
    {
     "name": "stdout",
     "output_type": "stream",
     "text": [
      "x                               y                    tiempo\n",
      "-1.0                           0.5                   5.195195195195195\n"
     ]
    }
   ],
   "source": [
    "if 0<ang<3.14\n",
    "    vx2=-vx\n",
    "    vy2=vy\n",
    "    println(\"x\",\"                       \",\"        y\",\"               \", \"     tiempo\")\n",
    "    println(-vx,\"                           \",vy,\"                   \", t[it]    )\n",
    "end"
   ]
  },
  {
   "cell_type": "code",
   "execution_count": 30,
   "metadata": {},
   "outputs": [],
   "source": [
    "posx2=zeros(1000); #posicion en x\n",
    "posy2=zeros(1000);#posicion en y\n",
    "#x02=0.;#posicion en x         ya se definio\n",
    "#y02=0.;#posicion en y         Ya se definieron las dos\n",
    "\n",
    "t=linspace(0,10,1000);\n",
    "\n",
    "for i in 1:1000\n",
    "    x=x02+vx2*t[i] #v=2\n",
    "    y=y02+vy2*t[i] #v=2\n",
    "    posx2[i]=x;\n",
    "    posy2[i]=y;\n",
    "    \n",
    "end"
   ]
  },
  {
   "cell_type": "code",
   "execution_count": 31,
   "metadata": {},
   "outputs": [
    {
     "data": {
      "image/png": "[encoded data removed]",
      "text/plain": [
       "PyPlot.Figure(PyObject <matplotlib.figure.Figure object at 0x7fe849384d10>)"
      ]
     },
     "metadata": {},
     "output_type": "display_data"
    }
   ],
   "source": [
    "plot(posx2, posy2)\n",
    "plot(posx, posy)\n",
    "ylim(-5,6);\n",
    "xlim(-5,7);\n",
    "grid(\"on\")"
   ]
  },
  {
   "cell_type": "code",
   "execution_count": 32,
   "metadata": {},
   "outputs": [],
   "source": [
    "listBarr=zeros(1000);\n",
    "posBarrV1=15.0\n",
    "posBarrV2=15.0\n",
    "posBarrH1=15.0\n",
    "posBarrH2=15.0\n",
    "t=linspace(0,10,1000);\n",
    "\n",
    "\n",
    "for i in 1:1000\n",
    "    listBarr[i]=posBarr  \n",
    "end"
   ]
  },
  {
   "cell_type": "code",
   "execution_count": 33,
   "metadata": {},
   "outputs": [],
   "source": [
    "posx2=zeros(1000); #posicion en x\n",
    "posy2=zeros(1000);#posicion en y\n",
    "#x02=0.;#posicion en x         ya se definio\n",
    "#y02=0.;#posicion en y         Ya se definieron las dos\n",
    "\n",
    "t=linspace(0,10,1000);\n",
    "\n",
    "for i in 1:1000\n",
    "    x=x02+vx2*t[i] #v=2\n",
    "    y=y02+vy2*t[i] #v=2\n",
    "    posx2[i]=x;\n",
    "    posy2[i]=y; \n",
    "end"
   ]
  },
  {
   "cell_type": "code",
   "execution_count": 34,
   "metadata": {},
   "outputs": [
    {
     "ename": "LoadError",
     "evalue": "BoundsError: attempt to access 1000-element Array{Float64,1} at index [0]",
     "output_type": "error",
     "traceback": [
      "BoundsError: attempt to access 1000-element Array{Float64,1} at index [0]",
      "",
      " in getindex(::Array{Float64,1}, ::Int64) at ./array.jl:386",
      " in macro expansion; at ./In[34]:12 [inlined]",
      " in anonymous at ./<missing>:?",
      " in include_string(::String, ::String) at ./loading.jl:441"
     ]
    }
   ],
   "source": [
    "posBarrx1=5.1 #deilimitamos al rectangulo\n",
    "posBarrx2=-5.1 \n",
    "posBarry1=4.4\n",
    "posBarry2=-4.4\n",
    "\n",
    "err=0.001\n",
    "it=0  #iteracion\n",
    "\n",
    "\n",
    "for i in 1:1000\n",
    "    \n",
    "    if abs(posx2[it]-posBarrx1)<err  || abs(posx2[it]-posBarrx2)<err|| \n",
    "        abs(posy2[it]-posBarry1)<err || abs(posy2[it]-posBarry2)<err\n",
    "        \n",
    "        it=i #pos. choq\n",
    "        println(\"      posx\",\"              ----    \",\"      posy\",\"             ----    \", \"      tiempo\")\n",
    "        println(posx2[it],\"      ----    \",posy2[it],\"      ----    \", t[it]) \n",
    "        \n",
    "    end \n",
    "end\n",
    "\n",
    "\n",
    "x02=posx[it];\n",
    "y02=posy[it];"
   ]
  },
  {
   "cell_type": "code",
   "execution_count": 50,
   "metadata": {},
   "outputs": [
    {
     "data": {
      "image/png": "[encoded data removed]",
      "text/plain": [
       "PyPlot.Figure(PyObject <matplotlib.figure.Figure object at 0x7fe84969bf50>)"
      ]
     },
     "metadata": {},
     "output_type": "display_data"
    }
   ],
   "source": [
    "plot(posx2, posy2)\n",
    "plot(posx, posy)\n",
    "\n",
    "\n",
    "plot([-5,5],[-5,-5],linestyle=\"-\",linewidth=3.0)\n",
    "plot([-5,5],[5,5],linestyle=\"-\",linewidth=3.0)\n",
    "plot([-5,-5],[-5,5],linestyle=\"-\",linewidth=3.0)\n",
    "plot([5,5],[-5,5],linestyle=\"-\",linewidth=3.0)\n",
    "\n",
    "ylim(-15,18);\n",
    "xlim(-15,18);\n",
    "grid(\"on\")"
   ]
  },
  {
   "cell_type": "code",
   "execution_count": 36,
   "metadata": {},
   "outputs": [],
   "source": [
    "posx2=zeros(1000); #posicion en x\n",
    "posy2=zeros(1000);#posicion en y\n",
    "x0=0.;#posicion en x         ya se definio\n",
    "y0=0.;#posicion en y         Ya se definieron las dos\n",
    "vx=3\n",
    "vy=2\n",
    "t=linspace(0,10,1000);\n",
    "\n",
    "for i in 1:1000\n",
    "    x=x0+vx*t[i] #v=2\n",
    "    y=y0+vy*t[i] #v=2\n",
    "    posx[i]=x;\n",
    "    posy[i]=y; \n",
    "end"
   ]
  },
  {
   "cell_type": "code",
   "execution_count": 37,
   "metadata": {},
   "outputs": [
    {
     "ename": "LoadError",
     "evalue": "BoundsError: attempt to access 1000-element Array{Float64,1} at index [0]",
     "output_type": "error",
     "traceback": [
      "BoundsError: attempt to access 1000-element Array{Float64,1} at index [0]",
      "",
      " in getindex(::Array{Float64,1}, ::Int64) at ./array.jl:386",
      " in include_string(::String, ::String) at ./loading.jl:441"
     ]
    }
   ],
   "source": [
    "posBarrx1=5.1 #deilimitamos al rectangulo\n",
    "posBarrx2=-5.1 \n",
    "posBarry1=4.4\n",
    "posBarry2=-4.4\n",
    "\n",
    "err=0.001\n",
    "it=0  #iteracion\n",
    "\n",
    "for i in 1:1000\n",
    "    if  abs(posx[i]-posBarrx1)<err  || abs(posx[i]-posBarrx2)<err|| \n",
    "        abs(posy[i]-posBarry1)<err || abs(posy[i]-posBarry2)<err\n",
    "        \n",
    "        println(\"       x\",\"                     \",\"      y\",\"                    \", \"    Tiempo\")\n",
    "        println(\"\")\n",
    "        println(posx[i],\"             \",posy[i],\"             \", t[i]) \n",
    "        it=i #iteracion en la que chocan\n",
    "    end \n",
    "end\n",
    "x0=posx[it];\n",
    "y0=posy[it];"
   ]
  },
  {
   "cell_type": "code",
   "execution_count": 38,
   "metadata": {},
   "outputs": [
    {
     "ename": "LoadError",
     "evalue": "BoundsError: attempt to access 1000-element LinSpace{Float64} at index [0]",
     "output_type": "error",
     "traceback": [
      "BoundsError: attempt to access 1000-element LinSpace{Float64} at index [0]",
      "",
      " in throw_boundserror(::LinSpace{Float64}, ::Tuple{Int64}) at ./abstractarray.jl:363",
      " in checkbounds at ./abstractarray.jl:292 [inlined]",
      " in getindex(::LinSpace{Float64}, ::Int64) at ./range.jl:506",
      " in macro expansion; at ./In[38]:12 [inlined]",
      " in anonymous at ./<missing>:?",
      " in include_string(::String, ::String) at ./loading.jl:441"
     ]
    }
   ],
   "source": [
    "posBarrx1=5.1 #deilimitamos al rectangulo\n",
    "posBarrx2=-5.1 \n",
    "posBarry1=4.4\n",
    "posBarry2=-4.4\n",
    "\n",
    "err=0.001\n",
    "it=0  #iteracion\n",
    "\n",
    "for j in 1:2\n",
    "    \n",
    "   for i in 1:1000\n",
    "    x=x0+vx*t[it] #v=2\n",
    "    y=y0+vy*t[it] #v=2\n",
    "    posx[i]=x;\n",
    "    posy[i]=y; \n",
    "end \n",
    "    \n",
    "    for i in 1:1000\n",
    "    if  abs(posx[it]-posBarrx1)<err  || abs(posx[it]-posBarrx2)<err|| \n",
    "        abs(posy[it]-posBarry1)<err || abs(posy[it]-posBarry2)<err\n",
    "        \n",
    "        println(\"       x\",\"                     \",\"      y\",\"                    \", \"    Tiempo\")\n",
    "        println(\"\")\n",
    "        println(posx[it],\"             \",posy[it],\"             \", t[it]) \n",
    "        it=i #iteracion en la que chocan\n",
    "    end \n",
    "end\n",
    "    \n",
    "x0=posx[it];\n",
    "y0=posy[it];\n",
    "vx=-vx\n",
    "\n",
    "    \n",
    "    \n",
    "    \n",
    "    \n",
    "    \n",
    "    end "
   ]
  },
  {
   "cell_type": "code",
   "execution_count": null,
   "metadata": {},
   "outputs": [],
   "source": []
  }
 ],
 "metadata": {
  "kernelspec": {
   "display_name": "Julia 0.5.2",
   "language": "julia",
   "name": "julia-0.5"
  },
  "language_info": {
   "file_extension": ".jl",
   "mimetype": "application/julia",
   "name": "julia",
   "version": "0.5.2"
  }
 },
 "nbformat": 4,
 "nbformat_minor": 2
}
