{
 "cells": [
  {
   "cell_type": "markdown",
   "metadata": {},
   "source": [
    "## Tarea 10 Septiembre 19"
   ]
  },
  {
   "cell_type": "markdown",
   "metadata": {
    "collapsed": true
   },
   "source": [
    "Editar las rutinas presentadas en esta clase para calcular la _derivada hacia adelante_ a orden más alto, pero en esta ocasión para el operador _derivada simetrizada_.\n",
    "* No olvide hacer el test de la rutina, similar a lo que se hizo en este notebook para el $cos$."
   ]
  },
  {
   "cell_type": "markdown",
   "metadata": {
    "collapsed": true
   },
   "source": [
    "## Cálculo automático de las diferencias finitas de $f(x)$ a ordenes más altos"
   ]
  },
  {
   "cell_type": "code",
   "execution_count": 293,
   "metadata": {
    "collapsed": true
   },
   "outputs": [],
   "source": [
    "using SymPy"
   ]
  },
  {
   "cell_type": "code",
   "execution_count": 294,
   "metadata": {
    "collapsed": true
   },
   "outputs": [],
   "source": [
    "function Coeff_Taylor_Log(i) ##Definimos la función logaritmo\n",
    "x=Sym(\"x\");\n",
    "h=Sym(\"h\");\n",
    "    N(subs(diff(log((0.5x+((0.5x)^2. + 1.)^0.5)),x,i)/factorial(Float64(i)),x=>0)) ##Aproximamos la derivada\n",
    "end;\n",
    "\n",
    "function Coeff_Taylor_Log_Rational(i)\n",
    "    x=Sym(\"x\");\n",
    "    h=Sym(\"h\");\n",
    "    subs(diff(log((0.5x+((0.5x)^2. + 1.)^0.5)),x,i)/factorial(Float64(i)),x=>0)\n",
    "end;\n",
    "\n",
    "function Finite_Difference_Sim(f) ##Aplicamos la definición de la derivada simétrica como lo hicimos en clase\n",
    "    return (x,h)->f(x+h,h)-f(x-h,h)\n",
    "end;"
   ]
  },
  {
   "cell_type": "code",
   "execution_count": 295,
   "metadata": {
    "collapsed": false
   },
   "outputs": [
    {
     "data": {
      "text/latex": [
       "$$g{\\left (x \\right )}$$"
      ],
      "text/plain": [
       "g(x)"
      ]
     },
     "execution_count": 295,
     "metadata": {},
     "output_type": "execute_result"
    }
   ],
   "source": [
    "g=SymFunction(\"g\"); ##Definimos una función simbólica [g(x)] de dos variables a la que denotaré xh\n",
    "xh(x,h)=g(x)\n",
    "xh(Sym(\"x\"),Sym(\"h\"))"
   ]
  },
  {
   "cell_type": "code",
   "execution_count": 296,
   "metadata": {
    "collapsed": false
   },
   "outputs": [
    {
     "data": {
      "text/latex": [
       "$$- g{\\left (- h + x \\right )} + g{\\left (h + x \\right )}$$"
      ],
      "text/plain": [
       "-g(-h + x) + g(h + x)"
      ]
     },
     "execution_count": 296,
     "metadata": {},
     "output_type": "execute_result"
    }
   ],
   "source": [
    "DifSim=Finite_Difference_Sim(xh); ##Renombro la función definida anteriormente por simplicidad y la aplico a mis variables simbólicas x,h\n",
    "##Aplicando la función sobre las variables 4 veces a fin de calcular las diferencias finitas para órdenes más altos\n",
    "DifSim(Sym(\"x\"),Sym(\"h\"))"
   ]
  },
  {
   "cell_type": "code",
   "execution_count": 297,
   "metadata": {
    "collapsed": false
   },
   "outputs": [
    {
     "data": {
      "text/latex": [
       "$$- 2 g{\\left (x \\right )} + g{\\left (- 2 h + x \\right )} + g{\\left (2 h + x \\right )}$$"
      ],
      "text/plain": [
       "-2*g(x) + g(-2*h + x) + g(2*h + x)"
      ]
     },
     "execution_count": 297,
     "metadata": {},
     "output_type": "execute_result"
    }
   ],
   "source": [
    "DifSim=Finite_Difference_Sim(DifSim);\n",
    "DifSim(Sym(\"x\"),Sym(\"h\"))"
   ]
  },
  {
   "cell_type": "code",
   "execution_count": 298,
   "metadata": {
    "collapsed": false
   },
   "outputs": [
    {
     "data": {
      "text/latex": [
       "$$- g{\\left (- 3 h + x \\right )} + 3 g{\\left (- h + x \\right )} - 3 g{\\left (h + x \\right )} + g{\\left (3 h + x \\right )}$$"
      ],
      "text/plain": [
       "-g(-3*h + x) + 3*g(-h + x) - 3*g(h + x) + g(3*h + x)"
      ]
     },
     "execution_count": 298,
     "metadata": {},
     "output_type": "execute_result"
    }
   ],
   "source": [
    "DifSim=Finite_Difference_Sim(DifSim);\n",
    "DifSim(Sym(\"x\"),Sym(\"h\"))"
   ]
  },
  {
   "cell_type": "code",
   "execution_count": 299,
   "metadata": {
    "collapsed": false
   },
   "outputs": [
    {
     "data": {
      "text/latex": [
       "$$6 g{\\left (x \\right )} + g{\\left (- 4 h + x \\right )} - 4 g{\\left (- 2 h + x \\right )} - 4 g{\\left (2 h + x \\right )} + g{\\left (4 h + x \\right )}$$"
      ],
      "text/plain": [
       "6*g(x) + g(-4*h + x) - 4*g(-2*h + x) - 4*g(2*h + x) + g(4*h + x)"
      ]
     },
     "execution_count": 299,
     "metadata": {},
     "output_type": "execute_result"
    }
   ],
   "source": [
    "DifSim=Finite_Difference_Sim(DifSim);\n",
    "DifSim(Sym(\"x\"),Sym(\"h\"))"
   ]
  },
  {
   "cell_type": "code",
   "execution_count": 316,
   "metadata": {
    "collapsed": true
   },
   "outputs": [],
   "source": [
    "##A continuación definiremos las derivada simétrica para un orden n"
   ]
  },
  {
   "cell_type": "code",
   "execution_count": 317,
   "metadata": {
    "collapsed": true
   },
   "outputs": [],
   "source": [
    "function Derivada_Sim_Orden(f,x,h,orden)\n",
    "    g(x,h)=f(x)\n",
    "    derivada=0\n",
    "    for i in range(1,orden)\n",
    "        g=Finite_Difference_Sim(g)\n",
    "        derivada=derivada+Coeff_Taylor_Log(i)*g(x,h)\n",
    "    end\n",
    "    derivada/h\n",
    "end;"
   ]
  },
  {
   "cell_type": "code",
   "execution_count": 318,
   "metadata": {
    "collapsed": true
   },
   "outputs": [],
   "source": [
    "##Aproximamos ahora por coeficientes racionales"
   ]
  },
  {
   "cell_type": "code",
   "execution_count": 319,
   "metadata": {
    "collapsed": true
   },
   "outputs": [],
   "source": [
    "function Derivative_Orden_Rational_Sim(f,x,h,orden)\n",
    "    g(x,h)=f(x)\n",
    "    derivada=0\n",
    "    for i in range(1,orden)\n",
    "        g=Finite_Sim_Difference(g)\n",
    "        derivada=derivada+Coeff_Taylor_Log_Rational(i)*g(x,h)\n",
    "    end\n",
    "    derivada/h\n",
    "end;"
   ]
  },
  {
   "cell_type": "code",
   "execution_count": 320,
   "metadata": {
    "collapsed": false
   },
   "outputs": [
    {
     "data": {
      "text/plain": [
       "0.09999999999999262"
      ]
     },
     "execution_count": 320,
     "metadata": {},
     "output_type": "execute_result"
    }
   ],
   "source": [
    "Derivada_Sim_Orden(log,10.0,0.01,8) ##Aplicamos la derivada simétrica a la función logaritmo"
   ]
  },
  {
   "cell_type": "code",
   "execution_count": 321,
   "metadata": {
    "collapsed": false
   },
   "outputs": [
    {
     "data": {
      "text/plain": [
       "0.1"
      ]
     },
     "execution_count": 321,
     "metadata": {},
     "output_type": "execute_result"
    }
   ],
   "source": [
    "1/(10.0) ##Evaluamos en la derivada a fin de comprobar el resultado"
   ]
  },
  {
   "cell_type": "code",
   "execution_count": 322,
   "metadata": {
    "collapsed": false
   },
   "outputs": [
    {
     "data": {
      "text/latex": [
       "$$0.0999999999999926$$"
      ],
      "text/plain": [
       "0.0999999999999926"
      ]
     },
     "execution_count": 322,
     "metadata": {},
     "output_type": "execute_result"
    }
   ],
   "source": [
    "Derivative_Order_Rational_Sim(log,10.0,0.01,8)"
   ]
  },
  {
   "cell_type": "code",
   "execution_count": 323,
   "metadata": {
    "collapsed": true
   },
   "outputs": [],
   "source": [
    "#Dada la aproximación computacional se concluye que el cálculo es correcto"
   ]
  },
  {
   "cell_type": "code",
   "execution_count": null,
   "metadata": {
    "collapsed": true
   },
   "outputs": [],
   "source": []
  }
 ],
 "metadata": {
  "kernelspec": {
   "display_name": "Julia 0.6.0",
   "language": "julia",
   "name": "julia-0.6"
  },
  "language_info": {
   "file_extension": ".jl",
   "mimetype": "application/julia",
   "name": "julia",
   "version": "0.6.0"
  }
 },
 "nbformat": 4,
 "nbformat_minor": 2
}
