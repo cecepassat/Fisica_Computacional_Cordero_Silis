{
 "cells": [
  {
   "cell_type": "markdown",
   "metadata": {},
   "source": [
    "## Tarea 11 Septiembre 21 (atrasada)"
   ]
  },
  {
   "cell_type": "code",
   "execution_count": 34,
   "metadata": {
    "collapsed": true
   },
   "outputs": [],
   "source": [
    "##Agreguemos primero los paquetes a utilizar"
   ]
  },
  {
   "cell_type": "code",
   "execution_count": 35,
   "metadata": {
    "collapsed": false
   },
   "outputs": [
    {
     "name": "stderr",
     "output_type": "stream",
     "text": [
      "\u001b[1m\u001b[36mINFO: \u001b[39m\u001b[22m\u001b[36mPackage PyPlot is already installed\n",
      "\u001b[39m\u001b[1m\u001b[36mINFO: \u001b[39m\u001b[22m\u001b[36mMETADATA is out-of-date — you may not have the latest version of PyPlot\n",
      "\u001b[39m\u001b[1m\u001b[36mINFO: \u001b[39m\u001b[22m\u001b[36mUse `Pkg.update()` to get the latest versions of your packages\n",
      "\u001b[39m"
     ]
    }
   ],
   "source": [
    "Pkg.add(\"PyPlot\")\n",
    "Pkg.add(\"SymPy\")"
   ]
  },
  {
   "cell_type": "code",
   "execution_count": 36,
   "metadata": {
    "collapsed": true
   },
   "outputs": [],
   "source": [
    "using PyPlot;\n",
    "plt = PyPlot;\n",
    "using SymPy;"
   ]
  },
  {
   "cell_type": "markdown",
   "metadata": {
    "collapsed": true
   },
   "source": [
    "__Ejercicio 1:__. Implementa el método de Euler en `Julia`. Debe ser de la forma `metodo_euler(f,x0,t0,tf,h)`. No olvide que no debe de utilizar `SymPy` de ningún modo en este ejercicio. Naturalmente la función `f` es de dos variables. El _output_ de la función debe ser `return listt,listx`. Otra forma quizá más inteligente de implementarlo es definir desde antes `listt`, y que los inputs del método sean de la forma: `metodo_euler(f,x0,listt)`, naturalmente en `listt` va el tiempo inicial $t_0$ y el paso $h$ que utilizará el método."
   ]
  },
  {
   "cell_type": "code",
   "execution_count": 37,
   "metadata": {
    "collapsed": false
   },
   "outputs": [
    {
     "data": {
      "text/plain": [
       "Metodo_Euler (generic function with 1 method)"
      ]
     },
     "execution_count": 37,
     "metadata": {},
     "output_type": "execute_result"
    }
   ],
   "source": [
    "## Definimos primero la función a utilizar\n",
    "\n",
    "function Metodo_Euler(f,x0,t0,tf,h)\n",
    "    x=x0\n",
    "    t=t0\n",
    "    ## Definimos las listas a utilizar \"listt\" y \"listx\", así como las funciones a las que están asociadas x,t\n",
    "    listt=[]\n",
    "    listx=[]\n",
    "    n = round((tf-t0)/h) ## Aplicamos la fórmula de Euler\n",
    "    for i in 1:n-1\n",
    "        x += h*f(x,t)\n",
    "        t += h\n",
    "        push!(listt,t) ## Limitamos los valores que se tomarán para no saturarse de resultados\n",
    "        push!(listx,x)\n",
    "    end\n",
    "    return listt, listx\n",
    "end"
   ]
  },
  {
   "cell_type": "markdown",
   "metadata": {
    "collapsed": true
   },
   "source": [
    "* Pruebe su nuevo método resolviendo la ecuación:\n",
    "$$\\frac{dx}{dt}=-\\alpha x, x(0)=1\\text{ y }2, \\text{ y } t\\in(0,8).$$\n",
    "con $\\alpha>0$, pruebenlo para $\\alpha=2.5$, $h=1.0,0.5,0.2,0.01$."
   ]
  },
  {
   "cell_type": "code",
   "execution_count": 38,
   "metadata": {
    "collapsed": true
   },
   "outputs": [],
   "source": [
    "## Definamos primero una función como se sugiere y evaluémosla en los distintos puntos de h para x(0)=1"
   ]
  },
  {
   "cell_type": "code",
   "execution_count": 39,
   "metadata": {
    "collapsed": false
   },
   "outputs": [
    {
     "data": {
      "text/plain": [
       "f (generic function with 2 methods)"
      ]
     },
     "execution_count": 39,
     "metadata": {},
     "output_type": "execute_result"
    }
   ],
   "source": [
    "f(x)=-2.5x ## Notemos que la derivada de la función no depende de la variable temporal, por eso la función es dependiente sólo de x"
   ]
  },
  {
   "cell_type": "code",
   "execution_count": 40,
   "metadata": {
    "collapsed": false
   },
   "outputs": [
    {
     "ename": "LoadError",
     "evalue": "\u001b[91mMethodError: no method matching f(::Int64, ::Int64)\u001b[0m\nClosest candidates are:\n  f(::Any, ::Any, \u001b[91m::Any\u001b[39m) at In[16]:2\n  f(::Any) at In[39]:1\u001b[39m",
     "output_type": "error",
     "traceback": [
      "\u001b[91mMethodError: no method matching f(::Int64, ::Int64)\u001b[0m\nClosest candidates are:\n  f(::Any, ::Any, \u001b[91m::Any\u001b[39m) at In[16]:2\n  f(::Any) at In[39]:1\u001b[39m",
      "",
      "Stacktrace:",
      " [1] \u001b[1mMetodo_Euler\u001b[22m\u001b[22m\u001b[1m(\u001b[22m\u001b[22m::#f, ::Int64, ::Int64, ::Int64, ::Int64\u001b[1m)\u001b[22m\u001b[22m at \u001b[1m./In[37]:11\u001b[22m\u001b[22m"
     ]
    }
   ],
   "source": [
    "ejemplo1=Metodo_Euler(f,1,0,8,1)"
   ]
  },
  {
   "cell_type": "code",
   "execution_count": 41,
   "metadata": {
    "collapsed": false
   },
   "outputs": [
    {
     "ename": "LoadError",
     "evalue": "\u001b[91mMethodError: no method matching f(::Int64, ::Int64)\u001b[0m\nClosest candidates are:\n  f(::Any, ::Any, \u001b[91m::Any\u001b[39m) at In[16]:2\n  f(::Any) at In[39]:1\u001b[39m",
     "output_type": "error",
     "traceback": [
      "\u001b[91mMethodError: no method matching f(::Int64, ::Int64)\u001b[0m\nClosest candidates are:\n  f(::Any, ::Any, \u001b[91m::Any\u001b[39m) at In[16]:2\n  f(::Any) at In[39]:1\u001b[39m",
      "",
      "Stacktrace:",
      " [1] \u001b[1mMetodo_Euler\u001b[22m\u001b[22m\u001b[1m(\u001b[22m\u001b[22m::#f, ::Int64, ::Int64, ::Int64, ::Float64\u001b[1m)\u001b[22m\u001b[22m at \u001b[1m./In[37]:11\u001b[22m\u001b[22m"
     ]
    }
   ],
   "source": [
    "ejemplo2=Metodo_Euler(f,1,0,8,0.5)"
   ]
  },
  {
   "cell_type": "code",
   "execution_count": 42,
   "metadata": {
    "collapsed": false
   },
   "outputs": [
    {
     "ename": "LoadError",
     "evalue": "\u001b[91mMethodError: no method matching f(::Int64, ::Int64)\u001b[0m\nClosest candidates are:\n  f(::Any, ::Any, \u001b[91m::Any\u001b[39m) at In[16]:2\n  f(::Any) at In[39]:1\u001b[39m",
     "output_type": "error",
     "traceback": [
      "\u001b[91mMethodError: no method matching f(::Int64, ::Int64)\u001b[0m\nClosest candidates are:\n  f(::Any, ::Any, \u001b[91m::Any\u001b[39m) at In[16]:2\n  f(::Any) at In[39]:1\u001b[39m",
      "",
      "Stacktrace:",
      " [1] \u001b[1mMetodo_Euler\u001b[22m\u001b[22m\u001b[1m(\u001b[22m\u001b[22m::#f, ::Int64, ::Int64, ::Int64, ::Float64\u001b[1m)\u001b[22m\u001b[22m at \u001b[1m./In[37]:11\u001b[22m\u001b[22m"
     ]
    }
   ],
   "source": [
    "ejemplo3=Metodo_Euler(f,1,0,8,0.2)"
   ]
  },
  {
   "cell_type": "code",
   "execution_count": 43,
   "metadata": {
    "collapsed": false
   },
   "outputs": [
    {
     "ename": "LoadError",
     "evalue": "\u001b[91mMethodError: no method matching f(::Int64, ::Int64)\u001b[0m\nClosest candidates are:\n  f(::Any, ::Any, \u001b[91m::Any\u001b[39m) at In[16]:2\n  f(::Any) at In[39]:1\u001b[39m",
     "output_type": "error",
     "traceback": [
      "\u001b[91mMethodError: no method matching f(::Int64, ::Int64)\u001b[0m\nClosest candidates are:\n  f(::Any, ::Any, \u001b[91m::Any\u001b[39m) at In[16]:2\n  f(::Any) at In[39]:1\u001b[39m",
      "",
      "Stacktrace:",
      " [1] \u001b[1mMetodo_Euler\u001b[22m\u001b[22m\u001b[1m(\u001b[22m\u001b[22m::#f, ::Int64, ::Int64, ::Int64, ::Float64\u001b[1m)\u001b[22m\u001b[22m at \u001b[1m./In[37]:11\u001b[22m\u001b[22m"
     ]
    }
   ],
   "source": [
    "ejemplo4=Metodo_Euler(f,1,0,8,0.01)"
   ]
  },
  {
   "cell_type": "markdown",
   "metadata": {},
   "source": [
    "* Gráfique la solución que obtuvo junto con la curva de la solución exacta, asegúrese de que los puntos de la solución aparezcán unidos en la gráfica para obtener una mejor perspectiva. Haga una gráfica para cada condición inicial, que incluya todos los diferentes pasos usados (excepto $h=1$, este gráfiquelo aparte para cada caso), la idea aquí es ver como nos aproximamos a la solución exacta conforme tomamos $h$'s más pequeños."
   ]
  },
  {
   "cell_type": "code",
   "execution_count": 44,
   "metadata": {
    "collapsed": false
   },
   "outputs": [
    {
     "ename": "LoadError",
     "evalue": "\u001b[91mUndefVarError: ejemplo1 not defined\u001b[39m",
     "output_type": "error",
     "traceback": [
      "\u001b[91mUndefVarError: ejemplo1 not defined\u001b[39m",
      ""
     ]
    }
   ],
   "source": [
    "## Graficamos los valores obtenidos para los distintos valores de h\n",
    "plot(ejemplo1[1],ejemplo1[2],label=\"h=1\")\n",
    "plot(ejemplo2[1],ejemplo2[2],label=\"h=0.5\")\n",
    "plot(ejemplo3[1],ejemplo3[2],label=\"h=0.2\")\n",
    "plot(ejemplo4[1],ejemplo4[2],label=\"h=0.01\")\n",
    "plot(t,exp.(-2.5*t),label=\"Solución real\")\n",
    "t=linspace(0,8,50) #Graficamos la solución exacta. Tomamos x(0)= 1.\n",
    "grid(\"on\")\n",
    "title(\"Aproximaciones a la solución usando el método de Euler\");\n"
   ]
  },
  {
   "cell_type": "code",
   "execution_count": 45,
   "metadata": {
    "collapsed": true
   },
   "outputs": [],
   "source": [
    "## Cambiemos el domino del resultado de la función para observar lo que sucede en el área de convergencia"
   ]
  },
  {
   "cell_type": "markdown",
   "metadata": {},
   "source": [
    "plot(ejemplo1[1],ejemplo1[2],label=\"h=1\")\n",
    "plot(ejemplo2[1],ejemplo2[2],label=\"h=0.5\")\n",
    "plot(ejemplo3[1],ejemplo3[2],label=\"h=0.2\")\n",
    "plot(ejemplo4[1],ejemplo4[2],label=\"h=0.01\")\n",
    "plot(t,exp.(-2.5*t),label=\"Solución real\")\n",
    "xlim=(-6,9)   ## Por alguna razón no se aplican los cambios a los límites de la gráfica\n",
    "ylim=(-1,1)\n",
    "t=linspace(0,8,50) #Graficamos la solución exacta. Tomamos x(0)= 1.\n",
    "grid(\"on\")\n",
    "title(\"Aproximaciones a la solución usando el método de Euler\")\n",
    "show();\n"
   ]
  },
  {
   "cell_type": "markdown",
   "metadata": {},
   "source": [
    "### Desacoplamiento de ecuaciones diferenciales de orden 2."
   ]
  },
  {
   "cell_type": "markdown",
   "metadata": {
    "collapsed": false
   },
   "source": [
    "__Ejercicio 2:__. ¿Qué sistema físico está modelado por $\\ddot{x} =\n",
    "-kx$?\n",
    "* Escriba la solución exacta en terminos de las condiciones iniciales $x(0)$ y $x'(0)$.\n",
    "\n",
    "A simple vista, uno podría pensar que para resolver este\n",
    "sistema uno debe desarrollar otro método para encontrar la\n",
    "solución a la ecuación diferencial del ejercicio pasado. Sin\n",
    "embargo, esto no es necesario."
   ]
  },
  {
   "cell_type": "markdown",
   "metadata": {
    "collapsed": true
   },
   "source": [
    "El sistéma físico que modela la ecuación $\\ddot{x}=-kx$ es el oscilador armónico simple, donde $k$ es una constante positiva.\n",
    "\n",
    "Dada la forma de la ecuación diferencial de $2^{do}$ orden, podemos proponer la solución de la forma:\n",
    "\n",
    "$$x(t)=Ae^{i\\sqrt{k}t}+Be^{-i\\sqrt{k}t}$$\n",
    "\n",
    "O bien, en términos de senos y cosenos:\n",
    "\n",
    "$$\\Rightarrow x(t) = Acos\\left(\\sqrt{k} t\\right) + Bsen\\left(\\sqrt{k} t\\right)$$"
   ]
  },
  {
   "cell_type": "markdown",
   "metadata": {
    "collapsed": true
   },
   "source": [
    "Ahora:\n",
    "$$ x'(0)=-A\\sqrt{k}sen\\left(\\sqrt{k}t \\right) + B\\sqrt{k}cos\\left(\\sqrt{k}t \\right) $$\n",
    "\n",
    "Aplicando las condiciones iniciales:\n",
    "\n",
    "$$ x(0)=A $$\n",
    "$$ x'(0)=\\sqrt{k}B $$"
   ]
  },
  {
   "cell_type": "markdown",
   "metadata": {},
   "source": [
    "\n",
    "$$ \\therefore \\quad x(t) = Acos\\left(\\sqrt{k} t\\right) + B\\sqrt{k}sen\\left(\\sqrt{k} t\\right) $$"
   ]
  },
  {
   "cell_type": "markdown",
   "metadata": {},
   "source": [
    "__Ejercicio 3:__. Haz $u = \\dot{x}(t)$ y calcula la derivada de\n",
    "$u$ ¿qué obtienes y como se relaciona con el sistema\n",
    "original?\n",
    "\n",
    "Si llevaste a cabo el ejercicio anterior, te darás cuenta\n",
    "que terminas con un sistema acoplado de ecuaciones\n",
    "diferenciales:\n",
    "\n",
    "$$\n",
    "\\dot{u} = -kx, \\dot{x} = u,\n",
    "$$\n",
    "\n",
    "Con este sistema acoplado puedes utilizar el método de\n",
    "Euler en su forma vectorial:\n",
    "$$\\frac{d\\vec x}{dt}=\\vec f(\\vec x,t),$$\n",
    "donde $\\vec x=(x,u)$, y para este caso es facil ver que $\\vec f(\\vec x,t)=(u,-kx).$"
   ]
  },
  {
   "cell_type": "markdown",
   "metadata": {
    "collapsed": true
   },
   "source": [
    "Si $u = x'(t)$ $\\rightarrow$ $u'(t) = x''(t) + k_2$. Donde $k$ es una constante\n",
    "Lo cual nos indica que la ecuación original debe cumplir:\n",
    "\n",
    "\n",
    "* $u(t) = x'(t)$\n",
    "* $u'(t) = -kx(t) + k_2$\n"
   ]
  },
  {
   "cell_type": "markdown",
   "metadata": {},
   "source": [
    "__Ejercicio 4:__. Obten la solución del sistema $\\ddot{x} = -kx(t)$\n",
    "utilizando lo escrito arriba y el método de Euler.\n",
    "\n",
    "* Para utilizar el método de Euler, impleméntelo para sistemas de más de una dimensión."
   ]
  },
  {
   "cell_type": "code",
   "execution_count": 46,
   "metadata": {
    "collapsed": false
   },
   "outputs": [
    {
     "data": {
      "text/plain": [
       "Metodo_Euler2 (generic function with 1 method)"
      ]
     },
     "execution_count": 46,
     "metadata": {},
     "output_type": "execute_result"
    }
   ],
   "source": [
    "## Definamos ahora la función considerando una nueva lista \"listu\"\n",
    "\n",
    "function Metodo_Euler2(f,x0,u0,listt)\n",
    "    n = length(listt)   \n",
    "    listx = zeros(n)            \n",
    "    listu = zeros(n)             \n",
    "    listx[1] = x0                \n",
    "    \n",
    "    listu[1] = u0                \n",
    "    h = (listt[n]-listt[1])/n   \n",
    "    for i in 1:n-1\n",
    "        listx[i+1] = listx[i] + h*listu[i]                       \n",
    "        listu[i+1] = listu[i] + h*f(listx[i],listu[i],listt[i])  \n",
    "    end\n",
    "    return listx\n",
    "end"
   ]
  },
  {
   "cell_type": "code",
   "execution_count": 47,
   "metadata": {
    "collapsed": false
   },
   "outputs": [
    {
     "data": {
      "text/plain": [
       "g (generic function with 2 methods)"
      ]
     },
     "execution_count": 47,
     "metadata": {},
     "output_type": "execute_result"
    }
   ],
   "source": [
    "## Usando la forma para la ecuación diferencial de segundo orden definimos la siguiente función\n",
    "g(x)=-9x"
   ]
  },
  {
   "cell_type": "code",
   "execution_count": 48,
   "metadata": {
    "collapsed": false
   },
   "outputs": [],
   "source": [
    "listt_1=0:1:2pi;\n",
    "listt_2=0:0.5:2pi;\n",
    "listt_3=0:0.2:2pi;\n",
    "listt_4=0:0.01:2pi;"
   ]
  },
  {
   "cell_type": "code",
   "execution_count": 49,
   "metadata": {
    "collapsed": false
   },
   "outputs": [
    {
     "data": {
      "text/plain": [
       "629-element Array{Float64,1}:\n",
       "  3.0    \n",
       "  3.04992\n",
       "  3.09909\n",
       "  3.14751\n",
       "  3.19515\n",
       "  3.242  \n",
       "  3.28806\n",
       "  3.33331\n",
       "  3.37775\n",
       "  3.42135\n",
       "  3.46411\n",
       "  3.50602\n",
       "  3.54706\n",
       "  ⋮      \n",
       " -4.13725\n",
       " -4.1727 \n",
       " -4.20711\n",
       " -4.24048\n",
       " -4.2728 \n",
       " -4.30407\n",
       " -4.33427\n",
       " -4.3634 \n",
       " -4.39145\n",
       " -4.41841\n",
       " -4.44428\n",
       " -4.46904"
      ]
     },
     "execution_count": 49,
     "metadata": {},
     "output_type": "execute_result"
    }
   ],
   "source": [
    "E1=Metodo_Euler2(g,3,5,listt_1)\n",
    "E2=Metodo_Euler2(g,3,5,listt_2)\n",
    "E3=Metodo_Euler2(g,3,5,listt_3)\n",
    "E4=Metodo_Euler2(g,3,5,listt_4)"
   ]
  },
  {
   "cell_type": "code",
   "execution_count": 50,
   "metadata": {
    "collapsed": false
   },
   "outputs": [
    {
     "data": {
      "text/plain": [
       "solg (generic function with 1 method)"
      ]
     },
     "execution_count": 50,
     "metadata": {},
     "output_type": "execute_result"
    }
   ],
   "source": [
    "## Consideremos ahora la solución a la ecuación del oscilador considerando condiciones de Dirichlet y Neumann k=9 x(0)=5 y x'(0)=10\n",
    "solg(t)=5*cos(3t)+(9/10)*sin(3t)"
   ]
  },
  {
   "cell_type": "code",
   "execution_count": 57,
   "metadata": {
    "collapsed": false
   },
   "outputs": [
    {
     "data": {
      "image/png": "[encoded data removed]",
      "text/plain": [
       "PyPlot.Figure(PyObject <matplotlib.figure.Figure object at 0x7f802953f250>)"
      ]
     },
     "metadata": {},
     "output_type": "display_data"
    },
    {
     "name": "stderr",
     "output_type": "stream",
     "text": [
      "\u001b[1m\u001b[33mWARNING: \u001b[39m\u001b[22m\u001b[33mcos{T <: Number}(x::AbstractArray{T}) is deprecated, use cos.(x) instead.\u001b[39m\n",
      "Stacktrace:\n",
      " [1] \u001b[1mdepwarn\u001b[22m\u001b[22m\u001b[1m(\u001b[22m\u001b[22m::String, ::Symbol\u001b[1m)\u001b[22m\u001b[22m at \u001b[1m./deprecated.jl:70\u001b[22m\u001b[22m\n",
      " [2] \u001b[1mcos\u001b[22m\u001b[22m\u001b[1m(\u001b[22m\u001b[22m::StepRangeLen{Float64,Base.TwicePrecision{Float64},Base.TwicePrecision{Float64}}\u001b[1m)\u001b[22m\u001b[22m at \u001b[1m./deprecated.jl:57\u001b[22m\u001b[22m\n",
      " [3] \u001b[1msolg\u001b[22m\u001b[22m\u001b[1m(\u001b[22m\u001b[22m::StepRangeLen{Float64,Base.TwicePrecision{Float64},Base.TwicePrecision{Float64}}\u001b[1m)\u001b[22m\u001b[22m at \u001b[1m./In[50]:2\u001b[22m\u001b[22m\n",
      " [4] \u001b[1minclude_string\u001b[22m\u001b[22m\u001b[1m(\u001b[22m\u001b[22m::String, ::String\u001b[1m)\u001b[22m\u001b[22m at \u001b[1m./loading.jl:515\u001b[22m\u001b[22m\n",
      " [5] \u001b[1mexecute_request\u001b[22m\u001b[22m\u001b[1m(\u001b[22m\u001b[22m::ZMQ.Socket, ::IJulia.Msg\u001b[1m)\u001b[22m\u001b[22m at \u001b[1m/opt/julia_packages/.julia/v0.6/IJulia/src/execute_request.jl:160\u001b[22m\u001b[22m\n",
      " [6] \u001b[1meventloop\u001b[22m\u001b[22m\u001b[1m(\u001b[22m\u001b[22m::ZMQ.Socket\u001b[1m)\u001b[22m\u001b[22m at \u001b[1m/opt/julia_packages/.julia/v0.6/IJulia/src/eventloop.jl:8\u001b[22m\u001b[22m\n",
      " [7] \u001b[1m(::IJulia.##11#14)\u001b[22m\u001b[22m\u001b[1m(\u001b[22m\u001b[22m\u001b[1m)\u001b[22m\u001b[22m at \u001b[1m./task.jl:335\u001b[22m\u001b[22m\n",
      "while loading In[57], in expression starting on line 12\n"
     ]
    }
   ],
   "source": [
    "## Hagamos una comparación de las soluciones dadas distintas aproximaciones de h\n",
    "\n",
    "scatter(listt_1,E1,label=L\"Método de Euler $h=0.5$\");\n",
    "plot(listt_1,E1);\n",
    "scatter(listt_2,E2,label=L\"Método de Euler $h=0.2$\");\n",
    "plot(listt_2,E2);\n",
    "scatter(listt_3,E3,label=L\"Método de Euler $h=0.1$\");\n",
    "plot(listt_3,E3);\n",
    "scatter(listt_4,E4,label=L\"Método de Euler $h=0.01$\");\n",
    "plot(listt_4,E4);\n",
    "t = linspace(0,2pi,100);\n",
    "plot(t,solg(t),label=L\"Solución a la función g $x(0)=5$ y $x'(0)=10$\");\n",
    "\n",
    "legend();\n",
    "grid(\"on\")\n",
    "show();"
   ]
  },
  {
   "cell_type": "markdown",
   "metadata": {},
   "source": [
    "__Ejercicio 5:__ Aplicar el método de Euler para resolver la ecuación:\n",
    "$$\\frac{dx}{dt}=\\frac{2x-18 t}{1+t}.$$\n",
    "Compare su respuesta con la solución exacta: $4+8t-5t^2$"
   ]
  },
  {
   "cell_type": "markdown",
   "metadata": {
    "collapsed": true
   },
   "source": []
  },
  {
   "cell_type": "code",
   "execution_count": null,
   "metadata": {
    "collapsed": true
   },
   "outputs": [],
   "source": []
  }
 ],
 "metadata": {
  "kernelspec": {
   "display_name": "Julia 0.6.0",
   "language": "julia",
   "name": "julia-0.6"
  },
  "language_info": {
   "file_extension": ".jl",
   "mimetype": "application/julia",
   "name": "julia",
   "version": "0.6.0"
  }
 },
 "nbformat": 4,
 "nbformat_minor": 2
}
