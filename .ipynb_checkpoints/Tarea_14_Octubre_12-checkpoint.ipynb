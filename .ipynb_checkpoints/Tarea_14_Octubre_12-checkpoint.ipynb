{
 "cells": [
  {
   "cell_type": "markdown",
   "metadata": {},
   "source": [
    "__Ejercicio 1:__ Resolver con Runge-Kutta orden 4 el sistema:\n",
    "\\begin{align*}\n",
    "\\dot x &= y-y^3\\\\\n",
    "\\dot y &= -x -y^2\n",
    "\\end{align*}\n",
    "* Grafiquen muchas trayectorias en el espacio de fase, utilizando condiciones iniciales aleatorias.\n",
    "* Calculen el Jacobiano de $\\vec F=\\left(y-y^3,-x-y^2 \\right)^{\\text{T}}$ y evaluenlo en $\\vec 0$, el cual es un punto fijo.\n",
    "Calculen $\\Delta$ y $\\tau$ e indiquen que tipo de punto fijo es el $\\vec 0$."
   ]
  },
  {
   "cell_type": "code",
   "execution_count": null,
   "metadata": {},
   "outputs": [],
   "source": []
  },
  {
   "cell_type": "code",
   "execution_count": null,
   "metadata": {},
   "outputs": [],
   "source": []
  },
  {
   "cell_type": "code",
   "execution_count": null,
   "metadata": {},
   "outputs": [],
   "source": []
  },
  {
   "cell_type": "markdown",
   "metadata": {},
   "source": [
    "__Ejercicio 2:__ Resolver usando Runge-Kutta orden 4 para resolver el oscilador de van der Pol:\n",
    "$${d^2x \\over dt^2}-\\mu(1-x^2){dx \\over dt}+x= 0$$\n",
    "* Graficar muchas trayectorias, construidas a partir de condiciones iniciales aleatorias, en el espacio de fase. Observa alguna estructura en particular?"
   ]
  },
  {
   "cell_type": "code",
   "execution_count": null,
   "metadata": {},
   "outputs": [],
   "source": []
  },
  {
   "cell_type": "code",
   "execution_count": null,
   "metadata": {},
   "outputs": [],
   "source": []
  },
  {
   "cell_type": "code",
   "execution_count": null,
   "metadata": {},
   "outputs": [],
   "source": []
  },
  {
   "cell_type": "code",
   "execution_count": null,
   "metadata": {},
   "outputs": [],
   "source": []
  }
 ],
 "metadata": {
  "kernelspec": {
   "display_name": "Julia 0.5.2",
   "language": "julia",
   "name": "julia-0.5"
  },
  "language_info": {
   "file_extension": ".jl",
   "mimetype": "application/julia",
   "name": "julia",
   "version": "0.5.2"
  }
 },
 "nbformat": 4,
 "nbformat_minor": 2
}
