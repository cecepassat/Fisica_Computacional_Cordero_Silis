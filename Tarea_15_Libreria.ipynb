{
 "cells": [
  {
   "cell_type": "code",
   "execution_count": 1,
   "metadata": {},
   "outputs": [
    {
     "data": {
      "text/plain": [
       "3-element Array{Any,1}:\n",
       " \"/opt/julia-0.7.0-dev/local/share/julia/site/v0.7\"\n",
       " \"/opt/julia-0.7.0-dev/share/julia/site/v0.7\"      \n",
       " \"/opt/julia_packages/.julia/v0.7/\"                "
      ]
     },
     "execution_count": 1,
     "metadata": {},
     "output_type": "execute_result"
    }
   ],
   "source": [
    "## Esto pues al usar el comando \"import\", se busca por default en los directorios \"LOAD_PATH\"\n",
    "## agregando después la carpeta donde se buscarán (algo así como el camino de búsqueda)\n",
    "LOAD_PATH"
   ]
  },
  {
   "cell_type": "code",
   "execution_count": 2,
   "metadata": {},
   "outputs": [
    {
     "data": {
      "text/plain": [
       "4-element Array{Any,1}:\n",
       " \"/opt/julia-0.7.0-dev/local/share/julia/site/v0.7\"\n",
       " \"/opt/julia-0.7.0-dev/share/julia/site/v0.7\"      \n",
       " \"/opt/julia_packages/.julia/v0.7/\"                \n",
       " \"/home/juser/Fisica_Computacional_Cordero_Silis/\" "
      ]
     },
     "execution_count": 2,
     "metadata": {},
     "output_type": "execute_result"
    }
   ],
   "source": [
    "## Usamos push!() para agregar el camino hacia la carpeta donde estará la librería\n",
    "push!(LOAD_PATH, \"/home/juser/Fisica_Computacional_Cordero_Silis/\")"
   ]
  },
  {
   "cell_type": "code",
   "execution_count": 3,
   "metadata": {},
   "outputs": [
    {
     "ename": "LoadError",
     "evalue": "\u001b[91mArgumentError: Module herramientas not found in current path.\nRun `Pkg.add(\"herramientas\")` to install the herramientas package.\u001b[39m",
     "output_type": "error",
     "traceback": [
      "\u001b[91mArgumentError: Module herramientas not found in current path.\nRun `Pkg.add(\"herramientas\")` to install the herramientas package.\u001b[39m",
      "",
      "Stacktrace:",
      " [1] \u001b[1m_require\u001b[22m\u001b[22m\u001b[1m(\u001b[22m\u001b[22m::Symbol\u001b[1m)\u001b[22m\u001b[22m at \u001b[1m./loading.jl:359\u001b[22m\u001b[22m",
      " [2] \u001b[1mrequire\u001b[22m\u001b[22m\u001b[1m(\u001b[22m\u001b[22m::Symbol\u001b[1m)\u001b[22m\u001b[22m at \u001b[1m./loading.jl:318\u001b[22m\u001b[22m"
     ]
    }
   ],
   "source": [
    "## Ahora si llamamos al módulo\n",
    "import herramientas"
   ]
  },
  {
   "cell_type": "code",
   "execution_count": null,
   "metadata": {},
   "outputs": [],
   "source": []
  }
 ],
 "metadata": {
  "kernelspec": {
   "display_name": "Julia 0.7.0-DEV",
   "language": "julia",
   "name": "julia-0.7"
  },
  "language_info": {
   "file_extension": ".jl",
   "mimetype": "application/julia",
   "name": "julia",
   "version": "0.7.0"
  }
 },
 "nbformat": 4,
 "nbformat_minor": 2
}
