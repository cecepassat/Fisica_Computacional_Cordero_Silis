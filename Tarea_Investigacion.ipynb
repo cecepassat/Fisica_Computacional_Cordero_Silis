{
 "cells": [
  {
   "cell_type": "markdown",
   "metadata": {},
   "source": [
    "### Método de Integración de Riemman"
   ]
  },
  {
   "cell_type": "markdown",
   "metadata": {},
   "source": [
    "En el método de integración de Riemman se utiliza la $Suma$ $de$ $Riemman$, en el cual se definen rectángulos de manera finita dentro de determinada región, calculando el área de cada uno de ellos para después sumar el área total y por lo tanto la d la región inicial.\n",
    "Es necesario mencionar que, a pesar de ser un método sencillo de desarrollar computacionalmente hablando, suele tener errores considerables al sumar sobre todas las áreas."
   ]
  },
  {
   "cell_type": "markdown",
   "metadata": {},
   "source": [
    "Para definir la integral de Riemman consideremos lo siguiente:\n",
    "\n",
    "- Sea $f$ una función tal que $f(A)\\rightarrow (B)$ con A un subconjunto de B.\n",
    "- Sea $I=[a,b]$ un  intervalo cerrando tal que I es subconjunto de A.\n",
    "- Considerando un conjunto finito de puntos $ \\{x_0, x_1, x_2, ...x_n\\} $ tales que $ a=x_0 < x_1 < x_2 < ... < x_n = b $ tal que crean una particion de l: $ P = \\{[x_0, x_1], [x_1, x_2], ...[x_{n-1}, x_n]\\} $"
   ]
  },
  {
   "cell_type": "markdown",
   "metadata": {},
   "source": [
    "Entonces, si $P$ es una partición de $n$ elementos del intervalo $I$, la $Suma$ $de$ $Riemman$ de $f$ sobre $I$ dada esa partición se define como:"
   ]
  },
  {
   "cell_type": "markdown",
   "metadata": {},
   "source": [
    "$$ S=\\sum _{i=0} ^n f(y_i)(x_i-x_{i-1}) $$"
   ]
  },
  {
   "cell_type": "markdown",
   "metadata": {},
   "source": [
    "Llamamos a $S$:\n",
    "** Suma Inferior ** si $y_i=x_{i-1}$ $\\forall$ $i$\n",
    "\n",
    "O ** Suma Superior ** si $y_i=x_{j}$."
   ]
  },
  {
   "cell_type": "markdown",
   "metadata": {},
   "source": [
    "### Suma Trapezoidal"
   ]
  },
  {
   "cell_type": "markdown",
   "metadata": {},
   "source": [
    "Para este método se considera el valor de una función $f$ en un intervalo y como este se aproxima por el promedio de los valores de las fronteras o extremos izquierdo y derecho.\n",
    "\n",
    "Se considera el área del Trapecio como sigue:\n",
    "\n",
    "$$ A=\\frac{1}{2}h(b_1+b_2) $$"
   ]
  },
  {
   "cell_type": "markdown",
   "metadata": {},
   "source": [
    "Considerando un trapecio con lados paralelos $b_1,b_2$ y altura $h$ llegamos a la siguiente expresión:"
   ]
  },
  {
   "cell_type": "markdown",
   "metadata": {},
   "source": [
    "$$ \\frac{1}{2}Q[f(a)+2f(a+Q)+2f(a+2q)+2f(a+3Q)...+f(b)] $$\n",
    "\n",
    "Cuyo error es:\n",
    "\n",
    "$$ | \\int _a ^b f(x) dx - A_{trapezoidal} \\quad | \\leq \\frac{N_2(b-a)^3}{12n^2}$$"
   ]
  },
  {
   "cell_type": "markdown",
   "metadata": {},
   "source": [
    "Con $N_2$ el valor máximo permitido para el valor absoluto de $f''(x)$"
   ]
  },
  {
   "cell_type": "markdown",
   "metadata": {},
   "source": [
    "### Regla de Simpson"
   ]
  },
  {
   "cell_type": "markdown",
   "metadata": {},
   "source": [
    "La _ Regla de Simpson _ es una forma de aproximar una integral definida mediante la regla del trapecio antes descrita.\n",
    "Para cada subintervalo donde este definida la integral se aproxima la función $f$ por un polinomio de primer grado y, al ser la integral como una suma continua, se suman las áreas de los trapecios formados por esos subintervalos.\n",
    "El método de Simpson, a diferencia del anterior usa polinomios de segundo grado."
   ]
  },
  {
   "cell_type": "markdown",
   "metadata": {},
   "source": [
    "La integral se defina como:\n",
    "\n",
    "$$ \\int _a ^b f(x) dz= \\frac{b-a}{6}[f(a)+4f(\\frac{a+b}{2}+f(b)]$$"
   ]
  },
  {
   "cell_type": "markdown",
   "metadata": {},
   "source": [
    "El error asociado a esta expresión es:\n",
    "\n",
    "$$ E(f) = - \\frac{h^5}{90}f^{(4)}( \\epsilon ) $$"
   ]
  },
  {
   "cell_type": "code",
   "execution_count": null,
   "metadata": {
    "collapsed": true
   },
   "outputs": [],
   "source": []
  }
 ],
 "metadata": {
  "kernelspec": {
   "display_name": "Julia 0.6.0",
   "language": "julia",
   "name": "julia-0.6"
  },
  "language_info": {
   "file_extension": ".jl",
   "mimetype": "application/julia",
   "name": "julia",
   "version": "0.6.0"
  }
 },
 "nbformat": 4,
 "nbformat_minor": 2
}
