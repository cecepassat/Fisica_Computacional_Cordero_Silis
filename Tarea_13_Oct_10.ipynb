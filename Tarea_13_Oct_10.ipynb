{
 "cells": [
  {
   "cell_type": "markdown",
   "metadata": {},
   "source": [
    "__Ejercicio 1:__ Resolver oscilador amortiguado:\n",
    "$$m \\ddot x=-k x -b \\dot x,$$\n",
    "usando $m=k=b=1$ y $x_0=1$, $\\dot x_0=0$.\n",
    "Usen Euler Y Runge-Kutta orden 4, comparen las soluciones, es decir, grafiquen el espacio de fase para cada método y despues juntos.\n",
    "__Nota:__ El método de Runge-Kutta esta dentro de la familia de métodos simplécticos, es decir, preserva el volumen en el espacio de fase, algo particularmente útil cuanto tenemos sistemas que conservan la energia, a diferencia de _Euler_ que no lo hace. Observen que al no haber cantidades conservadas para el oscilador amortiguado, Euler funcione mucho mejor que en el otro caso, pues el oscilador amortiguado no conserva el volumen del espacio de fase."
   ]
  },
  {
   "cell_type": "code",
   "execution_count": null,
   "metadata": {},
   "outputs": [],
   "source": [
    "## Definamos la función del oscilador amortiguado a resolver\n",
    "\n",
    "f(x,t)=[x[2],-x[1]-x[2]]"
   ]
  },
  {
   "cell_type": "code",
   "execution_count": null,
   "metadata": {},
   "outputs": [],
   "source": [
    "## Definamos también la lista de espacio temporal sobre la cual las funciones actuarán\n",
    "\n",
    "listatemp=0:0.1:100"
   ]
  },
  {
   "cell_type": "code",
   "execution_count": null,
   "metadata": {},
   "outputs": [],
   "source": [
    "## Definamos el método de Euler como lo hicimos en la tarea anterior para funciones de cualquier dimensión.\n",
    "\n",
    "function Metodo_Euler(f,listt,inicial)\n",
    "    \n",
    "    h=listt[2]-listt[1]     ## La distancia entre los primeros dos elementos de la lista\n",
    "    x=inicial\n",
    "    listx=[]     ## Para guardar los resultados (puntos) de la solución\n",
    "\n",
    "    push!(listx,x)     ## Tomamos el valor inicial y lo ponemos en la lista \"listx\"\n",
    "\n",
    "    for i in 1:length(listt)-1     ## Aplicamos la relación de recurrencia\n",
    "        x = x + f(x,listt[i])*h\n",
    "        push!(listx,x)     ## Para cada iteración guardamos el punto obtenido en listx (sin repetirlos)\n",
    "    end\n",
    "    return listx\n",
    "end"
   ]
  },
  {
   "cell_type": "code",
   "execution_count": null,
   "metadata": {},
   "outputs": [],
   "source": [
    "## Definimos ahora el método de Runge-Kutta de orden 4 para funciones de cualquier dimensión.\n",
    "\n",
    "function RK_4(f,listt,inicial)\n",
    "    \n",
    "    h=listt[2]-listt[1]\n",
    "    x=inicial\n",
    "    listx=[]\n",
    "    push!(listx,x)\n",
    "\n",
    "    for i in 1:length(listt)-1     ## Aplicamos la relación de recurrencia para el método de 4 orden con 4 iteraciones (como en la tarea pasada)\n",
    "        it1=f(x,listt[i])\n",
    "        it2=f(x+(h/2)*it1,listt[i]+h/2)\n",
    "        it3=f(x+(h/2)*it2,listt[i]+h/2)\n",
    "        it4=f(x+h*it3,listt[i+1])\n",
    "        \n",
    "        x=x+(h/6)*(it1+2*it2+2*it3+it4)\n",
    "        push!(listx,x)     ## Guardamos cada valor obtenido en la lista \"listx\"\n",
    "    end\n",
    "   \n",
    "   return listx\n",
    "end"
   ]
  },
  {
   "cell_type": "code",
   "execution_count": null,
   "metadata": {},
   "outputs": [],
   "source": [
    "## Definimos nuestras funciones soluciones en términos de los métodos de Euler y Runge-Kutta de orden 4\n",
    "\n",
    "Sol_Euler_x= map(x->x[1],Metodo_Euler(f,timelist,[1,0]))\n",
    "Sol_Euler_p= map(x->x[2],Metodo_Euler(f,timelist,[1,0]))\n",
    "\n",
    "Sol_RK_4x=map(x->x[1],RK_4(f,timelist,[1,0]))\n",
    "Sol_RK_4p=map(x->x[2],RK_4(f,timelist,[1,0]))"
   ]
  },
  {
   "cell_type": "code",
   "execution_count": null,
   "metadata": {},
   "outputs": [],
   "source": [
    "## Grafiquemos la solución\n",
    "\n",
    "using PyPlot"
   ]
  },
  {
   "cell_type": "code",
   "execution_count": null,
   "metadata": {},
   "outputs": [],
   "source": [
    "plot(Sol_Euler_x,Sol_Euler_p,label=\"Método de Euler\")\n",
    "plot(Sol_RK_4x,Sol_RK_4p,label=\"Método de Runge-Kutta de orden 4\")\n",
    "\n",
    "title(\"Espacio fase del oscilador amortiguado\")\n",
    "grid(\"on\")\n",
    "legend()\n",
    "xlabel(\"x\")\n",
    "ylabel(\"p\")\n",
    "show();"
   ]
  },
  {
   "cell_type": "markdown",
   "metadata": {},
   "source": [
    "__Ejercicio 2:__ Resolver el péndulo simple:\n",
    "$$l \\ddot\\theta=-g \\sin(\\theta),$$\n",
    "usando Runge-Kutta orden 4. Gráficar muchas condiciones iniciales (lo mas facil es que sean aleatorias) en el espacio de fase usando $l=g=1$. Ajuste el rango de la gráfica para que se centre cerca del cero para que se puedan observar los dos tipos de movimiento presentes. Coménte e interprete las soluciones."
   ]
  },
  {
   "cell_type": "code",
   "execution_count": null,
   "metadata": {},
   "outputs": [],
   "source": [
    "## Definimos primero la función a resolver tomando l=g=1\n",
    "\n",
    "F(z,t)=[z[2],-sin(z[1])]"
   ]
  },
  {
   "cell_type": "markdown",
   "metadata": {},
   "source": [
    "Esta función se define de esta forma pues, ya que $l=g=1$ \\rightarrow  $\\ddot\\theta=-\\sin(\\theta)$\n",
    "\n",
    "Tomando $\\varphi$ la velocidad de $\\theta$, entonces $\\dot\\theta=\\varphi$, por lo que tenemos:\n",
    "\n",
    "$$\\dot{\\theta}= \\binom{\\mathcal{\\phi}}{\\dot{\\phi}} = -sin(\\theta) $$\n",
    "$\\Longrightarrow$\n",
    "$$\\frac{d\\bar{\\theta}}{dt}=  F(\\theta,\\phi) = \\binom{\\mathcal{\\phi}}{-sin(\\theta)} = \\binom{{x[2]}}{-sin(x[1])}$$ "
   ]
  },
  {
   "cell_type": "code",
   "execution_count": null,
   "metadata": {},
   "outputs": [],
   "source": [
    "## Consideremos las siguientes condiciones:\n",
    "\n",
    "listatemp=0:0.1:100\n",
    "n=1000;"
   ]
  },
  {
   "cell_type": "code",
   "execution_count": null,
   "metadata": {},
   "outputs": [],
   "source": [
    "## Grafiquemos  ###################Checar la definición de funciones\n",
    "\n",
    "for i in 1:n\n",
    "    F_0=(rand(2)-rand(2))*20\n",
    "   R2i=RK_4(F,timelist,.001)\n",
    "    plot(map(F->F[1],R2i[2]),map(F->F[2],R2i[2]))\n",
    "end\n",
    "gca()[:set_xlim]((-3,3))\n",
    "gca()[:set_ylim]((-3,3))\n",
    "title(\"Diagrama fase\")\n",
    "legend()\n",
    "grid(\"on\")\n",
    "show()"
   ]
  },
  {
   "cell_type": "code",
   "execution_count": null,
   "metadata": {},
   "outputs": [],
   "source": [
    "## Hagamos un \"zoom\"\n",
    "\n",
    "## Grafiquemos  ###################Checar la definición de funciones\n",
    "\n",
    "for i in 1:n\n",
    "    F_0=(rand(2)-rand(2))*20\n",
    "   R2i=RK_4(F,timelist,.001)\n",
    "    plot(map(F->F[1],R2i[2]),map(F->F[2],R2i[2]))\n",
    "end\n",
    "gca()[:set_xlim]((-1,1))\n",
    "gca()[:set_ylim]((-1,1))\n",
    "title(\"Diagrama fase\")\n",
    "legend()\n",
    "grid(\"on\")\n",
    "show()"
   ]
  },
  {
   "cell_type": "code",
   "execution_count": null,
   "metadata": {},
   "outputs": [],
   "source": [
    "#### AQUI SE HARÁN LAS OBSERVACIONES"
   ]
  },
  {
   "cell_type": "markdown",
   "metadata": {},
   "source": [
    "__Ejercicio 3:__ Comprobar numéricamente (con Runge-Kutta orden $4$) que en el sistema:\n",
    "$$\\frac{dx}{dt}=x^2-1,$$\n",
    "hay dos _puntos fijos_, ubicados en $1$ y $-1$, compruebe además que el $1$ es un _repulsor_ y el $-1$ un _atractor_. Para hacer esto necesitará graficar muchas condiciones iniciales, generelas aleatoriamente y gráfiquelas en el espacio $(x(t),t)$."
   ]
  },
  {
   "cell_type": "code",
   "execution_count": null,
   "metadata": {},
   "outputs": [],
   "source": [
    "## Definamos primero la función\n",
    "f(x,t)=x^2-1"
   ]
  },
  {
   "cell_type": "code",
   "execution_count": null,
   "metadata": {},
   "outputs": [],
   "source": [
    "## Definimos también una lista de variables temporales\n",
    "tiempo=0:0.01:1"
   ]
  },
  {
   "cell_type": "markdown",
   "metadata": {},
   "source": [
    "## Resolvamos para condiciones iniciales distintas\n",
    "for i in 1:100\n",
    "    inicial=3*(2*rand()-1)\n",
    "    Sol=RK_4(f,tiempo,inicial)\n",
    "    plot(tiempo,Sol)\n",
    "end\n",
    "\n",
    "plot([0,1],[1,1],linestyle=\"--\",linewidth=2.0,color=\"k\")\n",
    "plot([0,1],[-1,-1],linestyle=\"--\",linewidth=2.0,color=\"k\")\n",
    "\n",
    "axes()[:set_xlim]([0,2])\n",
    "axes()[:set_ylim]([-2,2]);\n",
    "\n",
    "##### Checar definicion del metodo"
   ]
  },
  {
   "cell_type": "code",
   "execution_count": null,
   "metadata": {},
   "outputs": [],
   "source": []
  },
  {
   "cell_type": "markdown",
   "metadata": {},
   "source": [
    "__Ejercicio 4:__ También con Runge-Kutta orden $4, $Resuelva numéricamente el sistema:\n",
    "$$\\frac{dx}{dt}=x^2,$$\n",
    "cual es el punto fijo único?, es un _atractor_ o un _repulsor_?. Utilice de igual forma muchas condiciones iniciales y gráfiquelas en el mismo espacio que en el ejercicio anterior."
   ]
  },
  {
   "cell_type": "code",
   "execution_count": null,
   "metadata": {},
   "outputs": [],
   "source": []
  },
  {
   "cell_type": "code",
   "execution_count": null,
   "metadata": {},
   "outputs": [],
   "source": []
  },
  {
   "cell_type": "code",
   "execution_count": null,
   "metadata": {},
   "outputs": [],
   "source": []
  },
  {
   "cell_type": "code",
   "execution_count": null,
   "metadata": {},
   "outputs": [],
   "source": []
  },
  {
   "cell_type": "markdown",
   "metadata": {},
   "source": [
    "__Ejercicio 5:__ Resolver con Runge-Kutta orden $4$ el sistema de ecuaciones:\n",
    "$$\\frac{d\\vec x}{dt}=\\left(\\begin{array}{cc} a & b \\\\ c & d \\end{array}\\right)\\vec x,$$\n",
    "donde $\\vec x= \\left(x(t),y(t)\\right)^{\\text{T}}.$\n",
    "Grafique los espacios de fase tomando muchas condiciones iniciales aleatorias y fijando los rangos de los ejes alrededor del origen, de tal forma que se aprecie el compotamiento de las soluciones. Haga esto para los sistemas con:\n",
    "* $a=c=1$, $b=d=0$\n",
    "* $a=c=-1$, $b=d=0$\n",
    "* $a=1$, $b=-2$, $c=d=0$\n",
    "* $a=1$, $b=-0.5$, $c=d=0$\n",
    "* $a=d=0$, $b=-c=1$\n",
    "* $a=d=1$, $b=-c=1$\n",
    "* $a=d=-1$, $b=-c=1$\n",
    "* $a=d=-1$, $b=-c=-1$\n",
    "* $a=b=1$, $b=4,c=-2$\n",
    "* $a=b=d=-1$, $c=0$"
   ]
  },
  {
   "cell_type": "code",
   "execution_count": null,
   "metadata": {},
   "outputs": [],
   "source": []
  }
 ],
 "metadata": {
  "kernelspec": {
   "display_name": "Julia 0.6.0",
   "language": "julia",
   "name": "julia-0.6"
  }
 },
 "nbformat": 4,
 "nbformat_minor": 2
}
