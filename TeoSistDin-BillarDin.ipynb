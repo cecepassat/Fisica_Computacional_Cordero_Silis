{
 "cells": [
  {
   "cell_type": "markdown",
   "metadata": {},
   "source": [
    "##Sistemas Dinámicos\n",
    "\n",
    "En matemáticas, un **sistema dinámico** es un sistema en el cual una función describe la dependencia temporal de un punto en un espacio geométrico, por ejemplo, el péndulo, el flujo de agua en una tuberia, el número de peces cada primavera en un lago, entre otros.\n",
    "\n",
    "Para cada momento del tiempo, un sistema dinámico tiene un estado determinado por un vector, el cual puede representarse por un punto en un espacio de estados apropiado (una variedad geométrica).\n",
    "\n",
    "La **regla de evolución** de un sistema dinámico es una función que describe los futuros estados dado un estado actual. Normalmente las funciones son **deterministas**, es decir, para un intervalo de tiempo, sólo un futuro estado es posible, sin embargo, también existen sistemas **estocásticos**, en los cuales, eventos aleatorios también afectan la evolución de las variables de estado.\n",
    "\n",
    "En física, un sistema dinámico es decrito como _una partícula o con junto de  partículas cuyos estados varían en el tiempo, y por lo tanto obedecen ecuaciones diferenciales temporales_.\n",
    "Para obtener una predicción del comportamiento futuro del sistema, se busca una solución analítica de las ecuaciones que lo describen o se integran las ecuaciones en el tiempo a través de simulaciones numéricas."
   ]
  },
  {
   "cell_type": "code",
   "execution_count": null,
   "metadata": {},
   "outputs": [],
   "source": []
  }
 ],
 "metadata": {
  "kernelspec": {
   "display_name": "Julia 0.7.0-DEV",
   "language": "julia",
   "name": "julia-0.7"
  },
  "language_info": {
   "file_extension": ".jl",
   "mimetype": "application/julia",
   "name": "julia",
   "version": "0.7.0"
  }
 },
 "nbformat": 4,
 "nbformat_minor": 2
}
