{
 "cells": [
  {
   "cell_type": "markdown",
   "metadata": {},
   "source": [
    "## Tarea 10 Septiembre 19 (atrasada)"
   ]
  },
  {
   "cell_type": "markdown",
   "metadata": {
    "collapsed": true
   },
   "source": [
    "Editar las rutinas presentadas en esta clase para calcular la _derivada hacia adelante_ a orden más alto, pero en esta ocasión para el operador _derivada simetrizada_.\n",
    "* No olvide hacer el test de la rutina, similar a lo que se hizo en este notebook para el $cos$."
   ]
  },
  {
   "cell_type": "markdown",
   "metadata": {
    "collapsed": true
   },
   "source": [
    "## Cálculo automático de las diferencias finitas de $f(x)$ a ordenes más altos"
   ]
  },
  {
   "cell_type": "code",
   "execution_count": 2,
   "metadata": {},
   "outputs": [],
   "source": [
    "using SymPy"
   ]
  },
  {
   "cell_type": "code",
   "execution_count": 7,
   "metadata": {},
   "outputs": [
    {
     "name": "stderr",
     "output_type": "stream",
     "text": [
      "WARNING: Method definition coef_Taylor_asinh(Any) in module Main at In[5]:5 overwritten at In[7]:5.\n"
     ]
    }
   ],
   "source": [
    "## Se define la función que nos regresa los coeficientes de la expansión de Taylor para el arcoseno hiperbólico como números simbólicos\n",
    "\n",
    "function coef_Taylor_asinh(i)\n",
    "\n",
    "x=Sym(\"x\")\n",
    "h=Sym(\"h\")\n",
    "    \n",
    "## Se usa \"N\" para transformar el número simbólico (Sym) a uno flotante\n",
    "## Se usa \"diff(asinh(x/(2.0)),x,i)\" para calcular la i-ésima derivada y \"subs\" evaluarla en 0\n",
    "N(subs(diff(asinh(x/(2.0)),x,i)/factorial(Float64(i)),x=>0))\n",
    "end;\n"
   ]
  },
  {
   "cell_type": "code",
   "execution_count": 11,
   "metadata": {},
   "outputs": [
    {
     "name": "stderr",
     "output_type": "stream",
     "text": [
      "WARNING: Method definition coef_Taylor_asinh_rational(Any) in module Main at In[10]:5 overwritten at In[11]:5.\n"
     ]
    }
   ],
   "source": [
    "## Se define la función que nos regresa los coeficientes de la expansión de Taylor del arcoseno hiperbólico como números simbólicos\n",
    "\n",
    "function coef_Taylor_asinh_rational(i)\n",
    "\n",
    "x=Sym(\"x\");\n",
    "h=Sym(\"h\");    \n",
    "\n",
    "## Se usa \"diff(asinh(x/(2.0)),x,i)\" para calcular la i-ésima derivada y \"subs\" para evaluarla en 0\n",
    "subs(diff(asinh(x/2),x,i)/factorial(i),x=>0)\n",
    "end;"
   ]
  },
  {
   "cell_type": "code",
   "execution_count": 12,
   "metadata": {},
   "outputs": [
    {
     "data": {
      "text/plain": [
       "symmetric_difference (generic function with 1 method)"
      ]
     },
     "execution_count": 12,
     "metadata": {},
     "output_type": "execute_result"
    }
   ],
   "source": [
    "## Se define la función que nos regresa un función de dos variables, es decir, la diferencia simétrica f(x+h)-f(x-h)\n",
    "\n",
    "function symmetric_difference(f)\n",
    "    return (x,h)->f(x+h,h)-f(x-h,h)\n",
    "end"
   ]
  },
  {
   "cell_type": "code",
   "execution_count": 20,
   "metadata": {},
   "outputs": [
    {
     "name": "stderr",
     "output_type": "stream",
     "text": [
      "WARNING: Method definition Derivative_order(Any, Any, Any, Any) in module Main at In[14]:4 overwritten at In[20]:4.\n"
     ]
    },
    {
     "data": {
      "text/plain": [
       "Derivative_order (generic function with 1 method)"
      ]
     },
     "execution_count": 20,
     "metadata": {},
     "output_type": "execute_result"
    }
   ],
   "source": [
    "## Se define la función que regresa la derivada en \"x\", tomando un intervalo finito \"h\" y al orden en la serie de Taylor del arcoseno hiperbólico que seleccionesmos\n",
    "\n",
    "function Derivative_order(f,x,h,order)\n",
    "    g(x,h)=f(x)     ## Se define \"g\" como una función de dos variables, para usar la función symmetric_difference\n",
    "    der=0     ## Se toma el valor inicial de la derivada como 0, para ir sumando los demás términos\n",
    "    \n",
    "    for i in range(1,order)     ## El for es para tomar los términos hasta el orden indicado\n",
    "        g=symmetric_difference(g)\n",
    "        \n",
    "        der=der+coef_Taylor_asinh(i)*g(x,h)     ## Sumamos a \"der\" los términos de la expansión de Taylor y evaluando en la \n",
    "                                                 ## i-ésima \"potencia\" de la diferencia simétrica \n",
    "    end\n",
    "#Al final dividimos por el factor 1/h que se encontraba en la ecuación original\n",
    "    der/h\n",
    "end"
   ]
  },
  {
   "cell_type": "code",
   "execution_count": 21,
   "metadata": {},
   "outputs": [],
   "source": [
    "## Definamos ahora una función análoga a la de arriba, pero aque ahora, en vez de usar los coeficientes flotantes, se usen los simbólicos, de modo que regrese un número simbólico."
   ]
  },
  {
   "cell_type": "code",
   "execution_count": 22,
   "metadata": {},
   "outputs": [
    {
     "name": "stderr",
     "output_type": "stream",
     "text": [
      "WARNING: Method definition Derivative_order_rational_coefficients(Any, Any, Any, Any) in module Main at In[16]:2 overwritten at In[22]:2.\n"
     ]
    },
    {
     "data": {
      "text/plain": [
       "Derivative_order_rational_coefficients (generic function with 1 method)"
      ]
     },
     "execution_count": 22,
     "metadata": {},
     "output_type": "execute_result"
    }
   ],
   "source": [
    "function Derivative_order_rational_coefficients(f,x,h,order)\n",
    "    g(x,h)=f(x)\n",
    "    der=0\n",
    "    for i in range(1,order)\n",
    "        g=symmetric_difference(g)\n",
    "        der=der+coef_Taylor_asinh_rational(i)*g(x,h)\n",
    "    end\n",
    "    der/h\n",
    "end"
   ]
  },
  {
   "cell_type": "code",
   "execution_count": 23,
   "metadata": {},
   "outputs": [],
   "source": [
    "## Probemos ahora el método con la función \"f(x)=cos(x)\", cuya derivada es \"-sin(x)\".\n",
    "## Tomemos h=0.01, x=0.5 y pidamos hasta el término de orden 10."
   ]
  },
  {
   "cell_type": "code",
   "execution_count": 24,
   "metadata": {},
   "outputs": [
    {
     "name": "stderr",
     "output_type": "stream",
     "text": [
      "WARNING: Method definition f(Any) in module Main at In[18]:1 overwritten at In[24]:1.\n"
     ]
    },
    {
     "data": {
      "text/plain": [
       "f (generic function with 1 method)"
      ]
     },
     "execution_count": 24,
     "metadata": {},
     "output_type": "execute_result"
    }
   ],
   "source": [
    "f(x)=cos(x)"
   ]
  },
  {
   "cell_type": "code",
   "execution_count": 25,
   "metadata": {},
   "outputs": [
    {
     "data": {
      "text/plain": [
       "-0.47942553860419873"
      ]
     },
     "execution_count": 25,
     "metadata": {},
     "output_type": "execute_result"
    }
   ],
   "source": [
    "Derivative_order(f,0.5,0.01,10)"
   ]
  },
  {
   "cell_type": "code",
   "execution_count": 26,
   "metadata": {},
   "outputs": [],
   "source": [
    "## Revisemos con la derivada"
   ]
  },
  {
   "cell_type": "code",
   "execution_count": 27,
   "metadata": {},
   "outputs": [
    {
     "data": {
      "text/plain": [
       "-0.479425538604203"
      ]
     },
     "execution_count": 27,
     "metadata": {},
     "output_type": "execute_result"
    }
   ],
   "source": [
    "-sin(0.5)"
   ]
  },
  {
   "cell_type": "code",
   "execution_count": null,
   "metadata": {},
   "outputs": [],
   "source": [
    "## Bastante excto"
   ]
  }
 ],
 "metadata": {
  "kernelspec": {
   "display_name": "Julia 0.5.2",
   "language": "julia",
   "name": "julia-0.5"
  },
  "language_info": {
   "file_extension": ".jl",
   "mimetype": "application/julia",
   "name": "julia",
   "version": "0.5.2"
  }
 },
 "nbformat": 4,
 "nbformat_minor": 2
}
