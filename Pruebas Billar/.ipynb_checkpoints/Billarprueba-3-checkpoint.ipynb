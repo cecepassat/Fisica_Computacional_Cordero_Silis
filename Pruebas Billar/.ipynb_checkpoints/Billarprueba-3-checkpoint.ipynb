{
 "cells": [
  {
   "cell_type": "markdown",
   "metadata": {},
   "source": [
    "## Una Dimension"
   ]
  },
  {
   "cell_type": "markdown",
   "metadata": {},
   "source": [
    "Vamos a hacer dos listas de reales de 1000 elementoas cada una en la que en la primer lista (list[]) vamos a guardar todas las posiciones de la partiicula ty en la lista t[] vamos a guardar todos los tiempos."
   ]
  },
  {
   "cell_type": "code",
   "execution_count": 1,
   "metadata": {
    "collapsed": true
   },
   "outputs": [],
   "source": [
    "using PyPlot"
   ]
  },
  {
   "cell_type": "code",
   "execution_count": 2,
   "metadata": {
    "collapsed": true
   },
   "outputs": [],
   "source": [
    "list=zeros(1000);\n",
    "x=0;\n",
    "t=linspace(0,10,1000);\n",
    "\n",
    "for i in 1:1000\n",
    "    x=2t[i] #v=2\n",
    "    list[i]=x;   \n",
    "end"
   ]
  },
  {
   "cell_type": "markdown",
   "metadata": {},
   "source": [
    "Vamos a buscar en que punto la posicion de la particula cpincide con las coordenadas de la barrera"
   ]
  },
  {
   "cell_type": "code",
   "execution_count": 4,
   "metadata": {},
   "outputs": [
    {
     "name": "stdout",
     "output_type": "stream",
     "text": [
      "3.1431431431431434      yyyy    1.5715715715715717\n"
     ]
    }
   ],
   "source": [
    "b=3.141323 #definimos la posición de la barrera, en este caso puntual\n",
    "err=0.01\n",
    "for i in 1:1000\n",
    "    if abs(list[i]-b)<err # aqui vemos si la diferencia de coordenadas es menos a una epsilon\n",
    "        println(list[i],\"      yyyy    \", t[i])\n",
    "    end\n",
    "end"
   ]
  },
  {
   "cell_type": "code",
   "execution_count": 5,
   "metadata": {},
   "outputs": [
    {
     "name": "stdout",
     "output_type": "stream",
     "text": [
      "0.0   y   0.990990990990991\n"
     ]
    }
   ],
   "source": [
    "println(list[1],\"   y   \", t[100]) # por último imprimimos las coordenadas y el tiempo en el que choca."
   ]
  },
  {
   "cell_type": "markdown",
   "metadata": {
    "collapsed": true
   },
   "source": [
    "## Dos dimensiones"
   ]
  },
  {
   "cell_type": "markdown",
   "metadata": {},
   "source": [
    "Definimos una lista con las velocidades para y y x: SPG consideramos $v_x =2$ y $v_y=4$"
   ]
  },
  {
   "cell_type": "code",
   "execution_count": 208,
   "metadata": {
    "collapsed": true
   },
   "outputs": [],
   "source": [
    "posx=zeros(1000); #posicion en x\n",
    "posy=zeros(1000);#posicion en y\n",
    "x=0.;#posicion en x\n",
    "y=0.;#posicion en y\n",
    "vx=1. #velocidad en x\n",
    "vy=0.5 #velocidad en y\n",
    "t=linspace(0,10,1000);\n",
    "\n",
    "for i in 1:1000\n",
    "    x=vx*t[i] #v=2\n",
    "    y=vy*t[i] #v=2\n",
    "    posx[i]=x;\n",
    "    posy[i]=y;\n",
    "    \n",
    "end"
   ]
  },
  {
   "cell_type": "code",
   "execution_count": 209,
   "metadata": {},
   "outputs": [
    {
     "data": {
      "image/png": "[encoded data removed]",
      "text/plain": [
       "PyPlot.Figure(PyObject <matplotlib.figure.Figure object at 0x133574d50>)"
      ]
     },
     "metadata": {},
     "output_type": "display_data"
    }
   ],
   "source": [
    "plot(posx, posy)\n",
    "ylim(-10,10);\n",
    "grid(\"on\")"
   ]
  },
  {
   "cell_type": "markdown",
   "metadata": {},
   "source": [
    "Vamos a definir la barrera en las coordenadas x=15.0"
   ]
  },
  {
   "cell_type": "code",
   "execution_count": 210,
   "metadata": {
    "collapsed": true
   },
   "outputs": [],
   "source": [
    "listBarr=zeros(1000);\n",
    "posBarr=15.0\n",
    "t=linspace(0,10,1000);\n",
    "\n",
    "for i in 1:1000\n",
    "    listBarr[i]=posBarr  \n",
    "end"
   ]
  },
  {
   "cell_type": "markdown",
   "metadata": {},
   "source": [
    "Basta con tener la pos barra wen x"
   ]
  },
  {
   "cell_type": "code",
   "execution_count": 211,
   "metadata": {},
   "outputs": [
    {
     "name": "stdout",
     "output_type": "stream",
     "text": [
      "posx                   ----            posy            ----         tiempo\n",
      "5.195195195195195      ----    2.5975975975975976      ----    5.195195195195195\n"
     ]
    }
   ],
   "source": [
    "posBarrx=5.2 #definimos la posición de la barrera en x, en este caso puntual\n",
    "#posBarry= #definimos la posición de la barrera en x, en este caso puntual\n",
    "err=0.005\n",
    "it=0\n",
    "for i in 1:1000\n",
    "    if abs(posx[i]-posBarrx)<err # aqui vemos si la diferencia de coordenadas es menos a una epsilon\n",
    "        it=i #pos. choq\n",
    "        println(\"posx\",\"                   ----    \",\"        posy\",\"            ----    \", \"     tiempo\")\n",
    "        println(posx[i],\"      ----    \",posy[i],\"      ----    \", t[i]) \n",
    "    end\n",
    "end\n",
    "x02=posx[it];\n",
    "y02=posy[it];"
   ]
  },
  {
   "cell_type": "markdown",
   "metadata": {},
   "source": [
    "#### Veamos el ángulo deflectado"
   ]
  },
  {
   "cell_type": "markdown",
   "metadata": {},
   "source": [
    "tomemos posx[i] y posy[i], en este caso la la derivada de la ecuacion que parametriza la linea es x=5.5"
   ]
  },
  {
   "cell_type": "code",
   "execution_count": 217,
   "metadata": {},
   "outputs": [
    {
     "data": {
      "text/plain": [
       "0.4636476090008061"
      ]
     },
     "execution_count": 217,
     "metadata": {},
     "output_type": "execute_result"
    }
   ],
   "source": [
    "ang=atan(posy[i]/posx[i])"
   ]
  },
  {
   "cell_type": "code",
   "execution_count": 227,
   "metadata": {},
   "outputs": [
    {
     "name": "stdout",
     "output_type": "stream",
     "text": [
      "x                               y                    tiempo\n",
      "-1.0                           0.5                   10.0\n"
     ]
    }
   ],
   "source": [
    "if 0<ang<3.14\n",
    "    vx2=-vx\n",
    "    vy2=vy\n",
    "    println(\"x\",\"                       \",\"        y\",\"               \", \"     tiempo\")\n",
    "    println(-vx,\"                           \",vy,\"                   \", t[i]    )\n",
    "end"
   ]
  },
  {
   "cell_type": "code",
   "execution_count": 228,
   "metadata": {
    "collapsed": true
   },
   "outputs": [],
   "source": [
    "posx2=zeros(1000); #posicion en x\n",
    "posy2=zeros(1000);#posicion en y\n",
    "#x02=0.;#posicion en x         ya se definio\n",
    "#y02=0.;#posicion en y         Ya se definieron las dos\n",
    "\n",
    "t=linspace(0,10,1000);\n",
    "\n",
    "for i in 1:1000\n",
    "    x=x02+vx2*t[i] #v=2\n",
    "    y=y02+vy2*t[i] #v=2\n",
    "    posx2[i]=x;\n",
    "    posy2[i]=y;\n",
    "    \n",
    "end"
   ]
  },
  {
   "cell_type": "code",
   "execution_count": 229,
   "metadata": {},
   "outputs": [
    {
     "data": {
      "image/png": "[encoded data removed]",
      "text/plain": [
       "PyPlot.Figure(PyObject <matplotlib.figure.Figure object at 0x1373c57d0>)"
      ]
     },
     "metadata": {},
     "output_type": "display_data"
    }
   ],
   "source": [
    "plot(posx2, posy2)\n",
    "plot(posx, posy)\n",
    "ylim(-5,6);\n",
    "xlim(-5,7);\n",
    "grid(\"on\")"
   ]
  },
  {
   "cell_type": "code",
   "execution_count": 127,
   "metadata": {},
   "outputs": [
    {
     "ename": "LoadError",
     "evalue": "\u001b[91mUndefVarError: rect not defined\u001b[39m",
     "output_type": "error",
     "traceback": [
      "\u001b[91mUndefVarError: rect not defined\u001b[39m",
      "",
      "Stacktrace:",
      " [1] \u001b[1minclude_string\u001b[22m\u001b[22m\u001b[1m(\u001b[22m\u001b[22m::String, ::String\u001b[1m)\u001b[22m\u001b[22m at \u001b[1m./loading.jl:515\u001b[22m\u001b[22m"
     ]
    }
   ],
   "source": [
    "listBarr=zeros(1000);\n",
    "posBarrV1=15.0\n",
    "posBarrV2=15.0\n",
    "posBarrH1=15.0\n",
    "posBarrH2=15.0\n",
    "t=linspace(0,10,1000);\n",
    "\n",
    "\n",
    "rect\n",
    "for i in 1:1000\n",
    "    listBarr[i]=posBarr  \n",
    "end"
   ]
  },
  {
   "cell_type": "code",
   "execution_count": 128,
   "metadata": {
    "collapsed": true
   },
   "outputs": [],
   "source": [
    "posx2=zeros(1000); #posicion en x\n",
    "posy2=zeros(1000);#posicion en y\n",
    "#x02=0.;#posicion en x         ya se definio\n",
    "#y02=0.;#posicion en y         Ya se definieron las dos\n",
    "\n",
    "t=linspace(0,10,1000);\n",
    "\n",
    "for i in 1:1000\n",
    "    x=x02+vx2*t[i] #v=2\n",
    "    y=y02+vy2*t[i] #v=2\n",
    "    posx2[i]=x;\n",
    "    posy2[i]=y; \n",
    "end"
   ]
  },
  {
   "cell_type": "code",
   "execution_count": 189,
   "metadata": {},
   "outputs": [
    {
     "ename": "LoadError",
     "evalue": "\u001b[91mBoundsError: attempt to access 1000-element Array{Float64,1} at index [0]\u001b[39m",
     "output_type": "error",
     "traceback": [
      "\u001b[91mBoundsError: attempt to access 1000-element Array{Float64,1} at index [0]\u001b[39m",
      "",
      "Stacktrace:",
      " [1] \u001b[1mgetindex\u001b[22m\u001b[22m\u001b[1m(\u001b[22m\u001b[22m::Array{Float64,1}, ::Int64\u001b[1m)\u001b[22m\u001b[22m at \u001b[1m./array.jl:520\u001b[22m\u001b[22m",
      " [2] \u001b[1minclude_string\u001b[22m\u001b[22m\u001b[1m(\u001b[22m\u001b[22m::String, ::String\u001b[1m)\u001b[22m\u001b[22m at \u001b[1m./loading.jl:515\u001b[22m\u001b[22m"
     ]
    }
   ],
   "source": [
    "posBarrx1=5.1 #deilimitamos al rectangulo\n",
    "posBarrx2=-5.1 \n",
    "posBarry1=4.4\n",
    "posBarry2=-4.4\n",
    "\n",
    "err=0.001\n",
    "it=0  #iteracion\n",
    "\n",
    "\n",
    "for i in 1:1000\n",
    "    \n",
    "    if abs(posx2[i]-posBarrx1)<err  || abs(posx2[i]-posBarrx2)<err|| \n",
    "        abs(posy2[i]-posBarry1)<err || abs(posy2[i]-posBarry2)<err\n",
    "        \n",
    "        it=i #pos. choq\n",
    "        println(\"      posx\",\"              ----    \",\"      posy\",\"             ----    \", \"      tiempo\")\n",
    "        println(posx2[i],\"      ----    \",posy2[i],\"      ----    \", t[i]) \n",
    "        \n",
    "    end \n",
    "end\n",
    "\n",
    "\n",
    "x02=posx[it];\n",
    "y02=posy[it];"
   ]
  },
  {
   "cell_type": "code",
   "execution_count": 190,
   "metadata": {},
   "outputs": [
    {
     "data": {
      "image/png": "[encoded data removed]",
      "text/plain": [
       "PyPlot.Figure(PyObject <matplotlib.figure.Figure object at 0x136e2a8d0>)"
      ]
     },
     "metadata": {},
     "output_type": "display_data"
    }
   ],
   "source": [
    "plot(posx2, posy2)\n",
    "plot(posx, posy)\n",
    "\n",
    "ylim(-4.3,4.5);\n",
    "xlim(-5.2,5.3);\n",
    "grid(\"on\")"
   ]
  },
  {
   "cell_type": "code",
   "execution_count": 171,
   "metadata": {
    "collapsed": true
   },
   "outputs": [],
   "source": [
    "posx2=zeros(1000); #posicion en x\n",
    "posy2=zeros(1000);#posicion en y\n",
    "x0=0.;#posicion en x         ya se definio\n",
    "y0=0.;#posicion en y         Ya se definieron las dos\n",
    "vx=3\n",
    "vy=2\n",
    "t=linspace(0,10,1000);\n",
    "\n",
    "for i in 1:1000\n",
    "    x=x0+vx*t[i] #v=2\n",
    "    y=y0+vy*t[i] #v=2\n",
    "    posx[i]=x;\n",
    "    posy[i]=y; \n",
    "end"
   ]
  },
  {
   "cell_type": "code",
   "execution_count": 198,
   "metadata": {},
   "outputs": [
    {
     "name": "stdout",
     "output_type": "stream",
     "text": [
      "       x                           y                        Tiempo\n",
      "\n",
      "8.7987987987988             4.3993993993994             8.7987987987988\n"
     ]
    }
   ],
   "source": [
    "posBarrx1=5.1 #deilimitamos al rectangulo\n",
    "posBarrx2=-5.1 \n",
    "posBarry1=4.4\n",
    "posBarry2=-4.4\n",
    "\n",
    "err=0.001\n",
    "it=0  #iteracion\n",
    "\n",
    "for i in 1:1000\n",
    "    if  abs(posx[i]-posBarrx1)<err  || abs(posx[i]-posBarrx2)<err|| \n",
    "        abs(posy[i]-posBarry1)<err || abs(posy[i]-posBarry2)<err\n",
    "        \n",
    "        println(\"       x\",\"                     \",\"      y\",\"                    \", \"    Tiempo\")\n",
    "        println(\"\")\n",
    "        println(posx[i],\"             \",posy[i],\"             \", t[i]) \n",
    "        it=i #iteracion en la que chocan\n",
    "    end \n",
    "end\n",
    "x0=posx[it];\n",
    "y0=posy[it];"
   ]
  },
  {
   "cell_type": "code",
   "execution_count": 207,
   "metadata": {},
   "outputs": [
    {
     "name": "stdout",
     "output_type": "stream",
     "text": [
      "       x                           y                        Tiempo\n",
      "\n",
      "8.7987987987988             4.3993993993994             0.0\n",
      "       x                           y                        Tiempo\n",
      "\n",
      "8.7987987987988             4.3993993993994             0.0\n"
     ]
    }
   ],
   "source": [
    "posBarrx1=5.1 #deilimitamos al rectangulo\n",
    "posBarrx2=-5.1 \n",
    "posBarry1=4.4\n",
    "posBarry2=-4.4\n",
    "\n",
    "err=0.001\n",
    "it=0  #iteracion\n",
    "\n",
    "for j in 1:2\n",
    "    \n",
    "   for i in 1:1000\n",
    "    x=x0+vx*t[i] #v=2\n",
    "    y=y0+vy*t[i] #v=2\n",
    "    posx[i]=x;\n",
    "    posy[i]=y; \n",
    "end \n",
    "    \n",
    "    for i in 1:1000\n",
    "    if  abs(posx[i]-posBarrx1)<err  || abs(posx[i]-posBarrx2)<err|| \n",
    "        abs(posy[i]-posBarry1)<err || abs(posy[i]-posBarry2)<err\n",
    "        \n",
    "        println(\"       x\",\"                     \",\"      y\",\"                    \", \"    Tiempo\")\n",
    "        println(\"\")\n",
    "        println(posx[i],\"             \",posy[i],\"             \", t[i]) \n",
    "        it=i #iteracion en la que chocan\n",
    "    end \n",
    "end\n",
    "    \n",
    "x0=posx[it];\n",
    "y0=posy[it];\n",
    "vx=-vx\n",
    "\n",
    "    \n",
    "    \n",
    "    \n",
    "    \n",
    "    \n",
    "    end "
   ]
  },
  {
   "cell_type": "code",
   "execution_count": null,
   "metadata": {
    "collapsed": true
   },
   "outputs": [],
   "source": []
  }
 ],
 "metadata": {
  "kernelspec": {
   "display_name": "Julia 0.6.0",
   "language": "julia",
   "name": "julia-0.6"
  },
  "language_info": {
   "file_extension": ".jl",
   "mimetype": "application/julia",
   "name": "julia",
   "version": "0.6.0"
  }
 },
 "nbformat": 4,
 "nbformat_minor": 2
}
