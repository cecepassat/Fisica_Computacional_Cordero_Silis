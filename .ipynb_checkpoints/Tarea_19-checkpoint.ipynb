{
 "cells": [
  {
   "cell_type": "markdown",
   "metadata": {},
   "source": [
    "## Formación del sistema de ecuaciones\n",
    "\n",
    "__Problema de Dirichlet:__ Un problema de Dirichlet consiste en encontrar la solución de una ecuación diferencial parcial donde las condiciones a la frontera estan definidas por el valor del campo.\n",
    "\n",
    "__Ejercicio1__: Escriba la forma del operador laplaciano utilizando diferencias finitas simétricas. Es decir, discretice: $\\nabla^2=\\frac{\\partial^2 f}{\\partial x^2}+\\frac{\\partial^2 f}{\\partial y^2}+\\frac{\\partial^2 f}{\\partial z^2}$\n"
   ]
  },
  {
   "cell_type": "markdown",
   "metadata": {},
   "source": [
    "Consideremos una función de $R\\longleftarrow R$ y denotémosla por f(x), la derivada simétrica de la función $f$ (usando diferencias finitas), se escribe como:\n",
    "\n",
    "$$ f'(x)=\\frac{f(x+h)-f(x-h)}{2h} $$\n",
    "\n",
    "Consideremos ahora el cambio de variable $h = \\frac{h}{2}$ y volvamos apaplicar la derivada simétrica:\n",
    "\n",
    "$$ f''(x)=\\frac{f'(x+h/2)-f'(x-h/2)}{h} $$\n",
    "$$ =\\frac{1}{h} \\left( \\frac{f(x+h)-f(x)}{h}-\\frac{f(x)-f(x-h)}{h}\\right) $$\n",
    "\n",
    "De donde llegamos a que:\n",
    "\n",
    "$$ f''(x)=\\frac{f(x+h)-2f(x)+f(x-h)}{h^2} $$\n",
    "\n",
    "Ahora, consideremos una función de 3 variables, $f=f(x,y,z)$\n",
    "\n",
    "Entonces, podemos realizar de forma análoga el proceso anterior, obteniendo:\n",
    "\n",
    "$$ \\frac{\\partial^{2} f}{\\partial x^{2}}=\\frac{f( x+h,y,z )-2f( x,y,z )+f( x-h,y,z )}{h^2} $$\n",
    "$$ \\frac{\\partial^{2} f}{\\partial y^{2}}=\\frac{f( x,y+h,z )-2f( x,y,z )+f( x,y-h,z )}{h^2} $$\n",
    "$$ \\frac{\\partial^{2} f}{\\partial z^{2}}=\\frac{f( x,y,z+h )-2f( x,y,z )+f( x,y,z-h )}{h^2} $$\n",
    "\n",
    "Y de que:\n",
    "$$ \\nabla^{2}f=\\frac{\\partial^{2} f}{\\partial x^{2}}+\\frac{\\partial^{2} f}{\\partial y^{2}}+\\frac{\\partial^{2} f}{\\partial z^{2}} $$ \n",
    "\n",
    "Entonces:\n",
    "\n",
    "$$ \\nabla^{2}f= \\frac{f(x+h,y,z)+ f(x-h,y,z)+f(x,y+h,z)+f(x,y-h,z)+f(x,y,z+h)+f(x,y,z-h)-6f(x,y,z)}{h^{2}} $$\n",
    "\n",
    "Lo que es justo el operador Laplaciano aplicado a una función dependiente de 3 variables."
   ]
  },
  {
   "cell_type": "code",
   "execution_count": null,
   "metadata": {},
   "outputs": [],
   "source": []
  },
  {
   "cell_type": "markdown",
   "metadata": {},
   "source": [
    "__Ejercicio 2 (condiciones a la frontera de Dirichlet)__. Discretice la ecuación \n",
    "$$ \\frac{d^2f}{dx^2}, $$\n",
    "en el intervalo $[0,1]$, y aplicando el operador laplaciano discretizado obtenga el sistema de ecuaciones algebraicas lineales correspondientes al problema de _Dirichlet_:\n",
    "$f(0) = a$ y $f(1) = b$ dividiendo el intervalo $[0,1]$ en $5$ puntos separados por $h$.\n",
    "\n",
    "* Escriba el sistema lineal de ecuaciones que surge, usando $\\LaTeX$ en el _notebook_ de la tarea que sigue."
   ]
  },
  {
   "cell_type": "markdown",
   "metadata": {},
   "source": [
    "Consideremos la ecuación propuesta y que sólo depende de la variable $x$\n",
    "Usemos entonces que $\\frac{d^{2}f}{dx^{2}}=\\frac{f(x+h)-2f(x)+f(x-h)}{h^2}$\n",
    "\n",
    "Discretizando en el intervalo $[0,1]$, dividiendo en 5 puntos separados por $h=0.25$, tenemos los siguientes subintervalos:\n",
    "\n",
    "\n",
    "\\begin{eqnarray}\n",
    "\n",
    "x_1 &= 0\\\\\n",
    "x_2 &= 0.25\\\\\n",
    "x_3 &= 0.5\\\\\n",
    "x_4 &= 0.75\\\\\n",
    "x_5 &= 1\\\\\n",
    "\n",
    "\\end{eqnarray}\n",
    "\n",
    "Ahora, sea $f_{i}=f(x_{i})$  $(con $i\\in(1,5)$. Entonces, de que $x_{i+1} = x_{i} + h$, podemos escribir la ecuación como:\n",
    "\n",
    "$$ \\frac{f_{i+1} - 2f_{i} + f_{i-1}}{h^{2}}=0 $$\n",
    "\n",
    "Entonces, para $ i=2 $ tenemos que:\n",
    "\n",
    "$ f_{3}-2f_{2}+f_{1}=0 $, pero $f_{1} = f(x_{1}) = f(0) = a$, de donde llegamos a que $ f_{3} - 2f_{2} + a = 0 $\n",
    "\n",
    "Analogamente para 3 y 4 llegamos al siguiente sistema de ecuaciones:\n",
    "\n",
    "\\begin{eqnarray}\n",
    "\n",
    "f_{3} - 2f_{2} + a & = 0\\\\\n",
    "f_{4} - 2f_{3} + f_{2} & = 0\\\\\n",
    "-2f_{4} + f_{3} + b & = 0\\\\\n",
    "\n",
    "\\end{eqnarray}"
   ]
  },
  {
   "cell_type": "code",
   "execution_count": null,
   "metadata": {},
   "outputs": [],
   "source": []
  },
  {
   "cell_type": "markdown",
   "metadata": {},
   "source": [
    "__Ejercicio 3 (condiciones a la frontera de Neumann)__. Hacer lo mismo para condiciones de _Neumann_, es decir, fijando en los extremos el valor de la primera derivada de la función. Para esto utilice la derivada _hacia adeltante_ en las orillas, es decir, si $f'(0)=a$ y $f'(1)=b$, entonces $(f_1-f_0)/h=a$, etc. No olvide que debe resultar un sistema de ecuación cuya dimensión sea el número de incognitas.\n",
    "\n",
    "* Escriba el sistema lineal de ecuaciones que surge, usando $\\LaTeX$ en el _notebook_ de la tarea que sigue."
   ]
  },
  {
   "cell_type": "markdown",
   "metadata": {},
   "source": [
    "Como propone el enunciado, comenzaremos con la derivada _hacia adelante_ en la orilla donde $x_{1}=0$, tenemos entonces que:\n",
    "\n",
    "$$ f'(0) = f'(x_{1}) = \\frac{f(x_{1} + h) - f(x_{1})}{h} = \\frac{f_{2} - f_{1}}{h}$$\n",
    "\n",
    "Pero $ f'(0)=a $, entonces, $ f_{2}-f_{1}-ah=0 $\n",
    "\n",
    "Y usando que $\\frac{f_{i + 1} - 2f_{i} + f_{i - 1}}{h^{2}}=0$ (esto para i=2,3,4), implica que:\n",
    "\n",
    "\\begin{eqnarray}\n",
    "f_{3} - 2f_{2} + f_{1} &= 0\\\\\n",
    "f_{4} - 2f_{3} + f_{2} &= 0\\\\\n",
    "f_{5} - 2f_{4} + f_{3} &= 0\n",
    "\\end{eqnarray}\n",
    "\n",
    "Ahora aplicaremos la derivada _hacia atrás_ en la orilla de la derecha:\n",
    "\n",
    "$$ f'(1) = f'(x_{5}) = \\frac{f(x_{5}) - f(x_{5} - h)}{h} = \\frac{f_{5} - f_{4}}{h} $$\n",
    "\n",
    "Y de que $ f'(1)=b $, entonces $ f_{5} - f_{4} - bh = 0 $\n",
    "\n",
    "Por lo que llegamos al siguiente sistema de ecuaciones:\n",
    "\n",
    "\\begin{eqnarray}\n",
    "f_{2} - f_{1} - ah &= 0\\\\\n",
    "f_{3} - 2f_{2} + f_{1} &= 0\\\\\n",
    "f_{4} - 2f_{3} + f_{2} &= 0\\\\\n",
    "f_{5} - 2f_{4} + f_{3} &= 0\\\\\n",
    "f_{5} - f_{4} - bh &= 0\n",
    "\\end{eqnarray}"
   ]
  },
  {
   "cell_type": "code",
   "execution_count": null,
   "metadata": {},
   "outputs": [],
   "source": []
  },
  {
   "cell_type": "markdown",
   "metadata": {},
   "source": [
    "__Ejercicio 4 (indexación)__. `Julia` es más eficiente\n",
    "si se utiliza un único índice para acceder a los elementos\n",
    "de una matriz, además que puede simplificar algunos problemas. Escribe una función $\\phi$ que traduzca un par de\n",
    "índices $i,j$ a un único índice $k$, es decir:\n",
    "$$\\phi: (i,j) \\mapsto k.$$\n",
    "También encuentren $\\phi^{-1}$. Note que $\\phi$ deberá depender de las dimensiones del arreglo, por lo menos de una de ellas."
   ]
  },
  {
   "cell_type": "markdown",
   "metadata": {},
   "source": []
  },
  {
   "cell_type": "code",
   "execution_count": null,
   "metadata": {},
   "outputs": [],
   "source": []
  }
 ],
 "metadata": {
  "kernelspec": {
   "display_name": "Julia 0.7.0-DEV",
   "language": "julia",
   "name": "julia-0.7"
  },
  "language_info": {
   "file_extension": ".jl",
   "mimetype": "application/julia",
   "name": "julia",
   "version": "0.7.0"
  }
 },
 "nbformat": 4,
 "nbformat_minor": 2
}
